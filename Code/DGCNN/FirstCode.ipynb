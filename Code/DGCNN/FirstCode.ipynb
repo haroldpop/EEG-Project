{
 "cells": [
  {
   "cell_type": "markdown",
   "id": "52de996c",
   "metadata": {},
   "source": [
    "My work is greatly inspired by the written paper by Tengfei Song et al avalailable [here](https://ieeexplore.ieee.org/stamp/stamp.jsp?tp=&arnumber=8320798&tag=1)."
   ]
  },
  {
   "cell_type": "markdown",
   "id": "2a49eccc",
   "metadata": {},
   "source": [
    "### Data exploration"
   ]
  },
  {
   "cell_type": "code",
   "execution_count": 2,
   "id": "db605869",
   "metadata": {},
   "outputs": [],
   "source": [
    "from scipy.io import loadmat\n",
    "import numpy as np\n",
    "import matplotlib.pyplot as plt"
   ]
  },
  {
   "cell_type": "markdown",
   "id": "072d1495",
   "metadata": {},
   "source": [
    "#### Gather all files"
   ]
  },
  {
   "cell_type": "code",
   "execution_count": 3,
   "id": "d1071528",
   "metadata": {},
   "outputs": [
    {
     "name": "stdout",
     "output_type": "stream",
     "text": [
      "C:\\Users\\harol\\UsefulCode\\CP_DSAI\\Project\n",
      "There are fifiteen trials for each experiment. The labels of all trials are 1,0,-1,-1,0,1,-1,0,1,1,0,-1,0,1,-1, where 1 for positive, 0 for neutral and -1 for negative.\n",
      "\n",
      "For more detailed description of this dataset, please see http://bcmi.sjtu.edu.cn/~seed/\n",
      "\n",
      "\n",
      "\n",
      "If you use this dataset, please cite the following paper:\n",
      "\n",
      "\"Investigating Critical Frequency Bands and Channels for EEG-based Emotion Recognition with Deep Neural Networks\", Wei-Long Zheng, and Bao-Liang Lu, IEEE Transactions on Autonomous Mental Development (IEEE TAMD), 2015.\n"
     ]
    },
    {
     "data": {
      "text/plain": [
       "['10_20131130.mat',\n",
       " '10_20131204.mat',\n",
       " '10_20131211.mat',\n",
       " '11_20140618.mat',\n",
       " '11_20140625.mat',\n",
       " '11_20140630.mat',\n",
       " '12_20131127.mat',\n",
       " '12_20131201.mat',\n",
       " '12_20131207.mat',\n",
       " '13_20140527.mat',\n",
       " '13_20140603.mat',\n",
       " '13_20140610.mat',\n",
       " '14_20140601.mat',\n",
       " '14_20140615.mat',\n",
       " '14_20140627.mat',\n",
       " '15_20130709.mat',\n",
       " '15_20131016.mat',\n",
       " '15_20131105.mat',\n",
       " '1_20131027.mat',\n",
       " '1_20131030.mat',\n",
       " '1_20131107.mat',\n",
       " '2_20140404.mat',\n",
       " '2_20140413.mat',\n",
       " '2_20140419.mat',\n",
       " '3_20140603.mat',\n",
       " '3_20140611.mat',\n",
       " '3_20140629.mat',\n",
       " '4_20140621.mat',\n",
       " '4_20140702.mat',\n",
       " '4_20140705.mat',\n",
       " '5_20140411.mat',\n",
       " '5_20140418.mat',\n",
       " '5_20140506.mat',\n",
       " '6_20130712.mat',\n",
       " '6_20131016.mat',\n",
       " '6_20131113.mat',\n",
       " '7_20131027.mat',\n",
       " '7_20131030.mat',\n",
       " '7_20131106.mat',\n",
       " '8_20140511.mat',\n",
       " '8_20140514.mat',\n",
       " '8_20140521.mat',\n",
       " '9_20140620.mat',\n",
       " '9_20140627.mat',\n",
       " '9_20140704.mat',\n",
       " 'label.mat']"
      ]
     },
     "execution_count": 3,
     "metadata": {},
     "output_type": "execute_result"
    }
   ],
   "source": [
    "import os \n",
    "print(os.getcwd())\n",
    "path = r'C:\\Users\\harol\\UsefulCode\\CP_DSAI\\Project\\Dataset\\SEED\\Preprocessed_EEG'\n",
    "list_mat_pre = os.listdir(path)\n",
    "with open(path + '\\\\' + 'readme.txt') as readme :\n",
    "    for line in readme:\n",
    "        print(line)\n",
    "readme.close()\n",
    "list_mat_pre.remove('readme.txt')\n",
    "#list_mat_file contains all interessant files for our research\n",
    "list_mat_pre"
   ]
  },
  {
   "cell_type": "code",
   "execution_count": 4,
   "id": "8c049e14",
   "metadata": {},
   "outputs": [
    {
     "data": {
      "text/plain": [
       "array([[ 1,  0, -1, -1,  0,  1, -1,  0,  1,  1,  0, -1,  0,  1, -1]],\n",
       "      dtype=int16)"
      ]
     },
     "execution_count": 4,
     "metadata": {},
     "output_type": "execute_result"
    }
   ],
   "source": [
    "label_ = loadmat(path + '\\\\' + list_mat_pre[-1])\n",
    "label_['label']"
   ]
  },
  {
   "cell_type": "markdown",
   "id": "9ce0763b",
   "metadata": {},
   "source": [
    "#### Load .mat file "
   ]
  },
  {
   "cell_type": "code",
   "execution_count": 5,
   "id": "db33d5a2",
   "metadata": {},
   "outputs": [
    {
     "name": "stdout",
     "output_type": "stream",
     "text": [
      "10_20131130.mat\n",
      "dict_keys(['__header__', '__version__', '__globals__', 'ww_eeg1', 'ww_eeg2', 'ww_eeg3', 'ww_eeg4', 'ww_eeg5', 'ww_eeg6', 'ww_eeg7', 'ww_eeg8', 'ww_eeg9', 'ww_eeg10', 'ww_eeg11', 'ww_eeg12', 'ww_eeg13', 'ww_eeg14', 'ww_eeg15'])\n"
     ]
    }
   ],
   "source": [
    "from scipy.io import loadmat\n",
    "ex = list_mat_pre[0]\n",
    "print(ex)\n",
    "data_pre = loadmat(path +'\\\\' + ex)\n",
    "print(data_pre.keys())"
   ]
  },
  {
   "cell_type": "code",
   "execution_count": 133,
   "id": "447a830a",
   "metadata": {},
   "outputs": [
    {
     "name": "stdout",
     "output_type": "stream",
     "text": [
      "(62, 46601)\n"
     ]
    }
   ],
   "source": [
    "print(data_pre['ww_eeg2'].shape)"
   ]
  },
  {
   "cell_type": "markdown",
   "id": "5f1e09dc",
   "metadata": {},
   "source": [
    "Each experiment was conducted with 15 sequeces videos, that's why we got 15 ww_eeg. For each experiment, 62 channels was used as EEG system, that's why each file ww_eeg got 62 rows. Each rows correspond to a channel. \n",
    "\n",
    "The order of the channel in the numpy array is the same than in an excel file given with the dataset"
   ]
  },
  {
   "cell_type": "code",
   "execution_count": 6,
   "id": "2e8adcdb",
   "metadata": {},
   "outputs": [
    {
     "data": {
      "image/png": "[encoded data removed]",
      "text/plain": [
       "<Figure size 432x288 with 1 Axes>"
      ]
     },
     "metadata": {
      "needs_background": "light"
     },
     "output_type": "display_data"
    }
   ],
   "source": [
    "eeg15 = data_pre['ww_eeg15']\n",
    "plt.plot(eeg15[1, :])\n",
    "plt.show()"
   ]
  },
  {
   "cell_type": "markdown",
   "id": "4f90a030",
   "metadata": {},
   "source": [
    "# Exctracted Features"
   ]
  },
  {
   "cell_type": "code",
   "execution_count": 3,
   "id": "6928fe7c",
   "metadata": {},
   "outputs": [
    {
     "name": "stdout",
     "output_type": "stream",
     "text": [
      "For more detailed description of this dataset, please see http://bcmi.sjtu.edu.cn/~seed/\n",
      "\n",
      "\n",
      "\n",
      "If you use this dataset, please cite the following paper:\n",
      "\n",
      "\"Investigating Critical Frequency Bands and Channels for EEG-based Emotion Recognition with Deep Neural Networks\", Wei-Long Zheng, and Bao-Liang Lu, IEEE Transactions on Autonomous Mental Development (IEEE TAMD), 2015.\n"
     ]
    },
    {
     "data": {
      "text/plain": [
       "['10_20131130.mat',\n",
       " '10_20131204.mat',\n",
       " '10_20131211.mat',\n",
       " '11_20140618.mat',\n",
       " '11_20140625.mat',\n",
       " '11_20140630.mat',\n",
       " '12_20131127.mat',\n",
       " '12_20131201.mat',\n",
       " '12_20131207.mat',\n",
       " '13_20140527.mat',\n",
       " '13_20140603.mat',\n",
       " '13_20140610.mat',\n",
       " '14_20140601.mat',\n",
       " '14_20140615.mat',\n",
       " '14_20140627.mat',\n",
       " '15_20130709.mat',\n",
       " '15_20131016.mat',\n",
       " '15_20131105.mat',\n",
       " '1_20131027.mat',\n",
       " '1_20131030.mat',\n",
       " '1_20131107.mat',\n",
       " '2_20140404.mat',\n",
       " '2_20140413.mat',\n",
       " '2_20140419.mat',\n",
       " '3_20140603.mat',\n",
       " '3_20140611.mat',\n",
       " '3_20140629.mat',\n",
       " '4_20140621.mat',\n",
       " '4_20140702.mat',\n",
       " '4_20140705.mat',\n",
       " '5_20140411.mat',\n",
       " '5_20140418.mat',\n",
       " '5_20140506.mat',\n",
       " '6_20130712.mat',\n",
       " '6_20131016.mat',\n",
       " '6_20131113.mat',\n",
       " '7_20131027.mat',\n",
       " '7_20131030.mat',\n",
       " '7_20131106.mat',\n",
       " '8_20140511.mat',\n",
       " '8_20140514.mat',\n",
       " '8_20140521.mat',\n",
       " '9_20140620.mat',\n",
       " '9_20140627.mat',\n",
       " '9_20140704.mat',\n",
       " 'label.mat']"
      ]
     },
     "execution_count": 3,
     "metadata": {},
     "output_type": "execute_result"
    }
   ],
   "source": [
    "import os\n",
    "path2 = r'C:\\Users\\harol\\UsefulCode\\CP_DSAI\\Project\\Dataset\\SEED\\ExtractedFeatures'\n",
    "list_mat_ex = os.listdir(path2)\n",
    "with open(path2 + '\\\\' + 'readme.txt') as readme :\n",
    "    for line in readme:\n",
    "        print(line)\n",
    "readme.close()\n",
    "#list_mat_ex.remove('readme.txt')\n",
    "#list_mat_file contains all interessant files for our research\n",
    "list_mat_ex.remove('readme.txt')\n",
    "#list_mat_file contains all interessant files for our research\n",
    "list_mat_ex"
   ]
  },
  {
   "cell_type": "code",
   "execution_count": 4,
   "id": "1dbfd6aa",
   "metadata": {},
   "outputs": [
    {
     "name": "stdout",
     "output_type": "stream",
     "text": [
      "10_20131130.mat\n",
      "dict_keys(['__header__', '__version__', '__globals__', 'de_movingAve1', 'de_LDS1', 'psd_movingAve1', 'psd_LDS1', 'dasm_movingAve1', 'dasm_LDS1', 'rasm_movingAve1', 'rasm_LDS1', 'asm_movingAve1', 'asm_LDS1', 'dcau_movingAve1', 'dcau_LDS1', 'de_movingAve2', 'de_LDS2', 'psd_movingAve2', 'psd_LDS2', 'dasm_movingAve2', 'dasm_LDS2', 'rasm_movingAve2', 'rasm_LDS2', 'asm_movingAve2', 'asm_LDS2', 'dcau_movingAve2', 'dcau_LDS2', 'de_movingAve3', 'de_LDS3', 'psd_movingAve3', 'psd_LDS3', 'dasm_movingAve3', 'dasm_LDS3', 'rasm_movingAve3', 'rasm_LDS3', 'asm_movingAve3', 'asm_LDS3', 'dcau_movingAve3', 'dcau_LDS3', 'de_movingAve4', 'de_LDS4', 'psd_movingAve4', 'psd_LDS4', 'dasm_movingAve4', 'dasm_LDS4', 'rasm_movingAve4', 'rasm_LDS4', 'asm_movingAve4', 'asm_LDS4', 'dcau_movingAve4', 'dcau_LDS4', 'de_movingAve5', 'de_LDS5', 'psd_movingAve5', 'psd_LDS5', 'dasm_movingAve5', 'dasm_LDS5', 'rasm_movingAve5', 'rasm_LDS5', 'asm_movingAve5', 'asm_LDS5', 'dcau_movingAve5', 'dcau_LDS5', 'de_movingAve6', 'de_LDS6', 'psd_movingAve6', 'psd_LDS6', 'dasm_movingAve6', 'dasm_LDS6', 'rasm_movingAve6', 'rasm_LDS6', 'asm_movingAve6', 'asm_LDS6', 'dcau_movingAve6', 'dcau_LDS6', 'de_movingAve7', 'de_LDS7', 'psd_movingAve7', 'psd_LDS7', 'dasm_movingAve7', 'dasm_LDS7', 'rasm_movingAve7', 'rasm_LDS7', 'asm_movingAve7', 'asm_LDS7', 'dcau_movingAve7', 'dcau_LDS7', 'de_movingAve8', 'de_LDS8', 'psd_movingAve8', 'psd_LDS8', 'dasm_movingAve8', 'dasm_LDS8', 'rasm_movingAve8', 'rasm_LDS8', 'asm_movingAve8', 'asm_LDS8', 'dcau_movingAve8', 'dcau_LDS8', 'de_movingAve9', 'de_LDS9', 'psd_movingAve9', 'psd_LDS9', 'dasm_movingAve9', 'dasm_LDS9', 'rasm_movingAve9', 'rasm_LDS9', 'asm_movingAve9', 'asm_LDS9', 'dcau_movingAve9', 'dcau_LDS9', 'de_movingAve10', 'de_LDS10', 'psd_movingAve10', 'psd_LDS10', 'dasm_movingAve10', 'dasm_LDS10', 'rasm_movingAve10', 'rasm_LDS10', 'asm_movingAve10', 'asm_LDS10', 'dcau_movingAve10', 'dcau_LDS10', 'de_movingAve11', 'de_LDS11', 'psd_movingAve11', 'psd_LDS11', 'dasm_movingAve11', 'dasm_LDS11', 'rasm_movingAve11', 'rasm_LDS11', 'asm_movingAve11', 'asm_LDS11', 'dcau_movingAve11', 'dcau_LDS11', 'de_movingAve12', 'de_LDS12', 'psd_movingAve12', 'psd_LDS12', 'dasm_movingAve12', 'dasm_LDS12', 'rasm_movingAve12', 'rasm_LDS12', 'asm_movingAve12', 'asm_LDS12', 'dcau_movingAve12', 'dcau_LDS12', 'de_movingAve13', 'de_LDS13', 'psd_movingAve13', 'psd_LDS13', 'dasm_movingAve13', 'dasm_LDS13', 'rasm_movingAve13', 'rasm_LDS13', 'asm_movingAve13', 'asm_LDS13', 'dcau_movingAve13', 'dcau_LDS13', 'de_movingAve14', 'de_LDS14', 'psd_movingAve14', 'psd_LDS14', 'dasm_movingAve14', 'dasm_LDS14', 'rasm_movingAve14', 'rasm_LDS14', 'asm_movingAve14', 'asm_LDS14', 'dcau_movingAve14', 'dcau_LDS14', 'de_movingAve15', 'de_LDS15', 'psd_movingAve15', 'psd_LDS15', 'dasm_movingAve15', 'dasm_LDS15', 'rasm_movingAve15', 'rasm_LDS15', 'asm_movingAve15', 'asm_LDS15', 'dcau_movingAve15', 'dcau_LDS15'])\n"
     ]
    }
   ],
   "source": [
    "from scipy.io import loadmat\n",
    "ex = list_mat_ex[0]\n",
    "print(ex)\n",
    "data_ex = loadmat(path2 +'\\\\' + ex)\n",
    "print(data_ex.keys())"
   ]
  },
  {
   "cell_type": "markdown",
   "id": "787f45fc",
   "metadata": {},
   "source": [
    "LDS: Linear Dynamic System\n",
    "\n",
    "MovingAve : Moving Average\n",
    "    \n",
    "Two different approaches to filter, get a smoother extracted feature. \n",
    "We can see that we got, the extracted feature for each sequence of films showed in the experience. "
   ]
  },
  {
   "cell_type": "code",
   "execution_count": 6,
   "id": "31d84cae",
   "metadata": {},
   "outputs": [
    {
     "data": {
      "text/plain": [
       "(27, 235, 5)"
      ]
     },
     "execution_count": 6,
     "metadata": {},
     "output_type": "execute_result"
    }
   ],
   "source": [
    "data_test = data_ex['dasm_movingAve1']\n",
    "data_test.shape"
   ]
  },
  {
   "cell_type": "code",
   "execution_count": 9,
   "id": "74fc964d",
   "metadata": {},
   "outputs": [
    {
     "name": "stdout",
     "output_type": "stream",
     "text": [
      "dasm_movingAve1\n",
      "(27, 235, 5)\n",
      "dasm_movingAve2\n",
      "(27, 233, 5)\n",
      "dasm_movingAve3\n",
      "(27, 206, 5)\n",
      "dasm_movingAve4\n",
      "(27, 238, 5)\n",
      "dasm_movingAve5\n",
      "(27, 185, 5)\n",
      "dasm_movingAve6\n",
      "(27, 195, 5)\n",
      "dasm_movingAve7\n",
      "(27, 237, 5)\n",
      "dasm_movingAve8\n",
      "(27, 216, 5)\n",
      "dasm_movingAve9\n",
      "(27, 265, 5)\n",
      "dasm_movingAve10\n",
      "(27, 237, 5)\n",
      "dasm_movingAve11\n",
      "(27, 235, 5)\n",
      "dasm_movingAve12\n",
      "(27, 233, 5)\n",
      "dasm_movingAve13\n",
      "(27, 235, 5)\n",
      "dasm_movingAve14\n",
      "(27, 238, 5)\n",
      "dasm_movingAve15\n",
      "(27, 206, 5)\n"
     ]
    }
   ],
   "source": [
    "for k in range(1, 16):\n",
    "    print('dasm_movingAve' + str(k))\n",
    "    print(data_ex['dasm_movingAve' + str(k)].shape)"
   ]
  },
  {
   "cell_type": "code",
   "execution_count": 183,
   "id": "a25b1da8",
   "metadata": {},
   "outputs": [
    {
     "data": {
      "text/plain": [
       "(27, 233, 5)"
      ]
     },
     "execution_count": 183,
     "metadata": {},
     "output_type": "execute_result"
    }
   ],
   "source": [
    "data_test = data_ex['dasm_movingAve2']\n",
    "data_test.shape"
   ]
  },
  {
   "cell_type": "code",
   "execution_count": 184,
   "id": "ab35f961",
   "metadata": {},
   "outputs": [
    {
     "data": {
      "text/plain": [
       "(23, 206, 5)"
      ]
     },
     "execution_count": 184,
     "metadata": {},
     "output_type": "execute_result"
    }
   ],
   "source": [
    "data_test = data_ex['dcau_LDS15']\n",
    "data_test.shape"
   ]
  },
  {
   "cell_type": "markdown",
   "id": "609a617d",
   "metadata": {},
   "source": [
    "There is 5 kind of features which are extracted from the EEG signals: \n",
    "    - The differential entropy (DE)\n",
    "    - The power spectral density (PSD)\n",
    "    - The differential assymetry (DASM) \n",
    "    - The rational assymetry (RASM)\n",
    "    - The differential caudality (DCAU) \n",
    "    \n",
    "These features are extracted in each of the frequency band of the brain ($\\delta$, $\\theta$, $\\alpha$, $\\beta$, $\\gamma$).\n",
    "To extract the EEG feature, each trial of EEG signal flow is partitionned into a set of blocks, where each block contains 1s of EEG signals. (We can extract five kind of features from each bloc). \n",
    "\n",
    "The number of EEG features extracted from each frequency band are as the table below: \n",
    "\n",
    "\n",
    "| Feature type     |    Number of EEG features per sample      |||||\n",
    "| :---             |    ---: |   ---:  |      ---:    |   ---:     |  ---:    |\n",
    "|      |   $\\delta$ |  $\\theta$  |  $\\alpha$   |   $\\beta$    | $\\gamma$   |\n",
    "|    PSD  |   62 |  62  |  62   |   62    | 62   |\n",
    "|    DE  |   62 |  62  |  62   |   62    | 62   |\n",
    "|    DASM  |   27 |  27  |  27   |   27    | 27   |\n",
    "|    RASM  |   27 |  27  |  27   |   27    | 27   |\n",
    "|    DCAU  |   23 |  23  |  23   |   23    | 23   |    \n",
    " \n",
    " \n",
    "So when we print the shape of an element of the extracted feature file, we got as first dimension the number of EEG feature extracted, the second element of the shape for extracted feature is somekind related to the electric activity during the experience and the last element represents the brain's frequencies. \n"
   ]
  },
  {
   "cell_type": "markdown",
   "id": "dd9e81c8",
   "metadata": {},
   "source": [
    "The last thing to do about the dataset is to understand the feature extraction process (why the number of datas changes according to the feature type, what a feature type means, ...). \n",
    "\n",
    "Nevertheless, without truly understand this we can start working on the DGCNN model. "
   ]
  },
  {
   "cell_type": "code",
   "execution_count": 185,
   "id": "ad5285dd",
   "metadata": {},
   "outputs": [
    {
     "data": {
      "text/plain": [
       "array([[ 1,  0, -1, -1,  0,  1, -1,  0,  1,  1,  0, -1,  0,  1, -1]],\n",
       "      dtype=int16)"
      ]
     },
     "execution_count": 185,
     "metadata": {},
     "output_type": "execute_result"
    }
   ],
   "source": [
    "label_ex = loadmat(path + '\\\\' + list_mat_ex[-1])\n",
    "label_ex['label']"
   ]
  },
  {
   "cell_type": "markdown",
   "id": "5574a28c",
   "metadata": {},
   "source": [
    "How will we proceed?\n",
    "\n",
    "We have to take in account that we want to model a DGCNN, so to begin, we have to deal with some of graph theory. \n",
    "\n",
    "A directed and connected graph is defined as $\\mathcal{G} = \\left\\{ \\nu, \\epsilon, W \\right\\}$. \n",
    "$\\nu$ is the set of nodes, and |$\\nu$| = $N$, $\\epsilon$ the set of edges, and W $\\in \\mathbb{R}^{{N} \\times N}$ is the adjency matrix. It will be the adjency matrix the most useful part of the definition of a graph in our model. The adjency matrix is a matrix in which $i_{th}$ row and the $j_{th}$ column is $w_{i, j}$ measure the weight of a connection between two nodes, the $i_{th}$ and the $j_{th}$. There is different way to initialize this matrix in GDCNN area, we will go through during the project. \n",
    "\n",
    "Each graph got a Laplacian matrix, this matrix is defined like this: \n",
    "$$\n",
    "\\begin{align}\n",
    "L & = D - W   & \\in \\mathbb{R}^{{N} \\times N}\n",
    "\\end{align}\n",
    "$$\n",
    "where W is the adjency matrix and D is a diagonal matrix with $D_{i, i} = \\sum_{j} w_{i, j}$.\n",
    "\n",
    "For a given saptial signal $x \\in \\mathbb{R}^{N}$, its Graph Fourier Transform (GFT) is $ \\hat{x} = U^{T}x$.\n",
    "U is the orthonormal matrix obtained from the singular value decomposition of L. The columns of U, $[u_{0}, ..., u_{N-1}]$ constitutes the Fourrier basis.\n",
    "\n",
    "In a graph, we also defined the convolution product of two signals x and y as \n",
    "\n",
    "$$\n",
    "\\begin{align}\n",
    "x \\star_{\\mathcal{G}} y & = U( (U^{T}x)  \\cdot (U^{T}y))\n",
    "\\end{align}\n",
    "$$\n",
    "where $\\cdot$ is the Hadamard product.\n",
    "\n",
    "\n",
    "**Write more explanation if needed**"
   ]
  },
  {
   "cell_type": "markdown",
   "id": "b4e5cdee",
   "metadata": {},
   "source": [
    "The algorith is the following steps: \n",
    "\n",
    "    - Initialization of parameters, W, learning rate, regularization parameter, ... \n",
    "\n",
    "Repeat\n",
    "\n",
    "    - Use ReLu operation such that all elements are non negative\n",
    "    - Calculate laplacian matrix\n",
    "    - calculate Chabyshev polynom\n",
    "    - calculate \n",
    "$\\sum_{k=0}^{K-1} \\theta_{k}T_{k}(\\tilde{L^{\\ast}}x)$\n",
    "\n",
    "    - 1x1 convolution\n",
    "    - Full connection layer\n",
    "    - Updating ajency matrix \n",
    "$W^{\\ast} = (1-  \\rho) + \\rho \\frac{d Loss}{dW^{\\ast}}$"
   ]
  },
  {
   "cell_type": "markdown",
   "id": "4f5b7eeb",
   "metadata": {},
   "source": [
    "For the moment I block on how model the graph. That means what to model, what are the nodes, what is the filtering function, ..."
   ]
  },
  {
   "cell_type": "markdown",
   "id": "cb15039a",
   "metadata": {},
   "source": [
    "To begin, we will work with extracted features dataset. The node of a graph will be an EEG feature. Each node will be associated with the five brain frequencies.  "
   ]
  },
  {
   "cell_type": "code",
   "execution_count": 171,
   "id": "470dc62b",
   "metadata": {},
   "outputs": [
    {
     "name": "stdout",
     "output_type": "stream",
     "text": [
      "dict_keys(['__header__', '__version__', '__globals__', 'de_movingAve1', 'de_LDS1', 'psd_movingAve1', 'psd_LDS1', 'dasm_movingAve1', 'dasm_LDS1', 'rasm_movingAve1', 'rasm_LDS1', 'asm_movingAve1', 'asm_LDS1', 'dcau_movingAve1', 'dcau_LDS1', 'de_movingAve2', 'de_LDS2', 'psd_movingAve2', 'psd_LDS2', 'dasm_movingAve2', 'dasm_LDS2', 'rasm_movingAve2', 'rasm_LDS2', 'asm_movingAve2', 'asm_LDS2', 'dcau_movingAve2', 'dcau_LDS2', 'de_movingAve3', 'de_LDS3', 'psd_movingAve3', 'psd_LDS3', 'dasm_movingAve3', 'dasm_LDS3', 'rasm_movingAve3', 'rasm_LDS3', 'asm_movingAve3', 'asm_LDS3', 'dcau_movingAve3', 'dcau_LDS3', 'de_movingAve4', 'de_LDS4', 'psd_movingAve4', 'psd_LDS4', 'dasm_movingAve4', 'dasm_LDS4', 'rasm_movingAve4', 'rasm_LDS4', 'asm_movingAve4', 'asm_LDS4', 'dcau_movingAve4', 'dcau_LDS4', 'de_movingAve5', 'de_LDS5', 'psd_movingAve5', 'psd_LDS5', 'dasm_movingAve5', 'dasm_LDS5', 'rasm_movingAve5', 'rasm_LDS5', 'asm_movingAve5', 'asm_LDS5', 'dcau_movingAve5', 'dcau_LDS5', 'de_movingAve6', 'de_LDS6', 'psd_movingAve6', 'psd_LDS6', 'dasm_movingAve6', 'dasm_LDS6', 'rasm_movingAve6', 'rasm_LDS6', 'asm_movingAve6', 'asm_LDS6', 'dcau_movingAve6', 'dcau_LDS6', 'de_movingAve7', 'de_LDS7', 'psd_movingAve7', 'psd_LDS7', 'dasm_movingAve7', 'dasm_LDS7', 'rasm_movingAve7', 'rasm_LDS7', 'asm_movingAve7', 'asm_LDS7', 'dcau_movingAve7', 'dcau_LDS7', 'de_movingAve8', 'de_LDS8', 'psd_movingAve8', 'psd_LDS8', 'dasm_movingAve8', 'dasm_LDS8', 'rasm_movingAve8', 'rasm_LDS8', 'asm_movingAve8', 'asm_LDS8', 'dcau_movingAve8', 'dcau_LDS8', 'de_movingAve9', 'de_LDS9', 'psd_movingAve9', 'psd_LDS9', 'dasm_movingAve9', 'dasm_LDS9', 'rasm_movingAve9', 'rasm_LDS9', 'asm_movingAve9', 'asm_LDS9', 'dcau_movingAve9', 'dcau_LDS9', 'de_movingAve10', 'de_LDS10', 'psd_movingAve10', 'psd_LDS10', 'dasm_movingAve10', 'dasm_LDS10', 'rasm_movingAve10', 'rasm_LDS10', 'asm_movingAve10', 'asm_LDS10', 'dcau_movingAve10', 'dcau_LDS10', 'de_movingAve11', 'de_LDS11', 'psd_movingAve11', 'psd_LDS11', 'dasm_movingAve11', 'dasm_LDS11', 'rasm_movingAve11', 'rasm_LDS11', 'asm_movingAve11', 'asm_LDS11', 'dcau_movingAve11', 'dcau_LDS11', 'de_movingAve12', 'de_LDS12', 'psd_movingAve12', 'psd_LDS12', 'dasm_movingAve12', 'dasm_LDS12', 'rasm_movingAve12', 'rasm_LDS12', 'asm_movingAve12', 'asm_LDS12', 'dcau_movingAve12', 'dcau_LDS12', 'de_movingAve13', 'de_LDS13', 'psd_movingAve13', 'psd_LDS13', 'dasm_movingAve13', 'dasm_LDS13', 'rasm_movingAve13', 'rasm_LDS13', 'asm_movingAve13', 'asm_LDS13', 'dcau_movingAve13', 'dcau_LDS13', 'de_movingAve14', 'de_LDS14', 'psd_movingAve14', 'psd_LDS14', 'dasm_movingAve14', 'dasm_LDS14', 'rasm_movingAve14', 'rasm_LDS14', 'asm_movingAve14', 'asm_LDS14', 'dcau_movingAve14', 'dcau_LDS14', 'de_movingAve15', 'de_LDS15', 'psd_movingAve15', 'psd_LDS15', 'dasm_movingAve15', 'dasm_LDS15', 'rasm_movingAve15', 'rasm_LDS15', 'asm_movingAve15', 'asm_LDS15', 'dcau_movingAve15', 'dcau_LDS15'])\n"
     ]
    }
   ],
   "source": [
    "example = list_mat_ex[1]\n",
    "subject_example = loadmat(path2 + '\\\\' + example)\n",
    "print(subject_example.keys())"
   ]
  },
  {
   "cell_type": "code",
   "execution_count": 172,
   "id": "43ebef34",
   "metadata": {},
   "outputs": [
    {
     "data": {
      "text/plain": [
       "(62, 235, 5)"
      ]
     },
     "execution_count": 172,
     "metadata": {},
     "output_type": "execute_result"
    }
   ],
   "source": [
    "#let's take one experiment to be at ease in the manipulation of the datat to create the model\n",
    "data_example = subject_example['de_movingAve1']\n",
    "data_example.shape\n"
   ]
  },
  {
   "cell_type": "markdown",
   "id": "ce113709",
   "metadata": {},
   "source": [
    "#### 1) Initialization of the adjency matrix W\n",
    "\n",
    "The elements of the adjency matrix are predetermined according to the spatial relationship of the EEG channels (there would be a direct connection between two EEG channels if they are closely related). \n",
    "\n",
    "**For the moment I don't understand what is the channel used when there is 27 and 23 features so we will begin by the DE and PSD extracted feature**\n",
    "\n",
    "*Once this will be done, we will think about other*\n",
    "\n",
    "One think we can notice is that in DGCNN, the initialization of the adjency matrix shouldn't be important because the training of the model will create the optimal one. "
   ]
  },
  {
   "cell_type": "code",
   "execution_count": 54,
   "id": "87f191ed",
   "metadata": {},
   "outputs": [],
   "source": [
    "import numpy as np\n",
    "\n",
    "def distance(x, y, axis = None):\n",
    "    return np.linalg.norm(x -y, axis = axis)\n",
    "\n",
    "def gaussian_distance(x, y, theta = 1, axis = None):\n",
    "    dist = distance(x, y, axis = axis)\n",
    "    return np.exp(-(dist**2/ 2*(theta**2)))\n"
   ]
  },
  {
   "cell_type": "markdown",
   "id": "d95e6b7f",
   "metadata": {},
   "source": [
    "![alt text](EEGChannelPicture.PNG \"Channel\")"
   ]
  },
  {
   "cell_type": "code",
   "execution_count": 195,
   "id": "8230bfd5",
   "metadata": {},
   "outputs": [],
   "source": [
    "import pandas as pd\n",
    "channel = ['FP1', 'FPZ', 'FP2', 'AF3', 'AF4', 'F7', 'F5', 'F3', 'F1', 'FZ', 'F2', 'F4', 'F6', 'F8', \n",
    "                'FT7', 'FC5', 'FC3', 'FC1', 'FCZ', 'FC2', 'FC4', 'FC6','FT8','T7','C5','C3','C1',\n",
    "                'CZ','C2','C4','C6', 'T8','TP7','CP5','CP3','CP1','CPZ','CP2','CP4','CP6','TP8','P7',\n",
    "                'P5','P3','P1','PZ','P2','P4','P6','P8','PO7','PO5','PO3','POZ','PO4','PO6','PO8','CB1',\n",
    "                'O1','OZ','O2','CB2']\n",
    "idx = np.arange(62)\n",
    "df_channel = pd.DataFrame({'idx': idx, 'channel': channel })"
   ]
  },
  {
   "cell_type": "code",
   "execution_count": 301,
   "id": "a4247c74",
   "metadata": {},
   "outputs": [
    {
     "data": {
      "text/plain": [
       "61    61\n",
       "Name: idx, dtype: int32"
      ]
     },
     "execution_count": 301,
     "metadata": {},
     "output_type": "execute_result"
    }
   ],
   "source": [
    "df_channel['idx'].loc[df_channel['channel'] == 'CB2']"
   ]
  },
  {
   "cell_type": "code",
   "execution_count": 302,
   "id": "cdddbb3e",
   "metadata": {},
   "outputs": [
    {
     "data": {
      "text/plain": [
       "58    O1\n",
       "Name: channel, dtype: object"
      ]
     },
     "execution_count": 302,
     "metadata": {},
     "output_type": "execute_result"
    }
   ],
   "source": [
    "df_channel['channel'].loc[df_channel['idx'] == 58]"
   ]
  },
  {
   "cell_type": "code",
   "execution_count": 311,
   "id": "91c56c04",
   "metadata": {},
   "outputs": [
    {
     "name": "stdout",
     "output_type": "stream",
     "text": [
      "[[0. 1. 0. ... 0. 0. 0.]\n",
      " [1. 0. 1. ... 0. 0. 0.]\n",
      " [0. 1. 0. ... 0. 0. 0.]\n",
      " ...\n",
      " [0. 0. 0. ... 0. 1. 0.]\n",
      " [0. 0. 0. ... 1. 0. 1.]\n",
      " [0. 0. 0. ... 0. 1. 0.]]\n",
      "[[ True  True  True ...  True  True  True]\n",
      " [ True  True  True ...  True  True  True]\n",
      " [ True  True  True ...  True  True  True]\n",
      " ...\n",
      " [ True  True  True ...  True  True  True]\n",
      " [ True  True  True ...  True  True  True]\n",
      " [ True  True  True ...  True  True  True]]\n"
     ]
    }
   ],
   "source": [
    "#initialization of the adjency matrix and all hyper-parameters\n",
    "\n",
    "feature_number = data_example.shape[0]\n",
    "W = np.zeros((5, feature_number, feature_number))\n",
    "for freq in range(5):\n",
    "    #I don't see other way than initialiazing W manually\n",
    "    #was done accodingly to the EEG channel map and order, hope to don't have make mistake\n",
    "    #FP1\n",
    "    W[freq, 0, 1] = 1\n",
    "    W[freq, 0, 3] = 1\n",
    "    #FPZ\n",
    "    W[freq, 1, 0] = 1\n",
    "    W[freq, 1, 2] = 1\n",
    "    #FP2\n",
    "    W[freq, 2, 1] = 1\n",
    "    W[freq, 2, 4] = 1\n",
    "    #AF3\n",
    "    W[freq, 3, 8] = 1\n",
    "    W[freq, 3, 7] = 1\n",
    "    W[freq, 3, 6] = 1\n",
    "    W[freq, 3, 0] = 1\n",
    "    #AF4\n",
    "    W[freq, 4, 2] = 1\n",
    "    W[freq, 4, 10] = 1\n",
    "    W[freq, 4, 11] = 1\n",
    "    W[freq, 4, 12] = 1\n",
    "    #F7\n",
    "    W[freq, 5, 6] = 1\n",
    "    W[freq, 5, 14] = 1\n",
    "    #F5\n",
    "    W[freq, 6, 3] = 1\n",
    "    W[freq, 6, 5] = 1\n",
    "    W[freq, 6, 15] = 1\n",
    "    W[freq, 6, 7] = 1\n",
    "    #F3\n",
    "    W[freq, 7, 3] = 1\n",
    "    W[freq, 7, 8] = 1\n",
    "    W[freq, 7, 16] = 1\n",
    "    #F1\n",
    "    W[freq, 8, 9] = 1\n",
    "    W[freq, 8, 17] = 1\n",
    "    #FZ\n",
    "    W[freq, 9, 10] = 1\n",
    "    W[freq, 9, 18] = 1\n",
    "    #F2\n",
    "    W[freq, 10, 11] = 1\n",
    "    W[freq, 10, 19] = 1\n",
    "    #F4\n",
    "    W[freq, 11, 12] = 1\n",
    "    W[freq, 11, 20] = 1\n",
    "    #F6 \n",
    "    W[freq, 12, 13] = 1\n",
    "    W[freq, 12, 21] = 1\n",
    "    #F8\n",
    "    W[freq, 13, 22] = 1\n",
    "    #FT7\n",
    "    W[freq, 14, 15] = 1\n",
    "    W[freq, 14, 23] = 1\n",
    "    #FC5 to TP8\n",
    "    for k in range(15, 41): #till TP8 (number 40) we have two new neigbors: on the right and under +1 and +9 (nine electrodes per line)\n",
    "        if k == 22 or k == 31 or k == 40 :\n",
    "            W[freq, k, k+9] = 1\n",
    "        else:\n",
    "            W[freq, k, k+1] = 1\n",
    "            W[freq, k, k+9] = 1\n",
    "    #P7\n",
    "    W[freq, 41, 42] = 1\n",
    "    W[freq, 41, 50] = 1\n",
    "    #P5\n",
    "    W[freq, 42, 43] = 1\n",
    "    W[freq, 42, 51] = 1\n",
    "    #P3\n",
    "    W[freq, 43, 44] = 1\n",
    "    #P1\n",
    "    W[freq, 44, 45] = 1\n",
    "    W[freq, 44, 52] = 1\n",
    "    #PZ\n",
    "    W[freq, 45, 46] = 1\n",
    "    W[freq, 45, 53] = 1\n",
    "    #P2\n",
    "    W[freq, 46, 47] = 1\n",
    "    W[freq, 46, 54] = 1\n",
    "    #P4\n",
    "    W[freq, 47, 48] = 1\n",
    "    #P6\n",
    "    W[freq, 48, 49] = 1\n",
    "    W[freq, 48, 55] = 1\n",
    "    #P8\n",
    "    W[freq, 49, 56] = 1\n",
    "    #PO7\n",
    "    W[freq, 50, 51] = 1\n",
    "    W[freq, 50, 57] = 1\n",
    "    #PO5\n",
    "    W[freq, 51, 52] = 1\n",
    "    W[freq, 50, 57] = 1\n",
    "    #PO3\n",
    "    W[freq, 52, 53] = 1\n",
    "    W[freq, 52, 58] = 1\n",
    "    #POZ\n",
    "    W[freq, 53, 54] = 1\n",
    "    W[freq, 53, 59] = 1\n",
    "    #PO4\n",
    "    W[freq, 54, 55] = 1\n",
    "    W[freq, 54, 60] = 1\n",
    "    #PO6\n",
    "    W[freq, 55, 56] = 1\n",
    "    W[freq, 55, 61] = 1\n",
    "    #PO8\n",
    "    W[freq, 56, 61] = 1\n",
    "    #CB1\n",
    "    W[freq, 57, 58] = 1\n",
    "    #O1\n",
    "    W[freq, 58, 59] = 1\n",
    "    #OZ\n",
    "    W[freq, 59, 60] = 1\n",
    "    #O2\n",
    "    W[freq, 60, 61] = 1\n",
    "\n",
    "for freq in range(5):\n",
    "    for i in range(feature_number):\n",
    "        for j in range(i, feature_number):\n",
    "            if W[freq, j, i] == 0:\n",
    "                W[freq, j, i] = W[freq, i, j]\n",
    "            \n",
    "print(W[0])   \n",
    "print(np.transpose(W[0]) == W[0])\n",
    "\n",
    "\n",
    "learning_rate = 0.01 #learing rate\n",
    "rho = 0.1 #regularization parameter"
   ]
  },
  {
   "cell_type": "code",
   "execution_count": 341,
   "id": "2ef4d73b",
   "metadata": {},
   "outputs": [],
   "source": [
    "def laplacian(W): #here we calculate the non noramlized Laplacian matrix of the graph\n",
    "    D = np.zeros((W.shape))\n",
    "    for freq in range(W.shape[0]):\n",
    "        for i in range(W.shape[1]):\n",
    "            d = np.sum(W[freq, i, :])\n",
    "            D[freq, i, i] = d\n",
    "    return D - W\n",
    "\n",
    "def normalized_laplacian(L): #the normalization of the Laplacian in the paper is not the same that the general definition\n",
    "    #but I think with some calculus we can prove this\n",
    "    L_tilde = np.zeros((L.shape))\n",
    "    for freq in range(L.shape[0]):\n",
    "        eigenvalues, eigenvectors = np.linalg.eig(L[freq, :, :])\n",
    "        max_lambda = np.max(eigenvalues)\n",
    "        L_hat = ((2*L[freq, :, :]) / max_lambda) - np.eye(L.shape[1])\n",
    "        L_tilde[freq, :, :] = L_hat\n",
    "    return L_tilde\n",
    "\n",
    "\n",
    "def chebyshev_coef(K):\n",
    "    \"\"\"\n",
    "    Create the order K chebyshev polynom\n",
    "    \"\"\"\n",
    "    #all tchebyshev polynom has a degree equal to the recurrency indice\n",
    "    if K == 0:\n",
    "        return np.array([1])\n",
    "    if K == 1:\n",
    "        return np.array([0, 1])\n",
    "    else :\n",
    "        T0 = np.zeros((K+1, ))\n",
    "        T0[0] = 1\n",
    "        T1 = np.zeros((K+1, ))\n",
    "        T1[1] = 1\n",
    "        for k in range(2, K+1):\n",
    "            T_aux = np.roll(T1, 1) #multiplication by x, increase the degree of 1\n",
    "            T2 = 2*T_aux - T0\n",
    "            T0 = T1\n",
    "            T1 = T2\n",
    "        return T2\n",
    "\n",
    "def polynom_evaluation(P, L, x):\n",
    "    res = P[0]\n",
    "    for k in range(1, P.shape[0]):\n",
    "        aux_x = x**k\n",
    "        res += P[k]*aux_x\n",
    "    return res\n",
    "        \n",
    "\n",
    "#since we deal with numpy array (because of the five brain's frequencies), the power of the array will not be the power of a matrix\n",
    "def laplace_power(L):\n",
    "    #add a test to know if the shape of L is (freq, channel, channel) otherwise we can just transform the array into np.matrox\n",
    "    L_power = np.zeros((L.shape))\n",
    "    for freq in range(L.shape[0]):\n",
    "        for i in range(L.shape[1]):\n",
    "            for j in range(L.shape[2]):\n",
    "                L_power[freq, i, j] = np.sum(L[freq, i, :]*L[freq, :, j])\n",
    "    return L_power\n",
    "\n",
    "def L_dot_x(L, x):\n",
    "    #shape of L (freq, number of channel, number of channel)\n",
    "    #shape of x (number of channel, 'activity', freq)\n",
    "\n",
    "def chebyshev_evaluation(K, L, x):\n",
    "     \"\"\"\n",
    "    Create the recurrence for the calculus of Tk(\\tilde{L})x\n",
    "    \"\"\"\n",
    "    #shape of L (freq, number of channel, number of channel)\n",
    "    #shape of x (number of channel, 'activity', freq)\n",
    "    x = np.transpose((2, 0, 1))\n",
    "    if K == 0:\n",
    "        return x\n",
    "    if K == 1:\n",
    "        for freq in range(L.shape[0]):\n",
    "            \n",
    "    else :\n",
    "        T0 = np.zeros((K+1, ))\n",
    "        T0[0] = 1\n",
    "        T1 = np.zeros((K+1, ))\n",
    "        T1[1] = 1\n",
    "        for k in range(2, K+1):\n",
    "            T_aux = np.roll(T1, 1) #multiplication by x, increase the degree of 1\n",
    "            T2 = 2*T_aux - T0\n",
    "            T0 = T1\n",
    "            T1 = T2\n",
    "        return T2\n",
    "\n",
    "    "
   ]
  },
  {
   "cell_type": "code",
   "execution_count": 350,
   "id": "0dcb1191",
   "metadata": {},
   "outputs": [
    {
     "name": "stdout",
     "output_type": "stream",
     "text": [
      "Laplacian\n",
      "(5, 62, 62)\n",
      "[[ 2. -1.  0. ...  0.  0.  0.]\n",
      " [-1.  2. -1. ...  0.  0.  0.]\n",
      " [ 0. -1.  2. ...  0.  0.  0.]\n",
      " ...\n",
      " [ 0.  0.  0. ...  3. -1.  0.]\n",
      " [ 0.  0.  0. ... -1.  3. -1.]\n",
      " [ 0.  0.  0. ...  0. -1.  3.]]\n",
      "[ 2. -1.  0. -1.  0.  0.  0.  0.  0.  0.  0.  0.  0.  0.  0.  0.  0.  0.\n",
      "  0.  0.  0.  0.  0.  0.  0.  0.  0.  0.  0.  0.  0.  0.  0.  0.  0.  0.\n",
      "  0.  0.  0.  0.  0.  0.  0.  0.  0.  0.  0.  0.  0.  0.  0.  0.  0.  0.\n",
      "  0.  0.  0.  0.  0.  0.  0.  0.]\n",
      "[ 2. -1.  0. -1.  0.  0.  0.  0.  0.  0.  0.  0.  0.  0.  0.  0.  0.  0.\n",
      "  0.  0.  0.  0.  0.  0.  0.  0.  0.  0.  0.  0.  0.  0.  0.  0.  0.  0.\n",
      "  0.  0.  0.  0.  0.  0.  0.  0.  0.  0.  0.  0.  0.  0.  0.  0.  0.  0.\n",
      "  0.  0.  0.  0.  0.  0.  0.  0.]\n"
     ]
    },
    {
     "data": {
      "text/plain": [
       "6.0"
      ]
     },
     "execution_count": 350,
     "metadata": {},
     "output_type": "execute_result"
    }
   ],
   "source": [
    "print('Laplacian')\n",
    "L = laplacian(W)\n",
    "print(L.shape)\n",
    "print(L[0])\n",
    "print(L[0, 0, :])\n",
    "print(L[0, :, 0])\n",
    "np.sum(L[0, 0, :]*L[0, :, 0])"
   ]
  },
  {
   "cell_type": "code",
   "execution_count": 338,
   "id": "3cce423f",
   "metadata": {},
   "outputs": [
    {
     "name": "stdout",
     "output_type": "stream",
     "text": [
      "Laplacian\n",
      "(5, 62, 62)\n",
      "[[ 2. -1.  0. ...  0.  0.  0.]\n",
      " [-1.  2. -1. ...  0.  0.  0.]\n",
      " [ 0. -1.  2. ...  0.  0.  0.]\n",
      " ...\n",
      " [ 0.  0.  0. ...  3. -1.  0.]\n",
      " [ 0.  0.  0. ... -1.  3. -1.]\n",
      " [ 0.  0.  0. ...  0. -1.  3.]]\n",
      "Normalized Laplacian\n",
      "(5, 62, 62)\n",
      "[[-0.47513259 -0.2624337   0.         ...  0.          0.\n",
      "   0.        ]\n",
      " [-0.2624337  -0.47513259 -0.2624337  ...  0.          0.\n",
      "   0.        ]\n",
      " [ 0.         -0.2624337  -0.47513259 ...  0.          0.\n",
      "   0.        ]\n",
      " ...\n",
      " [ 0.          0.          0.         ... -0.21269889 -0.2624337\n",
      "   0.        ]\n",
      " [ 0.          0.          0.         ... -0.2624337  -0.21269889\n",
      "  -0.2624337 ]\n",
      " [ 0.          0.          0.         ...  0.         -0.2624337\n",
      "  -0.21269889]]\n",
      "Chebyshev polynom\n",
      "[ 0. -3.  0.  4.]\n",
      "26.0\n",
      "Chebyshev matrix evaluation\n",
      "(5, 62, 62)\n",
      "[[26. -1.  0. ...  0.  0.  0.]\n",
      " [-1. 26. -1. ...  0.  0.  0.]\n",
      " [ 0. -1. 26. ...  0.  0.  0.]\n",
      " ...\n",
      " [ 0.  0.  0. ... 99. -1.  0.]\n",
      " [ 0.  0.  0. ... -1. 99. -1.]\n",
      " [ 0.  0.  0. ...  0. -1. 99.]]\n"
     ]
    }
   ],
   "source": [
    "print('Laplacian')\n",
    "L = laplacian(W)\n",
    "print(L.shape)\n",
    "print(L[0])\n",
    "print('Normalized Laplacian')\n",
    "L_tilde = normalized_laplacian(L)\n",
    "print(L_tilde.shape)\n",
    "print(L_tilde[0])\n",
    "print('Chebyshev polynom')\n",
    "p =chebyshev_coef(3)\n",
    "print(p)\n",
    "res = polynom_evaluation(p, 2)\n",
    "print(res)\n",
    "print('Chebyshev matrix evaluation')\n",
    "N = chebyshev_matrix_evaluation(3, L_tilde)\n",
    "print(N.shape)\n",
    "print(N[0])"
   ]
  },
  {
   "cell_type": "code",
   "execution_count": 340,
   "id": "5dda7847",
   "metadata": {},
   "outputs": [
    {
     "data": {
      "text/plain": [
       "'1.9.1+cpu'"
      ]
     },
     "execution_count": 340,
     "metadata": {},
     "output_type": "execute_result"
    }
   ],
   "source": [
    "import torch\n",
    "torch.__version__"
   ]
  },
  {
   "cell_type": "markdown",
   "id": "b72d05d7",
   "metadata": {},
   "source": [
    "In the paper a filter function is mentionned but I don't know what it is and I need it in order to create the Chebyshev coefficients vector. That's on what I'm working now. Also I struggled a lot to understand the number of extracted features and the extracted features. Indeed, to create the adjency matrix, I need to know which channel are close, for 62 channels it is clear I have the picture but for the 27 and 23 I don't know what is the geolocalization of these features. "
   ]
  }
 ],
 "metadata": {
  "kernelspec": {
   "display_name": "Python 3",
   "language": "python",
   "name": "python3"
  },
  "language_info": {
   "codemirror_mode": {
    "name": "ipython",
    "version": 3
   },
   "file_extension": ".py",
   "mimetype": "text/x-python",
   "name": "python",
   "nbconvert_exporter": "python",
   "pygments_lexer": "ipython3",
   "version": "3.8.8"
  }
 },
 "nbformat": 4,
 "nbformat_minor": 5
}
