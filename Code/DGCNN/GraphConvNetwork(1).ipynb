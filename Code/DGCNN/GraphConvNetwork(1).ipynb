{
 "cells": [
  {
   "cell_type": "markdown",
   "id": "3a8a4bdf",
   "metadata": {},
   "source": [
    "This work is grealy inspired of the work of Song et al, available [here](https://ieeexplore.ieee.org/document/8320798). The implementation is inspired and by the following [article](https://theaisummer.com/graph-convolutional-networks/) "
   ]
  },
  {
   "cell_type": "markdown",
   "id": "02300b45",
   "metadata": {},
   "source": [
    "### Data exploration and explanation"
   ]
  },
  {
   "cell_type": "code",
   "execution_count": 1,
   "id": "81169352",
   "metadata": {},
   "outputs": [],
   "source": [
    "from scipy.io import loadmat\n",
    "import numpy as np\n",
    "import matplotlib.pyplot as plt\n",
    "import os \n",
    "import pandas as pd \n",
    "import torch"
   ]
  },
  {
   "cell_type": "code",
   "execution_count": 2,
   "id": "66bee519",
   "metadata": {},
   "outputs": [],
   "source": [
    "device = torch.device('cuda' if torch.cuda.is_available() else 'cpu')"
   ]
  },
  {
   "cell_type": "markdown",
   "id": "21d6ffaf",
   "metadata": {},
   "source": [
    "Since there are already calculated, in this notebook we will only work with the extracted features"
   ]
  },
  {
   "cell_type": "code",
   "execution_count": 3,
   "id": "307a175b",
   "metadata": {},
   "outputs": [
    {
     "name": "stdout",
     "output_type": "stream",
     "text": [
      "For more detailed description of this dataset, please see http://bcmi.sjtu.edu.cn/~seed/\n",
      "\n",
      "\n",
      "\n",
      "If you use this dataset, please cite the following paper:\n",
      "\n",
      "\"Investigating Critical Frequency Bands and Channels for EEG-based Emotion Recognition with Deep Neural Networks\", Wei-Long Zheng, and Bao-Liang Lu, IEEE Transactions on Autonomous Mental Development (IEEE TAMD), 2015.\n"
     ]
    }
   ],
   "source": [
    "import os\n",
    "path2 = r'C:\\Users\\harol\\UsefulCode\\CP_DSAI\\Project\\Dataset\\SEED\\ExtractedFeatures'\n",
    "list_mat_ex = os.listdir(path2)\n",
    "with open(path2 + '\\\\' + 'readme.txt') as readme :\n",
    "    for line in readme:\n",
    "        print(line)\n",
    "readme.close()\n",
    "#list_mat_ex.remove('readme.txt')\n",
    "#list_mat_file contains all interessant files for our research\n",
    "list_mat_ex.remove('readme.txt')\n",
    "#list_mat_file contains all interessant files for our research\n",
    "#list_mat_ex"
   ]
  },
  {
   "cell_type": "code",
   "execution_count": 4,
   "id": "c77e69ac",
   "metadata": {},
   "outputs": [
    {
     "name": "stdout",
     "output_type": "stream",
     "text": [
      "10_20131130.mat\n",
      "dict_keys(['__header__', '__version__', '__globals__', 'de_movingAve1', 'de_LDS1', 'psd_movingAve1', 'psd_LDS1', 'dasm_movingAve1', 'dasm_LDS1', 'rasm_movingAve1', 'rasm_LDS1', 'asm_movingAve1', 'asm_LDS1', 'dcau_movingAve1', 'dcau_LDS1', 'de_movingAve2', 'de_LDS2', 'psd_movingAve2', 'psd_LDS2', 'dasm_movingAve2', 'dasm_LDS2', 'rasm_movingAve2', 'rasm_LDS2', 'asm_movingAve2', 'asm_LDS2', 'dcau_movingAve2', 'dcau_LDS2', 'de_movingAve3', 'de_LDS3', 'psd_movingAve3', 'psd_LDS3', 'dasm_movingAve3', 'dasm_LDS3', 'rasm_movingAve3', 'rasm_LDS3', 'asm_movingAve3', 'asm_LDS3', 'dcau_movingAve3', 'dcau_LDS3', 'de_movingAve4', 'de_LDS4', 'psd_movingAve4', 'psd_LDS4', 'dasm_movingAve4', 'dasm_LDS4', 'rasm_movingAve4', 'rasm_LDS4', 'asm_movingAve4', 'asm_LDS4', 'dcau_movingAve4', 'dcau_LDS4', 'de_movingAve5', 'de_LDS5', 'psd_movingAve5', 'psd_LDS5', 'dasm_movingAve5', 'dasm_LDS5', 'rasm_movingAve5', 'rasm_LDS5', 'asm_movingAve5', 'asm_LDS5', 'dcau_movingAve5', 'dcau_LDS5', 'de_movingAve6', 'de_LDS6', 'psd_movingAve6', 'psd_LDS6', 'dasm_movingAve6', 'dasm_LDS6', 'rasm_movingAve6', 'rasm_LDS6', 'asm_movingAve6', 'asm_LDS6', 'dcau_movingAve6', 'dcau_LDS6', 'de_movingAve7', 'de_LDS7', 'psd_movingAve7', 'psd_LDS7', 'dasm_movingAve7', 'dasm_LDS7', 'rasm_movingAve7', 'rasm_LDS7', 'asm_movingAve7', 'asm_LDS7', 'dcau_movingAve7', 'dcau_LDS7', 'de_movingAve8', 'de_LDS8', 'psd_movingAve8', 'psd_LDS8', 'dasm_movingAve8', 'dasm_LDS8', 'rasm_movingAve8', 'rasm_LDS8', 'asm_movingAve8', 'asm_LDS8', 'dcau_movingAve8', 'dcau_LDS8', 'de_movingAve9', 'de_LDS9', 'psd_movingAve9', 'psd_LDS9', 'dasm_movingAve9', 'dasm_LDS9', 'rasm_movingAve9', 'rasm_LDS9', 'asm_movingAve9', 'asm_LDS9', 'dcau_movingAve9', 'dcau_LDS9', 'de_movingAve10', 'de_LDS10', 'psd_movingAve10', 'psd_LDS10', 'dasm_movingAve10', 'dasm_LDS10', 'rasm_movingAve10', 'rasm_LDS10', 'asm_movingAve10', 'asm_LDS10', 'dcau_movingAve10', 'dcau_LDS10', 'de_movingAve11', 'de_LDS11', 'psd_movingAve11', 'psd_LDS11', 'dasm_movingAve11', 'dasm_LDS11', 'rasm_movingAve11', 'rasm_LDS11', 'asm_movingAve11', 'asm_LDS11', 'dcau_movingAve11', 'dcau_LDS11', 'de_movingAve12', 'de_LDS12', 'psd_movingAve12', 'psd_LDS12', 'dasm_movingAve12', 'dasm_LDS12', 'rasm_movingAve12', 'rasm_LDS12', 'asm_movingAve12', 'asm_LDS12', 'dcau_movingAve12', 'dcau_LDS12', 'de_movingAve13', 'de_LDS13', 'psd_movingAve13', 'psd_LDS13', 'dasm_movingAve13', 'dasm_LDS13', 'rasm_movingAve13', 'rasm_LDS13', 'asm_movingAve13', 'asm_LDS13', 'dcau_movingAve13', 'dcau_LDS13', 'de_movingAve14', 'de_LDS14', 'psd_movingAve14', 'psd_LDS14', 'dasm_movingAve14', 'dasm_LDS14', 'rasm_movingAve14', 'rasm_LDS14', 'asm_movingAve14', 'asm_LDS14', 'dcau_movingAve14', 'dcau_LDS14', 'de_movingAve15', 'de_LDS15', 'psd_movingAve15', 'psd_LDS15', 'dasm_movingAve15', 'dasm_LDS15', 'rasm_movingAve15', 'rasm_LDS15', 'asm_movingAve15', 'asm_LDS15', 'dcau_movingAve15', 'dcau_LDS15'])\n"
     ]
    }
   ],
   "source": [
    "ex = list_mat_ex[0]\n",
    "print(ex)\n",
    "data_ex = loadmat(path2 +'\\\\' + ex)\n",
    "print(data_ex.keys())"
   ]
  },
  {
   "cell_type": "code",
   "execution_count": 5,
   "id": "82c8facc",
   "metadata": {},
   "outputs": [
    {
     "data": {
      "text/plain": [
       "(62, 233, 5)"
      ]
     },
     "execution_count": 5,
     "metadata": {},
     "output_type": "execute_result"
    }
   ],
   "source": [
    "data_example = data_ex['de_movingAve2']\n",
    "data_example.shape"
   ]
  },
  {
   "cell_type": "code",
   "execution_count": null,
   "id": "49fc255f",
   "metadata": {},
   "outputs": [],
   "source": []
  },
  {
   "cell_type": "markdown",
   "id": "24e41547",
   "metadata": {},
   "source": [
    "### Initialization of the adjency matrix"
   ]
  },
  {
   "cell_type": "code",
   "execution_count": 6,
   "id": "4c7279cd",
   "metadata": {},
   "outputs": [],
   "source": [
    "#useless functions for the moment\n",
    "def normalized_laplacian(W, multifreq = True):\n",
    "    #L_norm = D^{-1/2}LD^{1/2} = I - D^{-1/2}AD^{1/2} in theory\n",
    "    D_sqrt = torch.zeros_like(W)\n",
    "    L_norm = torch.zeros_like(W)\n",
    "    if multifreq:\n",
    "        for freq in range(W.shape[0]):\n",
    "            for i in range(W.shape[1]):\n",
    "                d = torch.sum(W[freq, i, :]).item()\n",
    "                D_sqrt[freq, i, i] = d**(1/2)\n",
    "            L_norm[freq, :, :] = torch.eye(W.shape[1]) - torch.matmul(torch.matmul(D_sqrt[freq, :, :], W[freq, :, :]),\n",
    "                                                                      D_sqrt[freq, :, :])\n",
    "    else :\n",
    "        for i in range(W.shape[0]):\n",
    "            d = torch.sum(W[ i, :]).item()\n",
    "            D_sqrt[i, i] = d**(1/2)\n",
    "        L_norm = torch.eye(W.shape[0]) - torch.matmul(torch.matmul(D_sqrt, W), D_sqrt)\n",
    "    return L_norm\n",
    "\n",
    "def norm_mod_laplacian(W, multifreq = True):\n",
    "    #L_norm_mod = D^{-1/2}(A + I)D^{1/2} in real life this is this expression that we use during the training\n",
    "    #because it solves some instability issues\n",
    "    D_sqrt = torch.zeros_like(W)\n",
    "    L_mod = torch.zeros_like(W)\n",
    "    if multifreq:\n",
    "        for freq in range(W.shape[0]):\n",
    "            for i in range(W.shape[1]):\n",
    "                d = torch.sum(W[freq, i, :]).item()\n",
    "                D_sqrt[freq, i, i] = d**(1/2)\n",
    "            L_mod[freq, :, :] = torch.matmul(torch.matmul(D_sqrt[freq, :, :], (W[freq, :, :] + torch.eye(W.shape[1]))), \n",
    "                                              D_sqrt[freq, :, :])\n",
    "    else :\n",
    "        for i in range(W.shape[0]):\n",
    "            d = torch.sum(W[i, :]).item()\n",
    "            D_sqrt[i, i] = d**(1/2)\n",
    "        L_mod[freq, :, :] = torch.matmul(torch.matmul(D_sqrt, (W + torch.eye(W.shape[0]))), D_sqrt)\n",
    "    return L_mod\n",
    "\n",
    "def rescaled_laplacian(L, multifreq = True): \n",
    "    #the normalization of the Laplacian in the paper is not the same that the general definition\n",
    "    #that's why we names it rescaled Laplacian and not normalized one\n",
    "    L_tilde = torch.zeros_like(L)  \n",
    "    if multifreq: \n",
    "        for freq in range(L.shape[0]):\n",
    "            with torch.no_grad(): \n",
    "                eigenvalues, eigenvectors = torch.linalg.eig(L[freq, :, :])\n",
    "                eigenvalues = eigenvalues.real #since L is symmetric real L is diagonalizable in the real space\n",
    "                max_lambda = torch.max(eigenvalues).item() \n",
    "            L_hat = ((2*L[freq, :, :]) / max_lambda) - torch.eye(L.shape[1])\n",
    "            L_tilde[freq, :, :] = L_hat\n",
    "    else :\n",
    "        eigenvalues, eigenvectors = torch.linalg.eig(L)\n",
    "        eigenvalues = eigenvalues.real #since L is symmetric real L is diagonalizable in the real space\n",
    "        max_lambda = torch.max(eigenvalues).item() \n",
    "        L_hat = ((2*L) / max_lambda) - torch.eye(L.shape[0])\n",
    "        L_tilde = L_hat\n",
    "    return L_tilde"
   ]
  },
  {
   "cell_type": "markdown",
   "id": "33621cd1",
   "metadata": {},
   "source": [
    "\n",
    "\n",
    "\n",
    "\n",
    "![alt text](EEGChannelPicture.PNG \"Channel\")"
   ]
  },
  {
   "cell_type": "code",
   "execution_count": 7,
   "id": "dd00d874",
   "metadata": {},
   "outputs": [
    {
     "name": "stdout",
     "output_type": "stream",
     "text": [
      "[[1. 1. 0. ... 0. 0. 0.]\n",
      " [1. 1. 1. ... 0. 0. 0.]\n",
      " [0. 1. 1. ... 0. 0. 0.]\n",
      " ...\n",
      " [0. 0. 0. ... 1. 1. 0.]\n",
      " [0. 0. 0. ... 1. 1. 1.]\n",
      " [0. 0. 0. ... 0. 1. 1.]]\n",
      "[[ True  True  True ...  True  True  True]\n",
      " [ True  True  True ...  True  True  True]\n",
      " [ True  True  True ...  True  True  True]\n",
      " ...\n",
      " [ True  True  True ...  True  True  True]\n",
      " [ True  True  True ...  True  True  True]\n",
      " [ True  True  True ...  True  True  True]]\n"
     ]
    }
   ],
   "source": [
    "import pandas as pd\n",
    "channel = ['FP1', 'FPZ', 'FP2', 'AF3', 'AF4', 'F7', 'F5', 'F3', 'F1', 'FZ', 'F2', 'F4', 'F6', 'F8', \n",
    "                'FT7', 'FC5', 'FC3', 'FC1', 'FCZ', 'FC2', 'FC4', 'FC6','FT8','T7','C5','C3','C1',\n",
    "                'CZ','C2','C4','C6', 'T8','TP7','CP5','CP3','CP1','CPZ','CP2','CP4','CP6','TP8','P7',\n",
    "                'P5','P3','P1','PZ','P2','P4','P6','P8','PO7','PO5','PO3','POZ','PO4','PO6','PO8','CB1',\n",
    "                'O1','OZ','O2','CB2']\n",
    "idx = np.arange(62)\n",
    "df_channel = pd.DataFrame({'idx': idx, 'channel': channel })\n",
    "\n",
    "#initialization of the adjency matrix\n",
    "feature_number = data_example.shape[0]\n",
    "W = np.zeros((5, feature_number, feature_number))\n",
    "for freq in range(5):\n",
    "    #I don't see other way than initialiazing W manually\n",
    "    #was done accodingly to the EEG channel map and order, hope to don't have make mistake\n",
    "    #FP1\n",
    "    W[freq, 0, 1] = 1\n",
    "    W[freq, 0, 3] = 1\n",
    "    #FPZ\n",
    "    W[freq, 1, 0] = 1\n",
    "    W[freq, 1, 2] = 1\n",
    "    #FP2\n",
    "    W[freq, 2, 1] = 1\n",
    "    W[freq, 2, 4] = 1\n",
    "    #AF3\n",
    "    W[freq, 3, 8] = 1\n",
    "    W[freq, 3, 7] = 1\n",
    "    W[freq, 3, 6] = 1\n",
    "    W[freq, 3, 0] = 1\n",
    "    #AF4\n",
    "    W[freq, 4, 2] = 1\n",
    "    W[freq, 4, 10] = 1\n",
    "    W[freq, 4, 11] = 1\n",
    "    W[freq, 4, 12] = 1\n",
    "    #F7\n",
    "    W[freq, 5, 6] = 1\n",
    "    W[freq, 5, 14] = 1\n",
    "    #F5\n",
    "    W[freq, 6, 3] = 1\n",
    "    W[freq, 6, 5] = 1\n",
    "    W[freq, 6, 15] = 1\n",
    "    W[freq, 6, 7] = 1\n",
    "    #F3\n",
    "    W[freq, 7, 3] = 1\n",
    "    W[freq, 7, 8] = 1\n",
    "    W[freq, 7, 16] = 1\n",
    "    #F1\n",
    "    W[freq, 8, 9] = 1\n",
    "    W[freq, 8, 17] = 1\n",
    "    #FZ\n",
    "    W[freq, 9, 10] = 1\n",
    "    W[freq, 9, 18] = 1\n",
    "    #F2\n",
    "    W[freq, 10, 11] = 1\n",
    "    W[freq, 10, 19] = 1\n",
    "    #F4\n",
    "    W[freq, 11, 12] = 1\n",
    "    W[freq, 11, 20] = 1\n",
    "    #F6 \n",
    "    W[freq, 12, 13] = 1\n",
    "    W[freq, 12, 21] = 1\n",
    "    #F8\n",
    "    W[freq, 13, 22] = 1\n",
    "    #FT7\n",
    "    W[freq, 14, 15] = 1\n",
    "    W[freq, 14, 23] = 1\n",
    "    #FC5 to TP8\n",
    "    for k in range(15, 41): #till TP8 (number 40) we have two new neigbors: on the right and under +1 and +9 (nine electrodes per line)\n",
    "        if k == 22 or k == 31 or k == 40 :\n",
    "            W[freq, k, k+9] = 1\n",
    "        else:\n",
    "            W[freq, k, k+1] = 1\n",
    "            W[freq, k, k+9] = 1\n",
    "    #P7\n",
    "    W[freq, 41, 42] = 1\n",
    "    W[freq, 41, 50] = 1\n",
    "    #P5\n",
    "    W[freq, 42, 43] = 1\n",
    "    W[freq, 42, 51] = 1\n",
    "    #P3\n",
    "    W[freq, 43, 44] = 1\n",
    "    #P1\n",
    "    W[freq, 44, 45] = 1\n",
    "    W[freq, 44, 52] = 1\n",
    "    #PZ\n",
    "    W[freq, 45, 46] = 1\n",
    "    W[freq, 45, 53] = 1\n",
    "    #P2\n",
    "    W[freq, 46, 47] = 1\n",
    "    W[freq, 46, 54] = 1\n",
    "    #P4\n",
    "    W[freq, 47, 48] = 1\n",
    "    #P6\n",
    "    W[freq, 48, 49] = 1\n",
    "    W[freq, 48, 55] = 1\n",
    "    #P8\n",
    "    W[freq, 49, 56] = 1\n",
    "    #PO7\n",
    "    W[freq, 50, 51] = 1\n",
    "    W[freq, 50, 57] = 1\n",
    "    #PO5\n",
    "    W[freq, 51, 52] = 1\n",
    "    W[freq, 50, 57] = 1\n",
    "    #PO3\n",
    "    W[freq, 52, 53] = 1\n",
    "    W[freq, 52, 58] = 1\n",
    "    #POZ\n",
    "    W[freq, 53, 54] = 1\n",
    "    W[freq, 53, 59] = 1\n",
    "    #PO4\n",
    "    W[freq, 54, 55] = 1\n",
    "    W[freq, 54, 60] = 1\n",
    "    #PO6\n",
    "    W[freq, 55, 56] = 1\n",
    "    W[freq, 55, 61] = 1\n",
    "    #PO8\n",
    "    W[freq, 56, 61] = 1\n",
    "    #CB1\n",
    "    W[freq, 57, 58] = 1\n",
    "    #O1\n",
    "    W[freq, 58, 59] = 1\n",
    "    #OZ\n",
    "    W[freq, 59, 60] = 1\n",
    "    #O2\n",
    "    W[freq, 60, 61] = 1\n",
    "\n",
    "for freq in range(5):\n",
    "    for i in range(feature_number):\n",
    "        for j in range(i, feature_number):\n",
    "            if W[freq, j, i] == 0:\n",
    "                W[freq, j, i] = W[freq, i, j]\n",
    "\n",
    "#for some training stability reasons we initialized the diagonal of W with 1\n",
    "for freq in range(5):\n",
    "    W[freq, :, :] = W[freq, :, :] + np.eye(W.shape[1], dtype=int)\n",
    "print(W[0])   \n",
    "print(np.transpose(W[0]) == W[0])\n",
    "W = torch.from_numpy(W)"
   ]
  },
  {
   "cell_type": "code",
   "execution_count": 8,
   "id": "e0bea284",
   "metadata": {},
   "outputs": [
    {
     "data": {
      "image/png": "[encoded data removed]",
      "text/plain": [
       "<Figure size 1440x720 with 1 Axes>"
      ]
     },
     "metadata": {},
     "output_type": "display_data"
    }
   ],
   "source": [
    "import matplotlib.pyplot as plt\n",
    "import networkx as nx\n",
    "\n",
    "W_plot = W[0]\n",
    "plt.figure(figsize = (20, 10))\n",
    "G = nx.from_numpy_array(W_plot.numpy())\n",
    "nx.draw_planar(G)"
   ]
  },
  {
   "cell_type": "markdown",
   "id": "14d63cdf",
   "metadata": {},
   "source": [
    "# FIND A WAY TO DRAW THE GRAPH BETTER"
   ]
  },
  {
   "cell_type": "code",
   "execution_count": 9,
   "id": "8d50cd87",
   "metadata": {},
   "outputs": [
    {
     "data": {
      "text/plain": [
       "'1.10.0'"
      ]
     },
     "execution_count": 9,
     "metadata": {},
     "output_type": "execute_result"
    }
   ],
   "source": [
    "torch.__version__"
   ]
  },
  {
   "cell_type": "markdown",
   "id": "96fd7602",
   "metadata": {},
   "source": [
    "## Creation of the dataset and dataloader"
   ]
  },
  {
   "cell_type": "code",
   "execution_count": 10,
   "id": "2695f229",
   "metadata": {},
   "outputs": [],
   "source": [
    "import torch.nn as nn\n",
    "import torch.nn.functional as F"
   ]
  },
  {
   "cell_type": "code",
   "execution_count": 11,
   "id": "0ea916e8",
   "metadata": {},
   "outputs": [
    {
     "name": "stdout",
     "output_type": "stream",
     "text": [
      "(62, 233, 5)\n",
      "(62, 235, 5)\n"
     ]
    }
   ],
   "source": [
    "data_example = data_ex['de_movingAve2']\n",
    "print(data_example.shape)\n",
    "data_example = data_ex['de_movingAve1']\n",
    "print(data_example.shape)"
   ]
  },
  {
   "cell_type": "code",
   "execution_count": 12,
   "id": "c2fd5b94",
   "metadata": {},
   "outputs": [
    {
     "data": {
      "text/plain": [
       "tensor([26.5561, 27.2247, 26.8758, 26.4291, 26.4127, 26.5124, 25.5665, 26.0805,\n",
       "        26.6996, 26.1163, 26.0040, 25.6098, 27.7226, 27.9743, 26.8461, 25.4917,\n",
       "        25.4371, 26.4739, 25.4029, 24.7316, 25.5531, 25.7269, 27.5291, 25.8157,\n",
       "        25.2200, 25.0360, 25.9591, 14.6803, 23.8669, 24.7903, 25.3112, 26.3336,\n",
       "        26.1486, 25.0055, 24.4776, 23.9248, 14.5588, 25.7711, 26.4780, 26.3417,\n",
       "        26.9905, 26.5443, 26.1485, 25.8919, 26.7255, 26.1698, 26.4846, 26.3106,\n",
       "        26.3832, 26.4737, 26.5507, 26.0687, 26.0002, 25.6622, 26.7959, 26.1968,\n",
       "        26.2504, 26.2034, 26.3934, 26.4136, 26.3797, 26.4576])"
      ]
     },
     "execution_count": 12,
     "metadata": {},
     "output_type": "execute_result"
    }
   ],
   "source": [
    "ttt = data_example[:, :, 0]\n",
    "ttt = torch.FloatTensor(ttt)\n",
    "torch.mean(ttt, 1)"
   ]
  },
  {
   "cell_type": "markdown",
   "id": "7442d23c",
   "metadata": {},
   "source": [
    "Not the same size we can make some padding to have the same."
   ]
  },
  {
   "cell_type": "code",
   "execution_count": 13,
   "id": "48cbf991",
   "metadata": {},
   "outputs": [],
   "source": [
    "from torch.utils.data import Dataset\n",
    "from torch.utils.data import random_split"
   ]
  },
  {
   "cell_type": "code",
   "execution_count": 14,
   "id": "aadd418d",
   "metadata": {},
   "outputs": [],
   "source": [
    "def import_matfiles(path):\n",
    "    list_mat_ex = os.listdir(path2)\n",
    "    #list_mat_file contains all interessant files for our research\n",
    "    list_mat_ex.remove('readme.txt')\n",
    "    #list_mat_file contains all interessant files for our research\n",
    "    label = list_mat_ex[-1]\n",
    "    print(label)\n",
    "    list_mat_ex.pop(-1)\n",
    "    return list_mat_ex, label\n",
    "    \n",
    "def find_max_shape(datas, freq = None):\n",
    "    #shape of data in datas (freq, nb channel, activity)\n",
    "    if freq == None:\n",
    "        max_ = datas[0].shape[2]\n",
    "        for data in datas[1:]:\n",
    "            act_shape = data.shape[2]\n",
    "            if act_shape > max_ :\n",
    "                max_ = act_shape\n",
    "    else :\n",
    "        #hape of data in datas (nb channel, activity)\n",
    "        max_ = datas[0].shape[1]\n",
    "        for data in datas[1:]:\n",
    "            act_shape = data.shape[1]\n",
    "            if act_shape > max_ :\n",
    "                max_ = act_shape\n",
    "    return max_  \n",
    "\n",
    "def x_shaper(x):\n",
    "    \"\"\"\n",
    "    Arg: x as when it outcome from the dataset\n",
    "    return: x as we wants tensor with (freq, nb_channel, activity)\n",
    "    \"\"\"\n",
    "    x = x.transpose((2, 0, 1))\n",
    "    return torch.from_numpy(x).type(torch.float32)\n",
    "\n",
    "def datas_shaper(datas):\n",
    "    res = []\n",
    "    for data in datas:\n",
    "        print(data.shape)\n",
    "        res.append(x_shaper(data))\n",
    "    return res \n",
    "\n",
    "def padd(datas, freq = None):\n",
    "    #shape of data in datas (freq, nb channel activity)\n",
    "    max_shape = find_max_shape(datas, freq =freq)\n",
    "    res = []\n",
    "    if freq == None :\n",
    "        for data in datas:\n",
    "            aux = torch.zeros((data.shape[0], data.shape[1], max_shape))\n",
    "            if data.shape[2] < max_shape:\n",
    "                add_shape = max_shape - data.shape[2]\n",
    "                for freq in range(data.shape[0]):\n",
    "                    pad_tensor = torch.zeros((data.shape[1], add_shape))\n",
    "                    aux[freq, :, :] = torch.cat((data[freq, :, :], pad_tensor), dim=1)\n",
    "                    aux = aux.type(torch.float32)\n",
    "                res.append(aux)\n",
    "            else :\n",
    "                res.append(data.type(torch.float32))\n",
    "    else :\n",
    "        for data in datas:\n",
    "            aux = torch.zeros((data.shape[0], max_shape))\n",
    "            if data.shape[1] < max_shape:\n",
    "                add_shape = max_shape - data.shape[1]\n",
    "                pad_tensor = torch.zeros((data.shape[0], add_shape))\n",
    "                aux = torch.cat((data, pad_tensor), dim=1)\n",
    "                aux = aux.type(torch.float32)\n",
    "                res.append(aux)\n",
    "            else :\n",
    "                res.append(data.type(torch.float32))\n",
    "    return res\n",
    "\n",
    "def normalize(x, freq = None):\n",
    "    if freq == None:\n",
    "        for frequencies in range(x.shape[0]):\n",
    "            mean_ = torch.mean(x[frequencies, :, :], 1).reshape(-1, 1)\n",
    "            std_ = torch.std(x[frequencies, : ,: ], 1).reshape(-1, 1)\n",
    "            x[frequencies, :, :] = (x[frequencies, :, :] - mean_) / std_\n",
    "            return x\n",
    "    else :\n",
    "        mean_ = torch.mean(x[freq, :, :], 1).reshape(-1, 1)\n",
    "        std_ = torch.std(x[freq, : ,: ], 1).reshape(-1, 1)\n",
    "        x[freq, :, :] = (x[freq, :, :] - mean_) / std_\n",
    "        return x[freq, :, :]"
   ]
  },
  {
   "cell_type": "code",
   "execution_count": 15,
   "id": "cf020542",
   "metadata": {},
   "outputs": [],
   "source": [
    "import os\n",
    "path2 = r'C:\\Users\\harol\\UsefulCode\\CP_DSAI\\Project\\Dataset\\SEED\\ExtractedFeatures'"
   ]
  },
  {
   "cell_type": "code",
   "execution_count": 16,
   "id": "8e0983e5",
   "metadata": {},
   "outputs": [
    {
     "name": "stdout",
     "output_type": "stream",
     "text": [
      "label.mat\n"
     ]
    }
   ],
   "source": [
    "l, label_ = import_matfiles(path2)\n",
    "labels = loadmat(path2 + '\\\\' + label_)['label']"
   ]
  },
  {
   "cell_type": "code",
   "execution_count": 41,
   "id": "c1d35b83",
   "metadata": {},
   "outputs": [],
   "source": [
    "#version to improve in a near future..\n",
    "class SignalDataset(Dataset):\n",
    "    def __init__(self, path, signals, subject_number, experiment_number, labels, smoothing_method, multifreq = False):\n",
    "        \"\"\"\n",
    "        Args: \n",
    "            path: path to folder with all the .mat files of the dataset\n",
    "            signals: feature that we want to extract\n",
    "            subject_number: subject of the experimenr\n",
    "            epxeriment_number: number of the experiment, like 0 week 1 week or 2 week \n",
    "            (MAYBE I MISUNDERSTOOD THIS PART READ AGAIN DATASET DETAILS)\n",
    "            labels: labels list\n",
    "            smoothing method: movingAve or LDS\n",
    "        \"\"\"\n",
    "        list_file, _ = import_matfiles(path)\n",
    "        #selection of interesting files that means the one related to the subject\n",
    "        list_sub_file = []\n",
    "        for file in list_file:\n",
    "            num = file.split('_')[0]\n",
    "            if int(num) == subject_number: \n",
    "                list_sub_file.append(file)\n",
    "             \n",
    "        working_file = list_sub_file[experiment_number]\n",
    "        \n",
    "        dic = loadmat(path + '\\\\' + working_file) \n",
    "        if smoothing_method == 'movingAve':\n",
    "            smooth = signals.lower() + '_movingAve'\n",
    "        elif smooting_method == 'LDS':\n",
    "            smooth = signals.lower() + '_LDS'\n",
    "        else :\n",
    "            raise ValueError('Please select a good smoothing method: movingAve or LDS')\n",
    "        \n",
    "        #maybe a list is not the best tool to store it\n",
    "        datas = []\n",
    "        for k in range(15):\n",
    "            sig = dic[smooth + str(k+1)]\n",
    "            sig = x_shaper(sig)\n",
    "            sig = normalize(sig, freq = 0) #change the freq if needed!!!!!!!!!!!!\n",
    "            datas.append(sig)\n",
    "            \n",
    "        \n",
    "        datas = padd(datas, freq = 0) #everything is happening in this function, the changement from Long to Float\n",
    "                                    #and the slicing for the frequency we want\n",
    "\n",
    "        labels = labels.reshape(-1, )\n",
    "        labels = labels + 1 #sliding to use CrossEntropy Pytorch function\n",
    "        labels = torch.from_numpy(labels)\n",
    "                                  \n",
    "                                  \n",
    "        self.datas = datas\n",
    "        self.labels = labels\n",
    "    \n",
    "    def __len__(self):\n",
    "        return len(self.datas)\n",
    "    \n",
    "    def __getitem__(self, idx):\n",
    "        return self.datas[idx], self.labels[idx].item()"
   ]
  },
  {
   "cell_type": "code",
   "execution_count": 42,
   "id": "2b6fd716",
   "metadata": {},
   "outputs": [
    {
     "name": "stdout",
     "output_type": "stream",
     "text": [
      "label.mat\n"
     ]
    }
   ],
   "source": [
    "path = r'C:\\Users\\harol\\UsefulCode\\CP_DSAI\\Project\\Dataset\\SEED\\ExtractedFeatures'\n",
    "signals = 'de'\n",
    "subject_number = 4\n",
    "experiment_number = 0\n",
    "labels = labels\n",
    "smoothing_method = 'movingAve'\n",
    "dataset = SignalDataset(path, signals, subject_number, experiment_number, labels, smoothing_method)\n",
    "train_dataset, test_dataset = random_split(dataset, [9, 6])"
   ]
  },
  {
   "cell_type": "code",
   "execution_count": 19,
   "id": "a0657f97",
   "metadata": {},
   "outputs": [
    {
     "name": "stdout",
     "output_type": "stream",
     "text": [
      "15\n",
      "9 6\n"
     ]
    }
   ],
   "source": [
    "print(len(dataset))\n",
    "print(len(train_dataset), len(test_dataset))"
   ]
  },
  {
   "cell_type": "code",
   "execution_count": 43,
   "id": "1cf11383",
   "metadata": {},
   "outputs": [],
   "source": [
    "batch_size = 1\n",
    "train_loader = torch.utils.data.DataLoader(train_dataset, batch_size = batch_size, shuffle = True)\n",
    "test_loader = torch.utils.data.DataLoader(test_dataset, batch_size = batch_size, shuffle = True)"
   ]
  },
  {
   "cell_type": "code",
   "execution_count": 44,
   "id": "1c223812",
   "metadata": {},
   "outputs": [
    {
     "name": "stdout",
     "output_type": "stream",
     "text": [
      "torch.float32\n",
      "torch.Size([1, 62, 265])\n",
      "tensor([1])\n"
     ]
    }
   ],
   "source": [
    "samp = next(iter(train_loader))\n",
    "data, lab = samp\n",
    "print(data.dtype)\n",
    "print(data.shape)\n",
    "print(lab)"
   ]
  },
  {
   "cell_type": "markdown",
   "id": "a288f8b2",
   "metadata": {},
   "source": [
    "## Model designing"
   ]
  },
  {
   "cell_type": "code",
   "execution_count": 22,
   "id": "ab447bb3",
   "metadata": {},
   "outputs": [],
   "source": [
    "#Test function\n",
    "#L = laplacian(W)\n",
    "#rescaled_laplacian(L)\n",
    "#x = data_example\n",
    "#x = x_shaper(x)\n",
    "#x = x.type(torch.float32)\n",
    "#theta = torch.rand(4)\n",
    "#cheby_laplacian(L, x, theta, 4).shape"
   ]
  },
  {
   "cell_type": "code",
   "execution_count": 23,
   "id": "8bb6a325",
   "metadata": {},
   "outputs": [],
   "source": [
    "def D_matrix(W, multifreq = True):\n",
    "    if multifreq:\n",
    "        for freq in range(W.shape[0]):\n",
    "            D[freq, :, :] = torch.diag(W[freq].sum(dim=-1))\n",
    "        L = D - W\n",
    "        L = L.type(torch.float32)\n",
    "    else :\n",
    "        D = torch.diag(W.sum(dim=-1))\n",
    "    return D\n",
    "\n",
    "def laplacian(W, multifreq = True): #here we calculate the non noramlized Laplacian matrix of the graph\n",
    "    #multifreq means if we get the five frequencies in one or not\n",
    "    L = D_matrix(W, multifreq = multifreq) - W\n",
    "    L = L.type(torch.float32)\n",
    "    return L\n",
    "\n",
    "\n",
    "def x_shaper(x):\n",
    "    \"\"\"\n",
    "    Arg: x as when it outcome from the dataset\n",
    "    return: x as we wants tensor with (freq, nb_channel, activity)\n",
    "    \"\"\"\n",
    "    x = x.transpose((2, 0, 1))\n",
    "    return torch.from_numpy(x)\n",
    "\n",
    "\n",
    "def cheby_laplacian(L, x, theta, multifreq = True):\n",
    "    \"\"\"\n",
    "    Arg: Laplacian matrix, x the extracted signal, theta chebyshev coefficients, K the order of the polynom\n",
    "    \n",
    "    we suppose that x was transform to a tensor and that its shape was made as (freq, nb channel, activity)\n",
    "    \n",
    "    Return: the sum thetak*Tk(L)*x\n",
    "    \"\"\"\n",
    " \n",
    "    y = torch.zeros_like(x) \n",
    "    K = theta.shape[0]\n",
    "    \n",
    "    if multifreq :\n",
    "        L_tilde = torch.zeros_like(L) \n",
    "        for freq in range(L.shape[0]):\n",
    "            #chebyshev polynoms is a basis in the domain [-1, 1]\n",
    "            with torch.no_grad():\n",
    "                eigenvalues, eigenvectors = torch.linalg.eig(L[freq, :, :])\n",
    "                eigenvalues = eigenvalues.real #since L is symmetric real L is diagonalizable in the real space\n",
    "                max_lambda = torch.max(eigenvalues).item() \n",
    "            L_tilde[freq, :, :] = ((2*L[freq, :, :]) / max_lambda) - torch.eye(L.shape[1])\n",
    "            \n",
    "            x_ = x[freq, :, :]\n",
    "            L_ = L_tilde[freq, :, :]\n",
    "            L_.type(torch.float32)\n",
    "\n",
    "            x0_hat = x_\n",
    "            x1_hat = torch.matmul(L_, x_)\n",
    "\n",
    "            if K == 0:\n",
    "                y[freq, :, :] = x0_hat*theta[0]\n",
    "            if K == 1:\n",
    "                y[freq, :, :] = x1_hat*theta[1] + x0_hat*theta[0]\n",
    "            else:\n",
    "                y[freq, :, :] = x0_hat*theta[0] + x1_hat*theta[1] \n",
    "                for k in range(2, K):\n",
    "                    x2_hat = 2*torch.matmul(L_, x1_hat) - x0_hat\n",
    "                    y[freq, :, :] += x2_hat*theta[k]\n",
    "                    x1_hat = x2_hat\n",
    "                    x0_hat = x1_hat\n",
    "    else :\n",
    "        with torch.no_grad():\n",
    "            eigenvalues, eigenvectors = torch.linalg.eig(L)\n",
    "            eigenvalues = eigenvalues.real #since L is symmetric real L is diagonalizable in the real space\n",
    "            max_lambda = torch.max(eigenvalues).item() \n",
    "            \n",
    "        #rescaling\n",
    "        L_tilde = ((2*L) / max_lambda) - torch.eye(L.shape[0])\n",
    "        \n",
    "        #intialization of variables\n",
    "        x_ = x\n",
    "        L_ = L_tilde\n",
    "        \n",
    "        L_ = L_.type(torch.float32)\n",
    "\n",
    "        x0_hat = x_\n",
    "        x1_hat = torch.matmul(L_, x_)\n",
    "        \n",
    "        #calculus of Chebyshev polynoms\n",
    "        if K == 0:\n",
    "            y = x0_hat*theta[0]\n",
    "        if K == 1:\n",
    "            y = x1_hat*theta[1] + x0_hat*theta[0]\n",
    "        else:\n",
    "            y = x0_hat*theta[0] + x1_hat*theta[1] \n",
    "            for k in range(2, K):\n",
    "                x2_hat = 2*torch.matmul(L_, x1_hat) - x0_hat\n",
    "                y += x2_hat*theta[k]\n",
    "                x1_hat = x2_hat\n",
    "                x0_hat = x1_hat              \n",
    "    return y"
   ]
  },
  {
   "cell_type": "code",
   "execution_count": 24,
   "id": "f04b75d6",
   "metadata": {},
   "outputs": [],
   "source": [
    "class DGCN1(nn.Module):\n",
    "\n",
    "    def __init__(self, W, K, input_size, hidden_size, output_size):\n",
    "        super().__init__()\n",
    "        self.theta = nn.Parameter(torch.rand(K))\n",
    "        self.W = nn.Parameter(W)\n",
    "        self.K = K\n",
    "        self.relu = nn.ReLU()\n",
    "        self.l1 = nn.Linear(input_size, hidden_size)\n",
    "        self.l2 = nn.Linear(hidden_size, output_size)\n",
    "        #add some dropout !!!\n",
    "        \n",
    "    def forward(self, x):\n",
    "        L = laplacian(self.W, multifreq = False) \n",
    "        X = cheby_laplacian(L, x, self.theta,  multifreq = False)\n",
    "        # X shape (62, 'activity')\n",
    "        X = F.relu(X)\n",
    "        sh = X.shape[1]*X.shape[2] #there is the batch size at the beginning\n",
    "        X = X.view(-1, sh)\n",
    "        #shape (62.'activity', )\n",
    "        X = self.l1(X)\n",
    "        # (hidden_size, )\n",
    "        X = F.relu(X)\n",
    "        X = self.l2(X)\n",
    "        # (3, )\n",
    "        return X"
   ]
  },
  {
   "cell_type": "code",
   "execution_count": 94,
   "id": "0af9958f",
   "metadata": {},
   "outputs": [],
   "source": [
    "class DGCNLayer(nn.Module):\n",
    "    def __init__(self, W, K):\n",
    "        super().__init__()\n",
    "        self.W = nn.Parameter(W)\n",
    "        self.theta = nn.Parameter(torch.FloatTensor(K, 1))\n",
    "        self.theta = nn.init.uniform_(self.theta, 0, 10)\n",
    "        \n",
    "    def forward(self, x):\n",
    "        L = laplacian(self.W, multifreq = False)\n",
    "        X = cheby_laplacian(L, x, self.theta, multifreq = False)\n",
    "        return X"
   ]
  },
  {
   "cell_type": "code",
   "execution_count": 149,
   "id": "7659f021",
   "metadata": {},
   "outputs": [],
   "source": [
    "class DGCN2(nn.Module):\n",
    "    def __init__(self, W, K, input_size, hidden_size, output_size):\n",
    "        super().__init__()\n",
    "        self.GCNLayer1 = DGCNLayer(W, K)\n",
    "        self.input_size = input_size\n",
    "        self.l1 = nn.Linear(input_size, hidden_size)\n",
    "        self.l2 = nn.Linear(hidden_size, output_size)\n",
    "        self.tanh = nn.Tanh()\n",
    "        \n",
    "    def forward(self, x):\n",
    "        x = self.GCNLayer1(x) \n",
    "        x = F.relu(x)\n",
    "        x = x.view(-1, self.input_size)\n",
    "        x = self.l1(x)\n",
    "        x = self.tanh(x)\n",
    "        x = self.l2(x)\n",
    "        return self.tanh(x)"
   ]
  },
  {
   "cell_type": "code",
   "execution_count": 150,
   "id": "74d84eb5",
   "metadata": {},
   "outputs": [
    {
     "data": {
      "text/plain": [
       "16430"
      ]
     },
     "execution_count": 150,
     "metadata": {},
     "output_type": "execute_result"
    }
   ],
   "source": [
    "62*265"
   ]
  },
  {
   "cell_type": "code",
   "execution_count": 151,
   "id": "57e41dc7",
   "metadata": {},
   "outputs": [],
   "source": [
    "W_ = W[0].type(torch.float32).clone().detach().requires_grad_(True)"
   ]
  },
  {
   "cell_type": "code",
   "execution_count": 152,
   "id": "1fb6f99a",
   "metadata": {},
   "outputs": [],
   "source": [
    "#theta = torch.rand(20)\n",
    "model = DGCN2(W_, 15, 62*265, 50, 3).to(device)"
   ]
  },
  {
   "cell_type": "code",
   "execution_count": 153,
   "id": "748ac268",
   "metadata": {},
   "outputs": [
    {
     "name": "stdout",
     "output_type": "stream",
     "text": [
      "Parameter containing:\n",
      "tensor([[1.6026],\n",
      "        [2.7712],\n",
      "        [0.2763],\n",
      "        [2.9452],\n",
      "        [9.5780],\n",
      "        [4.5091],\n",
      "        [7.7871],\n",
      "        [9.7981],\n",
      "        [5.2435],\n",
      "        [5.2162],\n",
      "        [5.3899],\n",
      "        [9.8510],\n",
      "        [7.5032],\n",
      "        [1.6485],\n",
      "        [0.7065]], requires_grad=True)\n",
      "Parameter containing:\n",
      "tensor([[1., 1., 0.,  ..., 0., 0., 0.],\n",
      "        [1., 1., 1.,  ..., 0., 0., 0.],\n",
      "        [0., 1., 1.,  ..., 0., 0., 0.],\n",
      "        ...,\n",
      "        [0., 0., 0.,  ..., 1., 1., 0.],\n",
      "        [0., 0., 0.,  ..., 1., 1., 1.],\n",
      "        [0., 0., 0.,  ..., 0., 1., 1.]], requires_grad=True)\n"
     ]
    }
   ],
   "source": [
    "print(model.GCNLayer1.theta)\n",
    "print(model.GCNLayer1.W)"
   ]
  },
  {
   "cell_type": "code",
   "execution_count": 154,
   "id": "dc3608c3",
   "metadata": {},
   "outputs": [],
   "source": [
    "learning_rate = 0.05\n",
    "#not all like the paper in testing  \n",
    "criterion = nn.CrossEntropyLoss()\n",
    "optimizer = torch.optim.SGD(model.parameters(), lr=learning_rate, momentum = 0.9) "
   ]
  },
  {
   "cell_type": "code",
   "execution_count": 155,
   "id": "fa8ed89b",
   "metadata": {},
   "outputs": [
    {
     "name": "stdout",
     "output_type": "stream",
     "text": [
      "<bound method Module.parameters of DGCN2(\n",
      "  (GCNLayer1): DGCNLayer()\n",
      "  (l1): Linear(in_features=16430, out_features=50, bias=True)\n",
      "  (l2): Linear(in_features=50, out_features=3, bias=True)\n",
      "  (tanh): Tanh()\n",
      ")>\n",
      "<class 'torch.Tensor'> torch.Size([62, 62])\n",
      "<class 'torch.Tensor'> torch.Size([15, 1])\n",
      "<class 'torch.Tensor'> torch.Size([50, 16430])\n",
      "<class 'torch.Tensor'> torch.Size([50])\n",
      "<class 'torch.Tensor'> torch.Size([3, 50])\n",
      "<class 'torch.Tensor'> torch.Size([3])\n"
     ]
    }
   ],
   "source": [
    "print(model.parameters)\n",
    "for param in model.parameters():\n",
    "    print(type(param.data), param.size())"
   ]
  },
  {
   "cell_type": "code",
   "execution_count": 156,
   "id": "7f900959",
   "metadata": {},
   "outputs": [
    {
     "name": "stdout",
     "output_type": "stream",
     "text": [
      "tensor([1])\n",
      "tensor([[0.1053, 0.7385, 0.8066]], grad_fn=<TanhBackward0>)\n"
     ]
    }
   ],
   "source": [
    "dat1, lab1 = next(iter(train_loader))\n",
    "pred1 = model(dat1)\n",
    "print(lab1)\n",
    "print(pred1)"
   ]
  },
  {
   "cell_type": "code",
   "execution_count": 157,
   "id": "2026d097",
   "metadata": {},
   "outputs": [
    {
     "name": "stdout",
     "output_type": "stream",
     "text": [
      "Epoch 5/500, Tr Loss: 1.7782, Tr Acc: 11.1111, Val Loss: 1.1647, Val Acc: 33.3333\n",
      "Epoch 10/500, Tr Loss: 1.3868, Tr Acc: 44.4444, Val Loss: 0.9022, Val Acc: 83.3333\n",
      "Epoch 15/500, Tr Loss: 1.4878, Tr Acc: 33.3333, Val Loss: 1.0852, Val Acc: 16.6667\n",
      "Epoch 20/500, Tr Loss: 1.0091, Tr Acc: 22.2222, Val Loss: 1.5944, Val Acc: 0.0000\n",
      "Epoch 25/500, Tr Loss: 1.3714, Tr Acc: 44.4444, Val Loss: 1.8698, Val Acc: 16.6667\n",
      "Epoch 30/500, Tr Loss: 1.2806, Tr Acc: 55.5556, Val Loss: 1.6720, Val Acc: 16.6667\n",
      "Epoch 35/500, Tr Loss: 1.4443, Tr Acc: 22.2222, Val Loss: 1.6304, Val Acc: 33.3333\n",
      "Epoch 40/500, Tr Loss: 1.4671, Tr Acc: 33.3333, Val Loss: 2.2484, Val Acc: 16.6667\n",
      "Epoch 45/500, Tr Loss: 1.0767, Tr Acc: 66.6667, Val Loss: 1.6922, Val Acc: 50.0000\n",
      "Epoch 50/500, Tr Loss: 1.1909, Tr Acc: 44.4444, Val Loss: 1.6655, Val Acc: 16.6667\n",
      "Epoch 55/500, Tr Loss: 0.8932, Tr Acc: 55.5556, Val Loss: 1.9191, Val Acc: 33.3333\n",
      "Epoch 60/500, Tr Loss: 1.3686, Tr Acc: 44.4444, Val Loss: 2.0798, Val Acc: 16.6667\n",
      "Epoch 65/500, Tr Loss: 1.2066, Tr Acc: 33.3333, Val Loss: 1.7555, Val Acc: 33.3333\n",
      "Epoch 70/500, Tr Loss: 1.1199, Tr Acc: 33.3333, Val Loss: 1.2709, Val Acc: 33.3333\n",
      "Epoch 75/500, Tr Loss: 1.4052, Tr Acc: 44.4444, Val Loss: 1.4995, Val Acc: 33.3333\n",
      "Epoch 80/500, Tr Loss: 0.9246, Tr Acc: 44.4444, Val Loss: 1.3191, Val Acc: 33.3333\n",
      "Epoch 85/500, Tr Loss: 1.0777, Tr Acc: 44.4444, Val Loss: 1.4933, Val Acc: 50.0000\n",
      "Epoch 90/500, Tr Loss: 1.2148, Tr Acc: 55.5556, Val Loss: 1.6675, Val Acc: 16.6667\n"
     ]
    },
    {
     "ename": "KeyboardInterrupt",
     "evalue": "",
     "output_type": "error",
     "traceback": [
      "\u001b[1;31m---------------------------------------------------------------------------\u001b[0m",
      "\u001b[1;31mKeyboardInterrupt\u001b[0m                         Traceback (most recent call last)",
      "\u001b[1;32m<ipython-input-157-0324729477cd>\u001b[0m in \u001b[0;36m<module>\u001b[1;34m\u001b[0m\n\u001b[0;32m     61\u001b[0m     \u001b[1;32mfor\u001b[0m \u001b[0mi\u001b[0m\u001b[1;33m,\u001b[0m \u001b[1;33m(\u001b[0m\u001b[0msignal\u001b[0m\u001b[1;33m,\u001b[0m \u001b[0mlabel_\u001b[0m\u001b[1;33m)\u001b[0m \u001b[1;32min\u001b[0m \u001b[0menumerate\u001b[0m\u001b[1;33m(\u001b[0m\u001b[0mtest_loader\u001b[0m\u001b[1;33m)\u001b[0m\u001b[1;33m:\u001b[0m\u001b[1;33m\u001b[0m\u001b[1;33m\u001b[0m\u001b[0m\n\u001b[0;32m     62\u001b[0m \u001b[1;33m\u001b[0m\u001b[0m\n\u001b[1;32m---> 63\u001b[1;33m         \u001b[0moutputs\u001b[0m \u001b[1;33m=\u001b[0m \u001b[0mmodel\u001b[0m\u001b[1;33m(\u001b[0m\u001b[0msignal\u001b[0m\u001b[1;33m)\u001b[0m      \u001b[1;31m# Do the forward pass\u001b[0m\u001b[1;33m\u001b[0m\u001b[1;33m\u001b[0m\u001b[0m\n\u001b[0m\u001b[0;32m     64\u001b[0m         \u001b[0mloss\u001b[0m \u001b[1;33m+=\u001b[0m \u001b[0mcriterion\u001b[0m\u001b[1;33m(\u001b[0m\u001b[0moutputs\u001b[0m\u001b[1;33m,\u001b[0m \u001b[0mlabel_\u001b[0m\u001b[1;33m)\u001b[0m\u001b[1;33m.\u001b[0m\u001b[0mitem\u001b[0m\u001b[1;33m(\u001b[0m\u001b[1;33m)\u001b[0m \u001b[1;31m# Calculate the loss\u001b[0m\u001b[1;33m\u001b[0m\u001b[1;33m\u001b[0m\u001b[0m\n\u001b[0;32m     65\u001b[0m \u001b[1;33m\u001b[0m\u001b[0m\n",
      "\u001b[1;32m~\\anaconda3\\lib\\site-packages\\torch\\nn\\modules\\module.py\u001b[0m in \u001b[0;36m_call_impl\u001b[1;34m(self, *input, **kwargs)\u001b[0m\n\u001b[0;32m   1100\u001b[0m         if not (self._backward_hooks or self._forward_hooks or self._forward_pre_hooks or _global_backward_hooks\n\u001b[0;32m   1101\u001b[0m                 or _global_forward_hooks or _global_forward_pre_hooks):\n\u001b[1;32m-> 1102\u001b[1;33m             \u001b[1;32mreturn\u001b[0m \u001b[0mforward_call\u001b[0m\u001b[1;33m(\u001b[0m\u001b[1;33m*\u001b[0m\u001b[0minput\u001b[0m\u001b[1;33m,\u001b[0m \u001b[1;33m**\u001b[0m\u001b[0mkwargs\u001b[0m\u001b[1;33m)\u001b[0m\u001b[1;33m\u001b[0m\u001b[1;33m\u001b[0m\u001b[0m\n\u001b[0m\u001b[0;32m   1103\u001b[0m         \u001b[1;31m# Do not call functions when jit is used\u001b[0m\u001b[1;33m\u001b[0m\u001b[1;33m\u001b[0m\u001b[1;33m\u001b[0m\u001b[0m\n\u001b[0;32m   1104\u001b[0m         \u001b[0mfull_backward_hooks\u001b[0m\u001b[1;33m,\u001b[0m \u001b[0mnon_full_backward_hooks\u001b[0m \u001b[1;33m=\u001b[0m \u001b[1;33m[\u001b[0m\u001b[1;33m]\u001b[0m\u001b[1;33m,\u001b[0m \u001b[1;33m[\u001b[0m\u001b[1;33m]\u001b[0m\u001b[1;33m\u001b[0m\u001b[1;33m\u001b[0m\u001b[0m\n",
      "\u001b[1;32m<ipython-input-149-ffd064410894>\u001b[0m in \u001b[0;36mforward\u001b[1;34m(self, x)\u001b[0m\n\u001b[0;32m      9\u001b[0m \u001b[1;33m\u001b[0m\u001b[0m\n\u001b[0;32m     10\u001b[0m     \u001b[1;32mdef\u001b[0m \u001b[0mforward\u001b[0m\u001b[1;33m(\u001b[0m\u001b[0mself\u001b[0m\u001b[1;33m,\u001b[0m \u001b[0mx\u001b[0m\u001b[1;33m)\u001b[0m\u001b[1;33m:\u001b[0m\u001b[1;33m\u001b[0m\u001b[1;33m\u001b[0m\u001b[0m\n\u001b[1;32m---> 11\u001b[1;33m         \u001b[0mx\u001b[0m \u001b[1;33m=\u001b[0m \u001b[0mself\u001b[0m\u001b[1;33m.\u001b[0m\u001b[0mGCNLayer1\u001b[0m\u001b[1;33m(\u001b[0m\u001b[0mx\u001b[0m\u001b[1;33m)\u001b[0m\u001b[1;33m\u001b[0m\u001b[1;33m\u001b[0m\u001b[0m\n\u001b[0m\u001b[0;32m     12\u001b[0m         \u001b[0mx\u001b[0m \u001b[1;33m=\u001b[0m \u001b[0mF\u001b[0m\u001b[1;33m.\u001b[0m\u001b[0mrelu\u001b[0m\u001b[1;33m(\u001b[0m\u001b[0mx\u001b[0m\u001b[1;33m)\u001b[0m\u001b[1;33m\u001b[0m\u001b[1;33m\u001b[0m\u001b[0m\n\u001b[0;32m     13\u001b[0m         \u001b[0mx\u001b[0m \u001b[1;33m=\u001b[0m \u001b[0mx\u001b[0m\u001b[1;33m.\u001b[0m\u001b[0mview\u001b[0m\u001b[1;33m(\u001b[0m\u001b[1;33m-\u001b[0m\u001b[1;36m1\u001b[0m\u001b[1;33m,\u001b[0m \u001b[0mself\u001b[0m\u001b[1;33m.\u001b[0m\u001b[0minput_size\u001b[0m\u001b[1;33m)\u001b[0m\u001b[1;33m\u001b[0m\u001b[1;33m\u001b[0m\u001b[0m\n",
      "\u001b[1;32m~\\anaconda3\\lib\\site-packages\\torch\\nn\\modules\\module.py\u001b[0m in \u001b[0;36m_call_impl\u001b[1;34m(self, *input, **kwargs)\u001b[0m\n\u001b[0;32m   1100\u001b[0m         if not (self._backward_hooks or self._forward_hooks or self._forward_pre_hooks or _global_backward_hooks\n\u001b[0;32m   1101\u001b[0m                 or _global_forward_hooks or _global_forward_pre_hooks):\n\u001b[1;32m-> 1102\u001b[1;33m             \u001b[1;32mreturn\u001b[0m \u001b[0mforward_call\u001b[0m\u001b[1;33m(\u001b[0m\u001b[1;33m*\u001b[0m\u001b[0minput\u001b[0m\u001b[1;33m,\u001b[0m \u001b[1;33m**\u001b[0m\u001b[0mkwargs\u001b[0m\u001b[1;33m)\u001b[0m\u001b[1;33m\u001b[0m\u001b[1;33m\u001b[0m\u001b[0m\n\u001b[0m\u001b[0;32m   1103\u001b[0m         \u001b[1;31m# Do not call functions when jit is used\u001b[0m\u001b[1;33m\u001b[0m\u001b[1;33m\u001b[0m\u001b[1;33m\u001b[0m\u001b[0m\n\u001b[0;32m   1104\u001b[0m         \u001b[0mfull_backward_hooks\u001b[0m\u001b[1;33m,\u001b[0m \u001b[0mnon_full_backward_hooks\u001b[0m \u001b[1;33m=\u001b[0m \u001b[1;33m[\u001b[0m\u001b[1;33m]\u001b[0m\u001b[1;33m,\u001b[0m \u001b[1;33m[\u001b[0m\u001b[1;33m]\u001b[0m\u001b[1;33m\u001b[0m\u001b[1;33m\u001b[0m\u001b[0m\n",
      "\u001b[1;32m<ipython-input-94-76eb6dbb5550>\u001b[0m in \u001b[0;36mforward\u001b[1;34m(self, x)\u001b[0m\n\u001b[0;32m      8\u001b[0m     \u001b[1;32mdef\u001b[0m \u001b[0mforward\u001b[0m\u001b[1;33m(\u001b[0m\u001b[0mself\u001b[0m\u001b[1;33m,\u001b[0m \u001b[0mx\u001b[0m\u001b[1;33m)\u001b[0m\u001b[1;33m:\u001b[0m\u001b[1;33m\u001b[0m\u001b[1;33m\u001b[0m\u001b[0m\n\u001b[0;32m      9\u001b[0m         \u001b[0mL\u001b[0m \u001b[1;33m=\u001b[0m \u001b[0mlaplacian\u001b[0m\u001b[1;33m(\u001b[0m\u001b[0mself\u001b[0m\u001b[1;33m.\u001b[0m\u001b[0mW\u001b[0m\u001b[1;33m,\u001b[0m \u001b[0mmultifreq\u001b[0m \u001b[1;33m=\u001b[0m \u001b[1;32mFalse\u001b[0m\u001b[1;33m)\u001b[0m\u001b[1;33m\u001b[0m\u001b[1;33m\u001b[0m\u001b[0m\n\u001b[1;32m---> 10\u001b[1;33m         \u001b[0mX\u001b[0m \u001b[1;33m=\u001b[0m \u001b[0mcheby_laplacian\u001b[0m\u001b[1;33m(\u001b[0m\u001b[0mL\u001b[0m\u001b[1;33m,\u001b[0m \u001b[0mx\u001b[0m\u001b[1;33m,\u001b[0m \u001b[0mself\u001b[0m\u001b[1;33m.\u001b[0m\u001b[0mtheta\u001b[0m\u001b[1;33m,\u001b[0m \u001b[0mmultifreq\u001b[0m \u001b[1;33m=\u001b[0m \u001b[1;32mFalse\u001b[0m\u001b[1;33m)\u001b[0m\u001b[1;33m\u001b[0m\u001b[1;33m\u001b[0m\u001b[0m\n\u001b[0m\u001b[0;32m     11\u001b[0m         \u001b[1;32mreturn\u001b[0m \u001b[0mX\u001b[0m\u001b[1;33m\u001b[0m\u001b[1;33m\u001b[0m\u001b[0m\n",
      "\u001b[1;32m<ipython-input-23-60a2502b3f8c>\u001b[0m in \u001b[0;36mcheby_laplacian\u001b[1;34m(L, x, theta, multifreq)\u001b[0m\n\u001b[0;32m     91\u001b[0m             \u001b[0my\u001b[0m \u001b[1;33m=\u001b[0m \u001b[0mx0_hat\u001b[0m\u001b[1;33m*\u001b[0m\u001b[0mtheta\u001b[0m\u001b[1;33m[\u001b[0m\u001b[1;36m0\u001b[0m\u001b[1;33m]\u001b[0m \u001b[1;33m+\u001b[0m \u001b[0mx1_hat\u001b[0m\u001b[1;33m*\u001b[0m\u001b[0mtheta\u001b[0m\u001b[1;33m[\u001b[0m\u001b[1;36m1\u001b[0m\u001b[1;33m]\u001b[0m\u001b[1;33m\u001b[0m\u001b[1;33m\u001b[0m\u001b[0m\n\u001b[0;32m     92\u001b[0m             \u001b[1;32mfor\u001b[0m \u001b[0mk\u001b[0m \u001b[1;32min\u001b[0m \u001b[0mrange\u001b[0m\u001b[1;33m(\u001b[0m\u001b[1;36m2\u001b[0m\u001b[1;33m,\u001b[0m \u001b[0mK\u001b[0m\u001b[1;33m)\u001b[0m\u001b[1;33m:\u001b[0m\u001b[1;33m\u001b[0m\u001b[1;33m\u001b[0m\u001b[0m\n\u001b[1;32m---> 93\u001b[1;33m                 \u001b[0mx2_hat\u001b[0m \u001b[1;33m=\u001b[0m \u001b[1;36m2\u001b[0m\u001b[1;33m*\u001b[0m\u001b[0mtorch\u001b[0m\u001b[1;33m.\u001b[0m\u001b[0mmatmul\u001b[0m\u001b[1;33m(\u001b[0m\u001b[0mL_\u001b[0m\u001b[1;33m,\u001b[0m \u001b[0mx1_hat\u001b[0m\u001b[1;33m)\u001b[0m \u001b[1;33m-\u001b[0m \u001b[0mx0_hat\u001b[0m\u001b[1;33m\u001b[0m\u001b[1;33m\u001b[0m\u001b[0m\n\u001b[0m\u001b[0;32m     94\u001b[0m                 \u001b[0my\u001b[0m \u001b[1;33m+=\u001b[0m \u001b[0mx2_hat\u001b[0m\u001b[1;33m*\u001b[0m\u001b[0mtheta\u001b[0m\u001b[1;33m[\u001b[0m\u001b[0mk\u001b[0m\u001b[1;33m]\u001b[0m\u001b[1;33m\u001b[0m\u001b[1;33m\u001b[0m\u001b[0m\n\u001b[0;32m     95\u001b[0m                 \u001b[0mx1_hat\u001b[0m \u001b[1;33m=\u001b[0m \u001b[0mx2_hat\u001b[0m\u001b[1;33m\u001b[0m\u001b[1;33m\u001b[0m\u001b[0m\n",
      "\u001b[1;31mKeyboardInterrupt\u001b[0m: "
     ]
    }
   ],
   "source": [
    "num_epochs = 500\n",
    "alpha = 0.0005 #regularization parameter\n",
    "train_loss = []\n",
    "valid_loss = []\n",
    "train_accuracy = []\n",
    "valid_accuracy = []\n",
    "\n",
    "for epoch in range(num_epochs):\n",
    "    \n",
    "    ############################\n",
    "    # Train\n",
    "    ############################\n",
    "    \n",
    "    iter_loss = 0.0\n",
    "    correct = 0\n",
    "    iterations = 0\n",
    "    \n",
    "    model.train()        # Put the network into training mode\n",
    "    \n",
    "    for i, (signal, label_) in enumerate(train_loader):\n",
    "        \n",
    "        optimizer.zero_grad()     # Clear off the gradients from any past operation\n",
    "        outputs = model(signal)      # Do the forward pass\n",
    "        loss = criterion(outputs, label_) # Calculate the loss\n",
    "        iter_loss += loss.item() # Accumulate the loss\n",
    "\n",
    "        #L1-Regularization\n",
    "        l1_norm = sum(abs(p).sum() for p in model.parameters())\n",
    "        loss = loss + alpha*l1_norm\n",
    "        loss.backward()           # Calculate the gradients with help of back propagation\n",
    "       #print('W')\n",
    "       #print(model.GCNLayer1.W)\n",
    "       #print(model.GCNLayer1.W.grad)\n",
    "       #print('theta')\n",
    "       #print(model.GCNLayer1.theta)\n",
    "       #print(model.GCNLayer1.theta.grad)\n",
    "        optimizer.step()          # Adjust the parameters based on the gradients\n",
    "        \n",
    "        \n",
    "        # Record the correct predictions for training data \n",
    "        predicted = torch.max(outputs.data, 1)[1]\n",
    "        correct += (predicted == label_).sum()\n",
    "        iterations += 1\n",
    "    \n",
    "    # Record the training loss\n",
    "    train_loss.append(iter_loss / iterations)\n",
    "    # Record the training accuracy\n",
    "    train_accuracy.append((100 * correct / float(len(train_dataset))))\n",
    "   \n",
    "\n",
    "    ############################\n",
    "    # Test\n",
    "    ############################\n",
    "    \n",
    "    loss = 0.0\n",
    "    correct = 0\n",
    "    iterations = 0\n",
    "\n",
    "    model.eval()                    # Put the network into evaluate mode\n",
    "    \n",
    "    for i, (signal, label_) in enumerate(test_loader):\n",
    "        \n",
    "        outputs = model(signal)      # Do the forward pass\n",
    "        loss += criterion(outputs, label_).item() # Calculate the loss\n",
    "        \n",
    "        # Record the correct predictions for training data\n",
    "        predicted = torch.max(outputs.data, 1)[1]\n",
    "        correct += (predicted == label_).sum()\n",
    "        \n",
    "        iterations += 1\n",
    "\n",
    "    # Record the validation loss\n",
    "    valid_loss.append(loss / iterations)\n",
    "    # Record the validation accuracy\n",
    "    correct_scalar = np.array([correct.clone()])[0]\n",
    "    valid_accuracy.append(correct_scalar.item() / len(test_dataset) * 100.0)\n",
    "    \n",
    "    if (epoch+1) % 5 == 0:\n",
    "        print ('Epoch %d/%d, Tr Loss: %.4f, Tr Acc: %.4f, Val Loss: %.4f, Val Acc: %.4f'\n",
    "               %(epoch+1, num_epochs, train_loss[-1], train_accuracy[-1], \n",
    "                 valid_loss[-1], valid_accuracy[-1]))"
   ]
  },
  {
   "cell_type": "code",
   "execution_count": null,
   "id": "dd0d6092",
   "metadata": {},
   "outputs": [],
   "source": [
    "print(model.GCNLayer1.theta)\n",
    "print(model.GCNLayer1.W)"
   ]
  },
  {
   "cell_type": "code",
   "execution_count": null,
   "id": "936b76a0",
   "metadata": {},
   "outputs": [],
   "source": []
  },
  {
   "cell_type": "code",
   "execution_count": null,
   "id": "594ac33b",
   "metadata": {},
   "outputs": [],
   "source": []
  },
  {
   "cell_type": "code",
   "execution_count": null,
   "id": "c621c403",
   "metadata": {},
   "outputs": [],
   "source": []
  },
  {
   "cell_type": "code",
   "execution_count": null,
   "id": "59468024",
   "metadata": {},
   "outputs": [],
   "source": []
  },
  {
   "cell_type": "code",
   "execution_count": 71,
   "id": "ed99abb9",
   "metadata": {},
   "outputs": [],
   "source": [
    "class LinearModel(nn.Module):\n",
    "    def __init__(self, input_size, hidden_size, output_size):\n",
    "        super().__init__()\n",
    "        self.input_size = input_size\n",
    "        self.l1 = nn.Linear(input_size, hidden_size)\n",
    "        self.l2 = nn.Linear(hidden_size, output_size)\n",
    "        self.drop = nn.Dropout(p=0.5)\n",
    "        self.tanh = nn.Tanh()\n",
    "        \n",
    "    def forward(self, x):\n",
    "        x = x.view(-1, self.input_size)\n",
    "        x = self.l1(x)\n",
    "        x = self.tanh(x)\n",
    "        x = self.drop(x)\n",
    "        x = self.l2(x)\n",
    "        return self.tanh(x)"
   ]
  },
  {
   "cell_type": "code",
   "execution_count": 72,
   "id": "3a6beafd",
   "metadata": {},
   "outputs": [],
   "source": [
    "W_ = W[0].type(torch.float32).clone().detach().requires_grad_(True)\n",
    "ln = LinearModel(62*265, 50, 3).to(device)\n",
    "learning_rate = 0.01\n",
    "#not all like the paper in testing  \n",
    "criterion = nn.CrossEntropyLoss()\n",
    "optimizer = torch.optim.SGD(ln.parameters(), lr=learning_rate, momentum = 0.9) "
   ]
  },
  {
   "cell_type": "code",
   "execution_count": 73,
   "id": "c24a2eda",
   "metadata": {
    "scrolled": true
   },
   "outputs": [
    {
     "name": "stdout",
     "output_type": "stream",
     "text": [
      "Epoch 5/1000, Tr Loss: 780.5238, Tr Acc: 77.7778, Test Loss: 839.9399, Acc Loss: 33.3333\n",
      "Epoch 10/1000, Tr Loss: 554.6480, Tr Acc: 88.8889, Test Loss: 638.6455, Acc Loss: 33.3333\n",
      "Epoch 15/1000, Tr Loss: 398.6136, Tr Acc: 100.0000, Test Loss: 519.2175, Acc Loss: 33.3333\n",
      "Epoch 20/1000, Tr Loss: 340.5547, Tr Acc: 100.0000, Test Loss: 448.7107, Acc Loss: 33.3333\n",
      "Epoch 25/1000, Tr Loss: 272.1448, Tr Acc: 100.0000, Test Loss: 395.4415, Acc Loss: 33.3333\n",
      "Epoch 30/1000, Tr Loss: 208.2642, Tr Acc: 100.0000, Test Loss: 318.0248, Acc Loss: 33.3333\n",
      "Epoch 35/1000, Tr Loss: 221.4194, Tr Acc: 100.0000, Test Loss: 348.7324, Acc Loss: 33.3333\n",
      "Epoch 40/1000, Tr Loss: 178.0148, Tr Acc: 100.0000, Test Loss: 282.4220, Acc Loss: 33.3333\n",
      "Epoch 45/1000, Tr Loss: 137.6944, Tr Acc: 100.0000, Test Loss: 243.2878, Acc Loss: 16.6667\n",
      "Epoch 50/1000, Tr Loss: 92.5411, Tr Acc: 100.0000, Test Loss: 156.8611, Acc Loss: 33.3333\n",
      "Epoch 55/1000, Tr Loss: 294.9681, Tr Acc: 100.0000, Test Loss: 426.6539, Acc Loss: 16.6667\n",
      "Epoch 60/1000, Tr Loss: 246.3427, Tr Acc: 100.0000, Test Loss: 403.1535, Acc Loss: 16.6667\n",
      "Epoch 65/1000, Tr Loss: 202.0019, Tr Acc: 100.0000, Test Loss: 347.4565, Acc Loss: 16.6667\n",
      "Epoch 70/1000, Tr Loss: 142.2144, Tr Acc: 100.0000, Test Loss: 266.5629, Acc Loss: 33.3333\n",
      "Epoch 75/1000, Tr Loss: 140.2059, Tr Acc: 88.8889, Test Loss: 299.5342, Acc Loss: 16.6667\n",
      "Epoch 80/1000, Tr Loss: 179.7656, Tr Acc: 100.0000, Test Loss: 312.5488, Acc Loss: 16.6667\n",
      "Epoch 85/1000, Tr Loss: 246.4374, Tr Acc: 100.0000, Test Loss: 382.6258, Acc Loss: 33.3333\n"
     ]
    },
    {
     "ename": "KeyboardInterrupt",
     "evalue": "",
     "output_type": "error",
     "traceback": [
      "\u001b[1;31m---------------------------------------------------------------------------\u001b[0m",
      "\u001b[1;31mKeyboardInterrupt\u001b[0m                         Traceback (most recent call last)",
      "\u001b[1;32m<ipython-input-73-9e58adffa506>\u001b[0m in \u001b[0;36m<module>\u001b[1;34m\u001b[0m\n\u001b[0;32m     32\u001b[0m     \u001b[1;32mfor\u001b[0m \u001b[0mi\u001b[0m\u001b[1;33m,\u001b[0m \u001b[1;33m(\u001b[0m\u001b[0msig\u001b[0m\u001b[1;33m,\u001b[0m \u001b[0mlabel_\u001b[0m\u001b[1;33m)\u001b[0m \u001b[1;32min\u001b[0m \u001b[0menumerate\u001b[0m\u001b[1;33m(\u001b[0m\u001b[0mtest_loader\u001b[0m\u001b[1;33m)\u001b[0m\u001b[1;33m:\u001b[0m\u001b[1;33m\u001b[0m\u001b[1;33m\u001b[0m\u001b[0m\n\u001b[0;32m     33\u001b[0m \u001b[1;33m\u001b[0m\u001b[0m\n\u001b[1;32m---> 34\u001b[1;33m         \u001b[0moutput\u001b[0m \u001b[1;33m=\u001b[0m \u001b[0mln\u001b[0m\u001b[1;33m(\u001b[0m\u001b[0msig\u001b[0m\u001b[1;33m)\u001b[0m\u001b[1;33m\u001b[0m\u001b[1;33m\u001b[0m\u001b[0m\n\u001b[0m\u001b[0;32m     35\u001b[0m         \u001b[1;31m#print(output)\u001b[0m\u001b[1;33m\u001b[0m\u001b[1;33m\u001b[0m\u001b[1;33m\u001b[0m\u001b[0m\n\u001b[0;32m     36\u001b[0m         \u001b[0mloss\u001b[0m \u001b[1;33m=\u001b[0m \u001b[0mcriterion\u001b[0m\u001b[1;33m(\u001b[0m\u001b[0moutput\u001b[0m\u001b[1;33m,\u001b[0m \u001b[0mlabel_\u001b[0m\u001b[1;33m)\u001b[0m\u001b[1;33m\u001b[0m\u001b[1;33m\u001b[0m\u001b[0m\n",
      "\u001b[1;32m~\\anaconda3\\lib\\site-packages\\torch\\nn\\modules\\module.py\u001b[0m in \u001b[0;36m_call_impl\u001b[1;34m(self, *input, **kwargs)\u001b[0m\n\u001b[0;32m   1100\u001b[0m         if not (self._backward_hooks or self._forward_hooks or self._forward_pre_hooks or _global_backward_hooks\n\u001b[0;32m   1101\u001b[0m                 or _global_forward_hooks or _global_forward_pre_hooks):\n\u001b[1;32m-> 1102\u001b[1;33m             \u001b[1;32mreturn\u001b[0m \u001b[0mforward_call\u001b[0m\u001b[1;33m(\u001b[0m\u001b[1;33m*\u001b[0m\u001b[0minput\u001b[0m\u001b[1;33m,\u001b[0m \u001b[1;33m**\u001b[0m\u001b[0mkwargs\u001b[0m\u001b[1;33m)\u001b[0m\u001b[1;33m\u001b[0m\u001b[1;33m\u001b[0m\u001b[0m\n\u001b[0m\u001b[0;32m   1103\u001b[0m         \u001b[1;31m# Do not call functions when jit is used\u001b[0m\u001b[1;33m\u001b[0m\u001b[1;33m\u001b[0m\u001b[1;33m\u001b[0m\u001b[0m\n\u001b[0;32m   1104\u001b[0m         \u001b[0mfull_backward_hooks\u001b[0m\u001b[1;33m,\u001b[0m \u001b[0mnon_full_backward_hooks\u001b[0m \u001b[1;33m=\u001b[0m \u001b[1;33m[\u001b[0m\u001b[1;33m]\u001b[0m\u001b[1;33m,\u001b[0m \u001b[1;33m[\u001b[0m\u001b[1;33m]\u001b[0m\u001b[1;33m\u001b[0m\u001b[1;33m\u001b[0m\u001b[0m\n",
      "\u001b[1;32m<ipython-input-71-3e5355bba5af>\u001b[0m in \u001b[0;36mforward\u001b[1;34m(self, x)\u001b[0m\n\u001b[0;32m     12\u001b[0m         \u001b[0mx\u001b[0m \u001b[1;33m=\u001b[0m \u001b[0mself\u001b[0m\u001b[1;33m.\u001b[0m\u001b[0ml1\u001b[0m\u001b[1;33m(\u001b[0m\u001b[0mx\u001b[0m\u001b[1;33m)\u001b[0m\u001b[1;33m\u001b[0m\u001b[1;33m\u001b[0m\u001b[0m\n\u001b[0;32m     13\u001b[0m         \u001b[0mx\u001b[0m \u001b[1;33m=\u001b[0m \u001b[0mself\u001b[0m\u001b[1;33m.\u001b[0m\u001b[0mtanh\u001b[0m\u001b[1;33m(\u001b[0m\u001b[0mx\u001b[0m\u001b[1;33m)\u001b[0m\u001b[1;33m\u001b[0m\u001b[1;33m\u001b[0m\u001b[0m\n\u001b[1;32m---> 14\u001b[1;33m         \u001b[0mx\u001b[0m \u001b[1;33m=\u001b[0m \u001b[0mself\u001b[0m\u001b[1;33m.\u001b[0m\u001b[0mdrop\u001b[0m\u001b[1;33m(\u001b[0m\u001b[0mx\u001b[0m\u001b[1;33m)\u001b[0m\u001b[1;33m\u001b[0m\u001b[1;33m\u001b[0m\u001b[0m\n\u001b[0m\u001b[0;32m     15\u001b[0m         \u001b[0mx\u001b[0m \u001b[1;33m=\u001b[0m \u001b[0mself\u001b[0m\u001b[1;33m.\u001b[0m\u001b[0ml2\u001b[0m\u001b[1;33m(\u001b[0m\u001b[0mx\u001b[0m\u001b[1;33m)\u001b[0m\u001b[1;33m\u001b[0m\u001b[1;33m\u001b[0m\u001b[0m\n\u001b[0;32m     16\u001b[0m         \u001b[1;32mreturn\u001b[0m \u001b[0mself\u001b[0m\u001b[1;33m.\u001b[0m\u001b[0mtanh\u001b[0m\u001b[1;33m(\u001b[0m\u001b[0mx\u001b[0m\u001b[1;33m)\u001b[0m\u001b[1;33m\u001b[0m\u001b[1;33m\u001b[0m\u001b[0m\n",
      "\u001b[1;32m~\\anaconda3\\lib\\site-packages\\torch\\nn\\modules\\module.py\u001b[0m in \u001b[0;36m_call_impl\u001b[1;34m(self, *input, **kwargs)\u001b[0m\n\u001b[0;32m   1100\u001b[0m         if not (self._backward_hooks or self._forward_hooks or self._forward_pre_hooks or _global_backward_hooks\n\u001b[0;32m   1101\u001b[0m                 or _global_forward_hooks or _global_forward_pre_hooks):\n\u001b[1;32m-> 1102\u001b[1;33m             \u001b[1;32mreturn\u001b[0m \u001b[0mforward_call\u001b[0m\u001b[1;33m(\u001b[0m\u001b[1;33m*\u001b[0m\u001b[0minput\u001b[0m\u001b[1;33m,\u001b[0m \u001b[1;33m**\u001b[0m\u001b[0mkwargs\u001b[0m\u001b[1;33m)\u001b[0m\u001b[1;33m\u001b[0m\u001b[1;33m\u001b[0m\u001b[0m\n\u001b[0m\u001b[0;32m   1103\u001b[0m         \u001b[1;31m# Do not call functions when jit is used\u001b[0m\u001b[1;33m\u001b[0m\u001b[1;33m\u001b[0m\u001b[1;33m\u001b[0m\u001b[0m\n\u001b[0;32m   1104\u001b[0m         \u001b[0mfull_backward_hooks\u001b[0m\u001b[1;33m,\u001b[0m \u001b[0mnon_full_backward_hooks\u001b[0m \u001b[1;33m=\u001b[0m \u001b[1;33m[\u001b[0m\u001b[1;33m]\u001b[0m\u001b[1;33m,\u001b[0m \u001b[1;33m[\u001b[0m\u001b[1;33m]\u001b[0m\u001b[1;33m\u001b[0m\u001b[1;33m\u001b[0m\u001b[0m\n",
      "\u001b[1;32m~\\anaconda3\\lib\\site-packages\\torch\\nn\\modules\\dropout.py\u001b[0m in \u001b[0;36mforward\u001b[1;34m(self, input)\u001b[0m\n\u001b[0;32m     56\u001b[0m \u001b[1;33m\u001b[0m\u001b[0m\n\u001b[0;32m     57\u001b[0m     \u001b[1;32mdef\u001b[0m \u001b[0mforward\u001b[0m\u001b[1;33m(\u001b[0m\u001b[0mself\u001b[0m\u001b[1;33m,\u001b[0m \u001b[0minput\u001b[0m\u001b[1;33m:\u001b[0m \u001b[0mTensor\u001b[0m\u001b[1;33m)\u001b[0m \u001b[1;33m->\u001b[0m \u001b[0mTensor\u001b[0m\u001b[1;33m:\u001b[0m\u001b[1;33m\u001b[0m\u001b[1;33m\u001b[0m\u001b[0m\n\u001b[1;32m---> 58\u001b[1;33m         \u001b[1;32mreturn\u001b[0m \u001b[0mF\u001b[0m\u001b[1;33m.\u001b[0m\u001b[0mdropout\u001b[0m\u001b[1;33m(\u001b[0m\u001b[0minput\u001b[0m\u001b[1;33m,\u001b[0m \u001b[0mself\u001b[0m\u001b[1;33m.\u001b[0m\u001b[0mp\u001b[0m\u001b[1;33m,\u001b[0m \u001b[0mself\u001b[0m\u001b[1;33m.\u001b[0m\u001b[0mtraining\u001b[0m\u001b[1;33m,\u001b[0m \u001b[0mself\u001b[0m\u001b[1;33m.\u001b[0m\u001b[0minplace\u001b[0m\u001b[1;33m)\u001b[0m\u001b[1;33m\u001b[0m\u001b[1;33m\u001b[0m\u001b[0m\n\u001b[0m\u001b[0;32m     59\u001b[0m \u001b[1;33m\u001b[0m\u001b[0m\n\u001b[0;32m     60\u001b[0m \u001b[1;33m\u001b[0m\u001b[0m\n",
      "\u001b[1;32m~\\anaconda3\\lib\\site-packages\\torch\\nn\\functional.py\u001b[0m in \u001b[0;36mdropout\u001b[1;34m(input, p, training, inplace)\u001b[0m\n\u001b[0;32m   1167\u001b[0m     \u001b[1;32mif\u001b[0m \u001b[0mp\u001b[0m \u001b[1;33m<\u001b[0m \u001b[1;36m0.0\u001b[0m \u001b[1;32mor\u001b[0m \u001b[0mp\u001b[0m \u001b[1;33m>\u001b[0m \u001b[1;36m1.0\u001b[0m\u001b[1;33m:\u001b[0m\u001b[1;33m\u001b[0m\u001b[1;33m\u001b[0m\u001b[0m\n\u001b[0;32m   1168\u001b[0m         \u001b[1;32mraise\u001b[0m \u001b[0mValueError\u001b[0m\u001b[1;33m(\u001b[0m\u001b[1;34m\"dropout probability has to be between 0 and 1, \"\u001b[0m \u001b[1;34m\"but got {}\"\u001b[0m\u001b[1;33m.\u001b[0m\u001b[0mformat\u001b[0m\u001b[1;33m(\u001b[0m\u001b[0mp\u001b[0m\u001b[1;33m)\u001b[0m\u001b[1;33m)\u001b[0m\u001b[1;33m\u001b[0m\u001b[1;33m\u001b[0m\u001b[0m\n\u001b[1;32m-> 1169\u001b[1;33m     \u001b[1;32mreturn\u001b[0m \u001b[0m_VF\u001b[0m\u001b[1;33m.\u001b[0m\u001b[0mdropout_\u001b[0m\u001b[1;33m(\u001b[0m\u001b[0minput\u001b[0m\u001b[1;33m,\u001b[0m \u001b[0mp\u001b[0m\u001b[1;33m,\u001b[0m \u001b[0mtraining\u001b[0m\u001b[1;33m)\u001b[0m \u001b[1;32mif\u001b[0m \u001b[0minplace\u001b[0m \u001b[1;32melse\u001b[0m \u001b[0m_VF\u001b[0m\u001b[1;33m.\u001b[0m\u001b[0mdropout\u001b[0m\u001b[1;33m(\u001b[0m\u001b[0minput\u001b[0m\u001b[1;33m,\u001b[0m \u001b[0mp\u001b[0m\u001b[1;33m,\u001b[0m \u001b[0mtraining\u001b[0m\u001b[1;33m)\u001b[0m\u001b[1;33m\u001b[0m\u001b[1;33m\u001b[0m\u001b[0m\n\u001b[0m\u001b[0;32m   1170\u001b[0m \u001b[1;33m\u001b[0m\u001b[0m\n\u001b[0;32m   1171\u001b[0m \u001b[1;33m\u001b[0m\u001b[0m\n",
      "\u001b[1;31mKeyboardInterrupt\u001b[0m: "
     ]
    }
   ],
   "source": [
    "num_epochs = 1000\n",
    "alpha = 0.001 #regularization parameter\n",
    "\n",
    "for epoch in range(num_epochs):\n",
    "    \n",
    "    iter_loss = 0\n",
    "    correct = 0\n",
    "    ln.train()\n",
    "    for i, (sig, label_) in enumerate(train_loader):  \n",
    "               \n",
    "        #print(ln(sig))\n",
    "        # Forward pass\n",
    "        output = ln(sig)\n",
    "        #print(output)\n",
    "        loss = criterion(output, label_) \n",
    "        l1_norm = sum(abs(p).sum() for p in ln.parameters())\n",
    "        loss = loss + alpha*l1_norm\n",
    "        predicted = torch.max(output.data, 1)[1]\n",
    "        #print(predicted, label_)\n",
    "        if predicted == label_:\n",
    "            correct += 1\n",
    "        \n",
    "        # Backward and optimize\n",
    "        optimizer.zero_grad()\n",
    "        loss.backward()\n",
    "        iter_loss += loss.item()\n",
    "        optimizer.step()\n",
    "    \n",
    "    iter_loss_test = 0\n",
    "    correct_test = 0\n",
    "    ln.eval()\n",
    "    for i, (sig, label_) in enumerate(test_loader):  \n",
    "\n",
    "        output = ln(sig)\n",
    "        #print(output)\n",
    "        loss = criterion(output, label_)\n",
    "        l1_norm = sum(abs(p).sum() for p in ln.parameters())\n",
    "        loss = loss + alpha*l1_norm\n",
    "        iter_loss_test += loss.item()\n",
    "        predicted = torch.max(output.data, 1)[1]\n",
    "        if predicted == label_:\n",
    "            correct_test += 1\n",
    "          \n",
    "    if (epoch+1) % 5 == 0:\n",
    "        print ('Epoch %d/%d, Tr Loss: %.4f, Tr Acc: %.4f, Test Loss: %.4f, Acc Loss: %.4F'\n",
    "               %(epoch+1, num_epochs, (iter_loss / len(train_loader))*100, (correct/ len(train_loader))*100, \n",
    "                  (iter_loss_test / len(test_loader))*100, (correct_test / len(test_loader))*100))\n",
    "   "
   ]
  },
  {
   "cell_type": "code",
   "execution_count": 66,
   "id": "effbaef9",
   "metadata": {},
   "outputs": [
    {
     "data": {
      "text/plain": [
       "0.8333333333333334"
      ]
     },
     "execution_count": 66,
     "metadata": {},
     "output_type": "execute_result"
    }
   ],
   "source": [
    "5/6"
   ]
  },
  {
   "cell_type": "code",
   "execution_count": 80,
   "id": "7f79159a",
   "metadata": {},
   "outputs": [
    {
     "data": {
      "text/plain": [
       "Parameter containing:\n",
       "tensor([-3.7006e-01, -4.0848e-01, -4.1076e-02, -1.2139e-01,  2.9683e-01,\n",
       "        -3.9594e-01, -1.3384e-02,  3.4198e-02, -2.5771e-01, -2.2223e-01,\n",
       "         1.2833e-01, -1.4781e-01, -1.9355e+01, -3.2538e-01, -3.4420e-01,\n",
       "        -3.3618e-01, -6.7057e+00, -3.6416e-02,  3.6272e-03, -9.8468e-02,\n",
       "        -2.6229e-01, -1.7947e-01, -4.4616e-02, -4.0054e-01, -3.0271e-01,\n",
       "         5.7226e-01, -1.7374e-01,  1.7011e-01, -3.2431e-01,  3.7344e-01,\n",
       "        -9.9082e-02,  4.6870e-01, -5.3800e-02, -2.2149e-01,  2.0660e-01,\n",
       "         5.7199e-01, -9.0686e-01, -9.2436e-01, -2.5882e-01, -5.9203e-01,\n",
       "        -1.9889e-01, -3.7286e-01, -7.2462e-01, -9.8542e-01, -1.2773e+00,\n",
       "        -4.7272e-01,  3.1191e-01, -8.3016e-01, -3.9383e-01,  4.8560e-01],\n",
       "       requires_grad=True)"
      ]
     },
     "execution_count": 80,
     "metadata": {},
     "output_type": "execute_result"
    }
   ],
   "source": [
    "ln.l1.bias"
   ]
  },
  {
   "cell_type": "markdown",
   "id": "27741415",
   "metadata": {},
   "source": [
    "## Model performance according to the power K "
   ]
  },
  {
   "cell_type": "code",
   "execution_count": null,
   "id": "bf0c1580",
   "metadata": {},
   "outputs": [],
   "source": [
    "learning_rate = 0.01\n",
    "#not all like the paper in testing  \n",
    "criterion = nn.CrossEntropyLoss()\n",
    "optimizer = torch.optim.SGD(model.parameters(), lr=learning_rate, momentum = 0.9) \n",
    "\n",
    "input_size = 62*265 #change for all subjects of the experiment!!!\n",
    "hidden_size = 50\n",
    "output_size = 3"
   ]
  },
  {
   "cell_type": "code",
   "execution_count": 61,
   "id": "a77486ab",
   "metadata": {},
   "outputs": [
    {
     "ename": "NameError",
     "evalue": "name 'input_size' is not defined",
     "output_type": "error",
     "traceback": [
      "\u001b[1;31m---------------------------------------------------------------------------\u001b[0m",
      "\u001b[1;31mNameError\u001b[0m                                 Traceback (most recent call last)",
      "\u001b[1;32m<ipython-input-61-5591168297f6>\u001b[0m in \u001b[0;36m<module>\u001b[1;34m\u001b[0m\n\u001b[0;32m     10\u001b[0m \u001b[1;32mfor\u001b[0m \u001b[0mpow_\u001b[0m \u001b[1;32min\u001b[0m \u001b[0mrange\u001b[0m\u001b[1;33m(\u001b[0m\u001b[1;36m2\u001b[0m\u001b[1;33m,\u001b[0m \u001b[1;36m21\u001b[0m\u001b[1;33m)\u001b[0m\u001b[1;33m:\u001b[0m\u001b[1;33m\u001b[0m\u001b[1;33m\u001b[0m\u001b[0m\n\u001b[0;32m     11\u001b[0m     \u001b[0mW_\u001b[0m \u001b[1;33m=\u001b[0m \u001b[0mW\u001b[0m\u001b[1;33m[\u001b[0m\u001b[1;36m0\u001b[0m\u001b[1;33m]\u001b[0m\u001b[1;33m.\u001b[0m\u001b[0mtype\u001b[0m\u001b[1;33m(\u001b[0m\u001b[0mtorch\u001b[0m\u001b[1;33m.\u001b[0m\u001b[0mfloat32\u001b[0m\u001b[1;33m)\u001b[0m\u001b[1;33m.\u001b[0m\u001b[0mclone\u001b[0m\u001b[1;33m(\u001b[0m\u001b[1;33m)\u001b[0m\u001b[1;33m.\u001b[0m\u001b[0mdetach\u001b[0m\u001b[1;33m(\u001b[0m\u001b[1;33m)\u001b[0m\u001b[1;33m.\u001b[0m\u001b[0mrequires_grad_\u001b[0m\u001b[1;33m(\u001b[0m\u001b[1;32mTrue\u001b[0m\u001b[1;33m)\u001b[0m\u001b[1;33m\u001b[0m\u001b[1;33m\u001b[0m\u001b[0m\n\u001b[1;32m---> 12\u001b[1;33m     \u001b[0mmodel\u001b[0m \u001b[1;33m=\u001b[0m \u001b[0mDGCN2\u001b[0m\u001b[1;33m(\u001b[0m\u001b[0mW_\u001b[0m\u001b[1;33m,\u001b[0m \u001b[0mpow_\u001b[0m\u001b[1;33m,\u001b[0m \u001b[0minput_size\u001b[0m\u001b[1;33m,\u001b[0m \u001b[0mhidden_size\u001b[0m\u001b[1;33m,\u001b[0m \u001b[0moutput_size\u001b[0m\u001b[1;33m)\u001b[0m\u001b[1;33m\u001b[0m\u001b[1;33m\u001b[0m\u001b[0m\n\u001b[0m\u001b[0;32m     13\u001b[0m \u001b[1;33m\u001b[0m\u001b[0m\n\u001b[0;32m     14\u001b[0m     \u001b[0mtrain_loss\u001b[0m \u001b[1;33m=\u001b[0m \u001b[1;33m[\u001b[0m\u001b[1;33m]\u001b[0m\u001b[1;33m\u001b[0m\u001b[1;33m\u001b[0m\u001b[0m\n",
      "\u001b[1;31mNameError\u001b[0m: name 'input_size' is not defined"
     ]
    }
   ],
   "source": [
    "#we don't care about the initialization of theta since all thetas will be initialized with the same way uniformly\n",
    "perf_train_loss = []\n",
    "perf_test_loss = []\n",
    "perf_train_acc = []\n",
    "perf_test_acc = []\n",
    "\n",
    "\n",
    "num_epochs = 200\n",
    "alpha = 0.0001 #regularization parameter\n",
    "for pow_ in range(2, 21):\n",
    "    W_ = W[0].type(torch.float32).clone().detach().requires_grad_(True)\n",
    "    model = DGCN2(W_, pow_, input_size, hidden_size, output_size)\n",
    "    \n",
    "    train_loss = []\n",
    "    valid_loss = []\n",
    "    train_accuracy = []\n",
    "    valid_accuracy = []\n",
    "    \n",
    "    for epoch in range(num_epochs):\n",
    "    \n",
    "        ############################\n",
    "        # Train\n",
    "        ############################\n",
    "    \n",
    "        iter_loss = 0.0\n",
    "        correct = 0\n",
    "        iterations = 0\n",
    "\n",
    "        model.train()        # Put the network into training mode\n",
    "\n",
    "        for i, (signal, label_) in enumerate(train_loader):\n",
    "\n",
    "            optimizer.zero_grad()     # Clear off the gradients from any past operation\n",
    "            outputs = model(signal)      # Do the forward pass\n",
    "            loss = criterion(outputs, label_) # Calculate the loss\n",
    "            iter_loss += loss.item() # Accumulate the loss\n",
    "\n",
    "            #L1-Regularization\n",
    "            l1_norm = sum(abs(p).sum() for p in ln.parameters())\n",
    "            loss = loss + alpha*l1_norm\n",
    "            loss.backward()           # Calculate the gradients with help of back propagation\n",
    "            optimizer.step()          # Adjust the parameters based on the gradients\n",
    "\n",
    "            # Record the correct predictions for training data \n",
    "            predicted = torch.max(outputs.data, 1)[1]\n",
    "            correct += (predicted == label_).sum()\n",
    "            iterations += 1\n",
    "\n",
    "        # Record the training loss\n",
    "        train_loss.append(iter_loss / iterations)\n",
    "        # Record the training accuracy\n",
    "        train_accuracy.append((100 * correct / float(len(train_dataset))))\n",
    "\n",
    "\n",
    "        ############################\n",
    "        # Test\n",
    "        ############################\n",
    "\n",
    "        loss = 0.0\n",
    "        correct = 0\n",
    "        iterations = 0\n",
    "\n",
    "        model.eval()                    # Put the network into evaluate mode\n",
    "\n",
    "        for i, (signal, label_) in enumerate(test_loader):\n",
    "\n",
    "            outputs = model(signal)      # Do the forward pass\n",
    "            loss += criterion(outputs, label_).item() # Calculate the loss\n",
    "\n",
    "            # Record the correct predictions for training data\n",
    "            predicted = torch.max(outputs.data, 1)[1]\n",
    "            correct += (predicted == label_).sum()\n",
    "\n",
    "            iterations += 1\n",
    "\n",
    "        # Record the validation loss\n",
    "        valid_loss.append(loss / iterations)\n",
    "        # Record the validation accuracy\n",
    "        correct_scalar = np.array([correct.clone()])[0]\n",
    "        valid_accuracy.append(correct_scalar.item() / len(test_dataset) * 100.0)\n",
    "\n",
    "        if (epoch+1) % 50 == 0:\n",
    "            print ('Order %d Epoch %d/%d, Tr Loss: %.4f, Tr Acc: %.4f, Val Loss: %.4f, Val Acc: %.4f'\n",
    "                   %(pow_, epoch+1, num_epochs, train_loss[-1], train_accuracy[-1], \n",
    "                     valid_loss[-1], valid_accuracy[-1]))\n",
    "        perf_train_loss.append(train_loss)\n",
    "        perf_test_loss.append(valid_loss)\n",
    "        perf_train_acc.append(train_accuracy)\n",
    "        perf_test_acc.append(valid_accuracy)\n",
    "    \n",
    "    "
   ]
  },
  {
   "cell_type": "code",
   "execution_count": null,
   "id": "673f47b1",
   "metadata": {},
   "outputs": [],
   "source": [
    "x_plot = np.arange(num_epochs)\n",
    "fig, ax = plt.subplots(2, 1, figsize = (15, 25))\n",
    "\n",
    "for k in range(len(perf_train_loss)):\n",
    "    ax[0].plot(x_plot, perf_train_loss[k], label = 'order' + str(k))\n",
    "    ax[1].plot(x_plot, perf_test_loss[k], label = 'order' + str(k))\n",
    "    \n",
    "    ax[0].set_title('Train set')\n",
    "    ax[0].set_xlabel('Epoch')\n",
    "    ax[0].set_ylabel('Loss')\n",
    "    \n",
    "    ax[1].set_title('Test set')\n",
    "    ax[1].set_xlabel('Epoch')\n",
    "    ax[1].set_ylabel('Loss')\n",
    "\n",
    "plt.legend(loc='upper right')   \n",
    "plt.show()"
   ]
  },
  {
   "cell_type": "code",
   "execution_count": null,
   "id": "95699596",
   "metadata": {},
   "outputs": [],
   "source": [
    "x_plot = np.arange(num_epochs)\n",
    "fig, ax = plt.subplots(2, 1, figsize = (15, 25))\n",
    "for k in range(len(perf_train_loss)):\n",
    "    ax[0].plot(x_plot, perf_train_acc[k], label = 'order' + str(k))\n",
    "    ax[1].plot(x_plot, perf_test_acc[k], label = 'order' + str(k))\n",
    "    \n",
    "    ax[0].set_title('Train set')\n",
    "    ax[0].set_xlabel('Epoch')\n",
    "    ax[0].set_ylabel('Accuracy')\n",
    "    \n",
    "    ax[1].set_title('Test set')\n",
    "    ax[1].set_xlabel('Epoch')\n",
    "    ax[1].set_ylabel('Accuracy')\n",
    "  \n",
    "plt.legend()\n",
    "plt.show()"
   ]
  }
 ],
 "metadata": {
  "kernelspec": {
   "display_name": "Python 3",
   "language": "python",
   "name": "python3"
  },
  "language_info": {
   "codemirror_mode": {
    "name": "ipython",
    "version": 3
   },
   "file_extension": ".py",
   "mimetype": "text/x-python",
   "name": "python",
   "nbconvert_exporter": "python",
   "pygments_lexer": "ipython3",
   "version": "3.8.8"
  }
 },
 "nbformat": 4,
 "nbformat_minor": 5
}
