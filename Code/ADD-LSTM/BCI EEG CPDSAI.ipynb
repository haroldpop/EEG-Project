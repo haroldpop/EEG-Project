{
 "cells": [
  {
   "cell_type": "markdown",
   "metadata": {},
   "source": [
    "## CP-DSAI BCI"
   ]
  },
  {
   "cell_type": "markdown",
   "metadata": {},
   "source": [
    "For this project, we use SEED dataset obtained from www.bcmi.sjtu.edu.cn . The SEED dataset consists of two parts, Preprocessed_EEG and Extracted_features. In the Preprocessed_EEG folder, the data was downsampled to 200 Hz with applying a bandpass filter from 0-75 Hz. It has 15 subjects each with 15 experiments. In the Extracted_features, it has extracted differential entropy (DE) features of EEG signals."
   ]
  },
  {
   "cell_type": "markdown",
   "metadata": {},
   "source": [
    "Since my paper used DE to use it as an input to the model, I used the Extracted_features to test."
   ]
  },
  {
   "cell_type": "markdown",
   "metadata": {},
   "source": [
    "In the paper, the proposed model contains three different modules: a sequential features extractor, a domain descriminator and an attention-based encoder-decoder. The sequential features extractor contains LSTM layer to apprehend the features of the EEG recordings. Domain descriminator narrows down the distribution shift. The Attention mechanism improves the model."
   ]
  },
  {
   "cell_type": "markdown",
   "metadata": {},
   "source": [
    "### Dataset Creation with Pytorch"
   ]
  },
  {
   "cell_type": "code",
   "execution_count": 1,
   "metadata": {},
   "outputs": [],
   "source": [
    "from scipy.io import loadmat\n",
    "import numpy as np\n",
    "import matplotlib.pyplot as plt\n",
    "import os \n",
    "import pandas as pd \n",
    "import torch\n",
    "import os\n",
    "import mne\n",
    "import torch.nn as nn \n",
    "\n",
    "from torch.utils.data import Dataset\n",
    "from torch.utils.data import random_split"
   ]
  },
  {
   "cell_type": "code",
   "execution_count": 2,
   "metadata": {
    "id": "I8IsS1Oym_xL"
   },
   "outputs": [],
   "source": [
    "def import_matfiles(path):\n",
    "    list_mat_ex = os.listdir(path)\n",
    "    #list_mat_file contains all interessant files for our research\n",
    "    list_mat_ex.remove('readme.txt')\n",
    "    #list_mat_file contains all interessant files for our research\n",
    "    label = 'label.mat'\n",
    "    print(label)\n",
    "    list_mat_ex.pop(-1)\n",
    "    return list_mat_ex, label\n",
    "    \n",
    "def find_max_shape(datas, freq = None):\n",
    "    #shape of data in datas (freq, nb channel, activity)\n",
    "    if freq == None:\n",
    "        max_ = datas[0].shape[2]\n",
    "        for data in datas[1:]:\n",
    "            act_shape = data.shape[2]\n",
    "            if act_shape > max_ :\n",
    "                max_ = act_shape\n",
    "    else :\n",
    "        #hape of data in datas (nb channel, activity)\n",
    "        max_ = datas[0].shape[1]\n",
    "        for data in datas[1:]:\n",
    "            act_shape = data.shape[1]\n",
    "            if act_shape > max_ :\n",
    "                max_ = act_shape\n",
    "    return max_  \n",
    "\n",
    "def x_shaper(x):\n",
    "    \"\"\"\n",
    "    Arg: x as when it outcome from the dataset\n",
    "    return: x as we wants tensor with (freq, nb_channel, activity)\n",
    "    \"\"\"\n",
    "    x = x.transpose((2, 0, 1))\n",
    "    return torch.from_numpy(x).type(torch.float32)\n",
    "\n",
    "def datas_shaper(datas):\n",
    "    res = []\n",
    "    for data in datas:\n",
    "        print(data.shape)\n",
    "        res.append(x_shaper(data))\n",
    "    return res \n",
    "\n",
    "def padd(datas, freq = None):\n",
    "    #shape of data in datas (freq, nb channel activity)\n",
    "    max_shape = find_max_shape(datas, freq =freq)\n",
    "    res = []\n",
    "    if freq == None :\n",
    "        for data in datas:\n",
    "            aux = torch.zeros((data.shape[0], data.shape[1], max_shape))\n",
    "            if data.shape[2] < max_shape:\n",
    "                add_shape = max_shape - data.shape[2]\n",
    "                for freq in range(data.shape[0]):\n",
    "                    pad_tensor = torch.zeros((data.shape[1], add_shape))\n",
    "                    aux[freq, :, :] = torch.cat((data[freq, :, :], pad_tensor), dim=1)\n",
    "                    aux = aux.type(torch.float32)\n",
    "                res.append(aux)\n",
    "            else :\n",
    "                res.append(data.type(torch.float32))\n",
    "    else :\n",
    "        for data in datas:\n",
    "            aux = torch.zeros((data.shape[0], max_shape))\n",
    "            if data.shape[1] < max_shape:\n",
    "                add_shape = max_shape - data.shape[1]\n",
    "                pad_tensor = torch.zeros((data.shape[0], add_shape))\n",
    "                aux = torch.cat((data, pad_tensor), dim=1)\n",
    "                aux = aux.type(torch.float32)\n",
    "                res.append(aux)\n",
    "            else :\n",
    "                res.append(data.type(torch.float32))\n",
    "    return res\n",
    "\n",
    "def normalize(x, freq = None):\n",
    "    if freq == None:\n",
    "        for frequencies in range(x.shape[0]):\n",
    "            mean_ = torch.mean(x[frequencies, :, :], 1).reshape(-1, 1)\n",
    "            std_ = torch.std(x[frequencies, : ,: ], 1).reshape(-1, 1)\n",
    "            x[frequencies, :, :] = (x[frequencies, :, :] - mean_) / std_\n",
    "            return x\n",
    "    else :\n",
    "        mean_ = torch.mean(x[freq, :, :], 1).reshape(-1, 1)\n",
    "        std_ = torch.std(x[freq, : ,: ], 1).reshape(-1, 1)\n",
    "        x[freq, :, :] = (x[freq, :, :] - mean_) / std_\n",
    "        return x[freq, :, :]"
   ]
  },
  {
   "cell_type": "code",
   "execution_count": 3,
   "metadata": {
    "id": "vN0m8eZFnYAD"
   },
   "outputs": [],
   "source": [
    "#version to improve in a near future..\n",
    "class SignalDataset(Dataset):\n",
    "    def __init__(self, path, signals, subject_number, experiment_number, labels, smoothing_method, freq = None):\n",
    "        \"\"\"\n",
    "        Args: \n",
    "            path: path to folder with all the .mat files of the dataset\n",
    "            signals: feature that we want to extract\n",
    "            subject_number: subject of the experimenr\n",
    "            epxeriment_number: number of the experiment, like 0 week 1 week or 2 week \n",
    "            (MAYBE I MISUNDERSTOOD THIS PART READ AGAIN DATASET DETAILS)\n",
    "            labels: labels list\n",
    "            smoothing method: movingAve or LDS\n",
    "            freq: 0, 1, 2, 3 or 4 for just specific one and None if you want them all\n",
    "        \"\"\"\n",
    "        list_file, _ = import_matfiles(path)\n",
    "#         print(list_file)\n",
    "#         list_file.remove('label.mat')\n",
    "        #selection of interesting files that means the one related to the subject\n",
    "        list_sub_file = []\n",
    "        for file in list_file:\n",
    "            num = file.split('_')[0]\n",
    "            if int(num) == subject_number: \n",
    "                list_sub_file.append(file)\n",
    "             \n",
    "        working_file = list_sub_file[experiment_number]\n",
    "        \n",
    "        dic = loadmat(path + '/' + working_file) \n",
    "        if smoothing_method == 'movingAve':\n",
    "            smooth = signals.lower() + '_movingAve'\n",
    "        elif smooting_method == 'LDS':\n",
    "            smooth = signals.lower() + '_LDS'\n",
    "        else :\n",
    "            raise ValueError('Please select a good smoothing method: movingAve or LDS')\n",
    "        \n",
    "        #maybe a list is not the best tool to store it\n",
    "        datas = []\n",
    "        for k in range(15):\n",
    "            sig = dic[smooth + str(k+1)]\n",
    "            sig = x_shaper(sig)\n",
    "            sig = normalize(sig, freq = freq) \n",
    "            datas.append(sig)\n",
    "            \n",
    "        \n",
    "        datas = padd(datas, freq = freq) #everything is happening in this function, the changement from Long to Float\n",
    "                                    #and the slicing for the frequency we want\n",
    "\n",
    "        labels = labels.reshape(-1, )\n",
    "        labels = labels + 1 \n",
    "        labels = torch.from_numpy(labels)\n",
    "                                  \n",
    "        print(datas[0].shape)                            \n",
    "        self.datas = datas\n",
    "        self.labels = labels\n",
    "    \n",
    "    def __len__(self):\n",
    "        return len(self.datas)\n",
    "    \n",
    "    def __getitem__(self, idx):\n",
    "        return self.datas[idx], self.labels[idx].item()"
   ]
  },
  {
   "cell_type": "code",
   "execution_count": 4,
   "metadata": {
    "colab": {
     "base_uri": "https://localhost:8080/"
    },
    "id": "Fpo2x3-ynZOR",
    "outputId": "0a1e0d72-8292-4427-90c9-9204bdcfeee5"
   },
   "outputs": [
    {
     "name": "stdout",
     "output_type": "stream",
     "text": [
      "label.mat\n",
      "[[ 1  0 -1 -1  0  1 -1  0  1  1  0 -1  0  1 -1]]\n"
     ]
    }
   ],
   "source": [
    "import os\n",
    "path = r'C:\\Users\\damia\\Documents\\CPdsai EEG\\ExtractedFeatures\\ExtractedFeatures'\n",
    "l, label_ = import_matfiles(path)\n",
    "labels = loadmat(path + '/' + label_)['label']\n",
    "print(labels)"
   ]
  },
  {
   "cell_type": "code",
   "execution_count": 5,
   "metadata": {
    "colab": {
     "base_uri": "https://localhost:8080/",
     "height": 428
    },
    "id": "3tc2o2UpoxAE",
    "outputId": "e078a935-a000-4117-81f8-6a5377a894ac"
   },
   "outputs": [
    {
     "name": "stdout",
     "output_type": "stream",
     "text": [
      "label.mat\n",
      "torch.Size([5, 62, 265])\n"
     ]
    }
   ],
   "source": [
    "\n",
    "signals = 'de'\n",
    "subject_number = 9\n",
    "experiment_number = 2\n",
    "labels = labels\n",
    "smoothing_method = 'movingAve'\n",
    "dataset = SignalDataset(path, signals, subject_number, experiment_number, labels, smoothing_method, freq = None)\n",
    "train_dataset, valid_dataset = random_split(dataset, [9, 6])\n",
    "train_dataset, test_dataset = random_split(dataset, [9,6])"
   ]
  },
  {
   "cell_type": "code",
   "execution_count": 6,
   "metadata": {
    "colab": {
     "base_uri": "https://localhost:8080/"
    },
    "id": "MZqdhSmnzQ8m",
    "outputId": "c7bd8a5b-8e4d-400a-8ee0-8117f4ebf3c6"
   },
   "outputs": [
    {
     "name": "stdout",
     "output_type": "stream",
     "text": [
      "torch.Size([5, 62, 265])\n"
     ]
    }
   ],
   "source": [
    "print(dataset.datas[0].shape)"
   ]
  },
  {
   "cell_type": "code",
   "execution_count": 7,
   "metadata": {
    "colab": {
     "base_uri": "https://localhost:8080/"
    },
    "id": "f8ZtEHPnqF75",
    "outputId": "222d2baf-fbf4-4b4b-b178-3516dfd4324e"
   },
   "outputs": [
    {
     "name": "stdout",
     "output_type": "stream",
     "text": [
      "torch.Size([5, 62, 265])\n"
     ]
    }
   ],
   "source": [
    "\n",
    "print(train_dataset.dataset.datas[0].shape)"
   ]
  },
  {
   "cell_type": "code",
   "execution_count": 8,
   "metadata": {
    "id": "_g8p_zb3qJ7v"
   },
   "outputs": [],
   "source": [
    "BATCH_SIZE = 256 #keeping it binary so it fits GPU\n",
    "#Train set loader\n",
    "train_iterator = torch.utils.data.DataLoader(dataset=train_dataset, \n",
    "                                           batch_size=BATCH_SIZE, \n",
    "                                           shuffle=True)\n",
    "\n",
    "valid_iterator = torch.utils.data.DataLoader(dataset=valid_dataset, \n",
    "                                          batch_size=BATCH_SIZE, \n",
    "                                          shuffle=True)\n",
    "\n",
    "#Test set loader\n",
    "test_iterator = torch.utils.data.DataLoader(dataset=test_dataset, \n",
    "                                          batch_size=BATCH_SIZE, \n",
    "                                          shuffle=True)\n"
   ]
  },
  {
   "cell_type": "code",
   "execution_count": 9,
   "metadata": {
    "colab": {
     "base_uri": "https://localhost:8080/"
    },
    "id": "rTkZ-XAIqM9V",
    "outputId": "7491e87e-4b6c-4685-de29-af605be8006e"
   },
   "outputs": [],
   "source": [
    "# print(train_loader.dataset.dataset.datas[0].shape)"
   ]
  },
  {
   "cell_type": "markdown",
   "metadata": {},
   "source": [
    "LSTM Model"
   ]
  },
  {
   "cell_type": "code",
   "execution_count": 10,
   "metadata": {
    "id": "wMEhIRhaqR7b"
   },
   "outputs": [],
   "source": [
    "class LSTM(nn.Module):\n",
    "    '''\n",
    "    Expected Input Shape: (batch, len, channels)\n",
    "    '''\n",
    "    def __init__(self, input_dim, hidden_dim, num_layers, num_classes, bidirectional, dropout):\n",
    "        super(LSTM, self).__init__()\n",
    "        self.hidden_dim = hidden_dim\n",
    "        self.num_layers = num_layers\n",
    "        self.lstm = nn.LSTM(input_dim, hidden_dim, num_layers, bidirectional=bidirectional, \n",
    "                            dropout=dropout, batch_first=True)\n",
    "        self.fc = nn.Linear(hidden_dim * num_layers, num_classes)\n",
    "        self.softmax = nn.LogSoftmax(dim=1)\n",
    "\n",
    "    def attention_net(self, lstm_output, final_state):\n",
    "        hidden = final_state.unsqueeze(2)  # hidden : [batch_size, n_hidden * num_directions(=2), 1(=n_layer)]\n",
    "        attn_weights = torch.bmm(lstm_output, hidden).squeeze(2) # attn_weights : [batch_size, len, 1]\n",
    "        soft_attn_weights = F.softmax(attn_weights, 1)\n",
    "        # [batch_size, n_hidden * num_directions(=2), length] * [batch_size, length, 1] = [batch_size, n_hidden * num_directions(=2), 1]\n",
    "        context = torch.bmm(lstm_output.transpose(1, 2), soft_attn_weights.unsqueeze(2)).squeeze(2)\n",
    "        return context, soft_attn_weights.cpu().data.numpy() # context : [batch_size, n_hidden * num_directions(=2)]\n",
    "\n",
    "    def forward(self, x):\n",
    "        # Set initial hidden and cell states\n",
    "        #*2 because it's bidirectional\n",
    "        h0 = torch.zeros(self.num_layers * 2, x.size(0), self.hidden_dim).to(device).float()\n",
    "        c0 = torch.zeros(self.num_layers * 2, x.size(0), self.hidden_dim).to(device).float()\n",
    "        m,n = x.shape[::2]\n",
    "        x = torch.reshape(x, (m,-1,n))        \n",
    "        # Forward propagate LSTM\n",
    "        out, _ = self.lstm(x, (h0, c0)) # out: tensor of shape (batch_size, length, hidden_size)\n",
    "        \n",
    "        out1, out2 = torch.chunk(out, 2, dim=2)\n",
    "        out_cat = torch.cat((out1[:, -1, :], out2[:, 0, :]), 1)\n",
    "        # Decode the hidden state of the last time step\n",
    "#         out = self.fc(out[:, -1, :]) \n",
    "        out = self.softmax(out_cat)\n",
    "#         out = self.softmax(out)\n",
    "        return out"
   ]
  },
  {
   "cell_type": "code",
   "execution_count": 11,
   "metadata": {
    "id": "NkewljvGxX1H"
   },
   "outputs": [],
   "source": [
    "input_dim = 62 #62\n",
    "hidden_dim = 150 #32\n",
    "num_layers = 2 #2\n",
    "num_classes = 3 #16\n",
    "bidirectional = True\n",
    "dropout = 0.5\n",
    "\n",
    "#LSTM\n",
    "model_lstm = LSTM(input_dim, hidden_dim, num_layers, num_classes, bidirectional, dropout)\n",
    "model_lstm = model_lstm.float() #define precision as float to reduce running time\n",
    "\n",
    "models = [model_lstm]"
   ]
  },
  {
   "cell_type": "code",
   "execution_count": 12,
   "metadata": {
    "colab": {
     "base_uri": "https://localhost:8080/"
    },
    "id": "FjAMCUTnxbCA",
    "outputId": "00d78001-b7af-4467-f06c-72673220c27d"
   },
   "outputs": [
    {
     "name": "stdout",
     "output_type": "stream",
     "text": [
      "The model LSTM has 800,103 trainable parameters\n"
     ]
    }
   ],
   "source": [
    "def count_parameters(model):\n",
    "    return sum(p.numel() for p in model.parameters() if p.requires_grad)\n",
    "\n",
    "for model in models:\n",
    "    print(f'The model {type(model).__name__} has {count_parameters(model):,} trainable parameters')# Train the model"
   ]
  },
  {
   "cell_type": "code",
   "execution_count": 13,
   "metadata": {
    "id": "xVpMVAbPxeC3"
   },
   "outputs": [],
   "source": [
    "import torch.optim as optim\n",
    "\n",
    "learning_rate = 0.001\n",
    "\n",
    "optimizer = optim.Adam(model.parameters())\n",
    "criterion = nn.NLLLoss()\n",
    "optimizer = torch.optim.Adam(model.parameters(), lr=learning_rate)"
   ]
  },
  {
   "cell_type": "code",
   "execution_count": 14,
   "metadata": {
    "colab": {
     "base_uri": "https://localhost:8080/"
    },
    "id": "qdsqj16rxoJ4",
    "outputId": "83dc32ba-f9f4-4bbf-d86d-81625a081870"
   },
   "outputs": [
    {
     "name": "stdout",
     "output_type": "stream",
     "text": [
      "Configured device:  cpu\n"
     ]
    }
   ],
   "source": [
    "device = torch.device('cuda' if torch.cuda.is_available() else 'cpu')\n",
    "print(\"Configured device: \", device)"
   ]
  },
  {
   "cell_type": "code",
   "execution_count": 15,
   "metadata": {
    "id": "t1vJuo4bxioZ"
   },
   "outputs": [],
   "source": [
    "for model in models:\n",
    "    model = model.to(device)\n",
    "criterion = criterion.to(device)"
   ]
  },
  {
   "cell_type": "code",
   "execution_count": 16,
   "metadata": {
    "id": "Pv-26e2uxp-9"
   },
   "outputs": [],
   "source": [
    "def train(model, iterator, optimizer, criterion):\n",
    "    total = 0\n",
    "    correct = 0\n",
    "    epoch_loss = 0\n",
    "    epoch_acc = 0\n",
    "    \n",
    "    model.train()\n",
    "    \n",
    "    for features, labels in iterator:\n",
    "\n",
    "#         print(features.shape)\n",
    "        #Move tensors to the configured device\n",
    "        features = features.to(device)\n",
    "        labels = labels.to(device)\n",
    "        \n",
    "    \n",
    "        #Forward pass\n",
    "        outputs = model(features.float())\n",
    "#         print(outputs)\n",
    "        loss = criterion(outputs, labels)\n",
    "        \n",
    "        # Backward and optimize\n",
    "        optimizer.zero_grad()\n",
    "        loss.backward()\n",
    "        optimizer.step()\n",
    "                \n",
    "        #check accuracy\n",
    "        predictions = model(features.float())\n",
    "        _, predicted = torch.max(predictions.data, 1)  #returns max value, indices\n",
    "        total += labels.size(0)  #keep track of total\n",
    "        correct += (predicted == labels).sum().item()  #.item() give the raw number\n",
    "        acc = 100 * (correct / total)\n",
    "                \n",
    "        epoch_loss += loss.item()\n",
    "        epoch_acc = acc\n",
    "        \n",
    "    return epoch_loss / len(iterator), epoch_acc"
   ]
  },
  {
   "cell_type": "code",
   "execution_count": 17,
   "metadata": {
    "id": "Y3aqTAXex9dY"
   },
   "outputs": [],
   "source": [
    "def evaluate(model, iterator, criterion):\n",
    "    \n",
    "    total = 0\n",
    "    correct = 0\n",
    "    epoch_loss = 0\n",
    "    epoch_acc = 0\n",
    "    \n",
    "    model.eval()\n",
    "    \n",
    "    with torch.no_grad():\n",
    "    \n",
    "        for batch, labels in iterator:\n",
    "            \n",
    "            #Move tensors to the configured device\n",
    "            batch = batch.to(device)\n",
    "            labels = labels.to(device)\n",
    "\n",
    "            predictions = model(batch.float())\n",
    "            loss = criterion(predictions, labels)\n",
    "\n",
    "            _, predicted = torch.max(predictions.data, 1)  #returns max value, indices\n",
    "            total += labels.size(0)  #keep track of total\n",
    "            correct += (predicted == labels).sum().item()  #.item() give the raw number\n",
    "            acc = 100 * (correct / total)\n",
    "            \n",
    "            epoch_loss += loss.item()\n",
    "            epoch_acc += acc\n",
    "        \n",
    "    return epoch_loss / len(iterator), epoch_acc / len(iterator)"
   ]
  },
  {
   "cell_type": "code",
   "execution_count": 18,
   "metadata": {
    "id": "3ssXs7ncx_sW"
   },
   "outputs": [],
   "source": [
    "import time\n",
    "\n",
    "def epoch_time(start_time, end_time):\n",
    "    elapsed_time = end_time - start_time\n",
    "    elapsed_mins = int(elapsed_time / 60)\n",
    "    elapsed_secs = int(elapsed_time - (elapsed_mins * 60))\n",
    "    return elapsed_mins, elapsed_secs"
   ]
  },
  {
   "cell_type": "code",
   "execution_count": 30,
   "metadata": {
    "colab": {
     "base_uri": "https://localhost:8080/"
    },
    "id": "i-P8zvYKyEJD",
    "outputId": "23b369bc-567b-422d-99a3-9e0da84c5e73",
    "scrolled": true
   },
   "outputs": [
    {
     "name": "stdout",
     "output_type": "stream",
     "text": [
      "Training LSTM\n",
      "Epoch: 10\n",
      "\tTrain Loss: 3.763 | Train Acc: 66.67%\n",
      "\t Val. Loss: 3.917 |  Val. Acc: 50.00%\n",
      "Epoch: 20\n",
      "\tTrain Loss: 3.763 | Train Acc: 55.56%\n",
      "\t Val. Loss: 3.921 |  Val. Acc: 50.00%\n",
      "Epoch: 30\n",
      "\tTrain Loss: 3.763 | Train Acc: 44.44%\n",
      "\t Val. Loss: 3.923 |  Val. Acc: 50.00%\n",
      "Epoch: 40\n",
      "\tTrain Loss: 3.763 | Train Acc: 66.67%\n",
      "\t Val. Loss: 3.924 |  Val. Acc: 50.00%\n",
      "Epoch: 50\n",
      "\tTrain Loss: 3.762 | Train Acc: 44.44%\n",
      "\t Val. Loss: 3.925 |  Val. Acc: 50.00%\n",
      "Epoch: 60\n",
      "\tTrain Loss: 3.762 | Train Acc: 44.44%\n",
      "\t Val. Loss: 3.926 |  Val. Acc: 50.00%\n",
      "Epoch: 70\n",
      "\tTrain Loss: 3.762 | Train Acc: 66.67%\n",
      "\t Val. Loss: 3.926 |  Val. Acc: 50.00%\n",
      "Epoch: 80\n",
      "\tTrain Loss: 3.762 | Train Acc: 44.44%\n",
      "\t Val. Loss: 3.927 |  Val. Acc: 50.00%\n",
      "Epoch: 90\n",
      "\tTrain Loss: 3.761 | Train Acc: 44.44%\n",
      "\t Val. Loss: 3.927 |  Val. Acc: 50.00%\n",
      "Epoch: 100\n",
      "\tTrain Loss: 3.761 | Train Acc: 66.67%\n",
      "\t Val. Loss: 3.927 |  Val. Acc: 50.00%\n"
     ]
    }
   ],
   "source": [
    "N_EPOCHS = 100\n",
    "\n",
    "best_valid_loss = float('inf')\n",
    "\n",
    "train_losses = []\n",
    "train_accs = []\n",
    "valid_losses = []\n",
    "valid_accs = []\n",
    "\n",
    "# print(train_iterator.dataset.dataset.datas[0].shape)\n",
    "for i, model in enumerate(models):\n",
    "    print(f\"Training {type(model).__name__}\")\n",
    "    \n",
    "    start_time = time.time()\n",
    "\n",
    "    for epoch in range(N_EPOCHS):\n",
    "        start_time = time.time()\n",
    "\n",
    "        train_loss, train_acc = train(model, train_iterator, optimizer, criterion)\n",
    "        valid_loss, valid_acc = evaluate(model, valid_iterator, criterion)\n",
    "\n",
    "        train_losses.append(train_loss)\n",
    "        train_accs.append(train_acc)\n",
    "        valid_losses.append(valid_loss)\n",
    "        valid_accs.append(valid_acc)\n",
    "    \n",
    "        end_time = time.time()\n",
    "\n",
    "        epoch_mins, epoch_secs = epoch_time(start_time, end_time)\n",
    "        \n",
    "        if (epoch+1) % 10 == 0:\n",
    "            print(f'Epoch: {epoch+1:02}')\n",
    "            print(f'\\tTrain Loss: {train_loss:.3f} | Train Acc: {train_acc:.2f}%')\n",
    "            print(f'\\t Val. Loss: {valid_loss:.3f} |  Val. Acc: {valid_acc:.2f}%')\n",
    "\n",
    "        if valid_loss < best_valid_loss:\n",
    "            best_valid_loss = valid_loss\n",
    "#             print(\"Model:{} saved.\".format(type(model).__name__))\n",
    "            torch.save(model.state_dict(), 'checkpoint.pth.tar')\n",
    "            best_model_index = i"
   ]
  },
  {
   "cell_type": "code",
   "execution_count": 24,
   "metadata": {},
   "outputs": [
    {
     "name": "stdout",
     "output_type": "stream",
     "text": [
      "Test Loss: 3.777 | Test Acc: 16.67%\n"
     ]
    }
   ],
   "source": [
    "models[best_model_index].load_state_dict(torch.load('checkpoint.pth.tar'))\n",
    "\n",
    "test_loss, test_acc = evaluate(models[best_model_index], test_iterator, criterion)\n",
    "print(f'Test Loss: {test_loss:.3f} | Test Acc: {test_acc*1:.2f}%')\n"
   ]
  },
  {
   "cell_type": "code",
   "execution_count": 27,
   "metadata": {},
   "outputs": [
    {
     "data": {
      "text/plain": [
       "Text(0, 0.5, 'loss')"
      ]
     },
     "execution_count": 27,
     "metadata": {},
     "output_type": "execute_result"
    },
    {
     "data": {
      "image/png": "[encoded data removed]",
      "text/plain": [
       "<Figure size 720x432 with 1 Axes>"
      ]
     },
     "metadata": {
      "needs_background": "light"
     },
     "output_type": "display_data"
    }
   ],
   "source": [
    "import matplotlib.pyplot as plt\n",
    "fig = plt.figure(figsize=(10, 6))\n",
    "ax = fig.add_subplot(1, 1, 1)\n",
    "ax.plot(train_losses, label = 'train loss')\n",
    "ax.plot(valid_losses, label = 'valid loss')\n",
    "plt.legend()\n",
    "ax.set_xlabel('epoch')\n",
    "ax.set_ylabel('loss')"
   ]
  },
  {
   "cell_type": "code",
   "execution_count": 28,
   "metadata": {},
   "outputs": [
    {
     "data": {
      "text/plain": [
       "Text(0, 0.5, 'acc')"
      ]
     },
     "execution_count": 28,
     "metadata": {},
     "output_type": "execute_result"
    },
    {
     "data": {
      "image/png": "[encoded data removed]",
      "text/plain": [
       "<Figure size 720x432 with 1 Axes>"
      ]
     },
     "metadata": {
      "needs_background": "light"
     },
     "output_type": "display_data"
    }
   ],
   "source": [
    "fig = plt.figure(figsize=(10, 6))\n",
    "ax = fig.add_subplot(1, 1, 1)\n",
    "ax.plot(train_accs, label = 'train acc')\n",
    "ax.plot(valid_accs, label = 'valid acc')\n",
    "plt.legend()\n",
    "ax.set_xlabel('epoch')\n",
    "ax.set_ylabel('acc')"
   ]
  },
  {
   "cell_type": "markdown",
   "metadata": {},
   "source": [
    "### Testing with all the files"
   ]
  },
  {
   "cell_type": "markdown",
   "metadata": {},
   "source": [
    "After testing with just one file and got the results, I load all the experiments and run the model again to get the accuracy and loss."
   ]
  },
  {
   "cell_type": "code",
   "execution_count": 31,
   "metadata": {
    "scrolled": true
   },
   "outputs": [
    {
     "name": "stdout",
     "output_type": "stream",
     "text": [
      "label.mat\n",
      "torch.Size([62, 265])\n",
      "label.mat\n",
      "torch.Size([62, 265])\n",
      "label.mat\n",
      "torch.Size([62, 265])\n",
      "label.mat\n",
      "torch.Size([62, 265])\n",
      "label.mat\n",
      "torch.Size([62, 265])\n",
      "label.mat\n",
      "torch.Size([62, 265])\n",
      "label.mat\n",
      "torch.Size([62, 265])\n",
      "label.mat\n",
      "torch.Size([62, 265])\n",
      "label.mat\n",
      "torch.Size([62, 265])\n",
      "label.mat\n",
      "torch.Size([62, 265])\n",
      "label.mat\n",
      "torch.Size([62, 265])\n",
      "label.mat\n",
      "torch.Size([62, 265])\n",
      "label.mat\n",
      "torch.Size([62, 265])\n",
      "label.mat\n",
      "torch.Size([62, 265])\n",
      "label.mat\n",
      "torch.Size([62, 265])\n",
      "label.mat\n",
      "torch.Size([62, 265])\n",
      "label.mat\n",
      "torch.Size([62, 265])\n",
      "label.mat\n",
      "torch.Size([62, 265])\n",
      "label.mat\n",
      "torch.Size([62, 265])\n",
      "label.mat\n",
      "torch.Size([62, 265])\n",
      "label.mat\n",
      "torch.Size([62, 265])\n",
      "label.mat\n",
      "torch.Size([62, 265])\n",
      "label.mat\n",
      "torch.Size([62, 265])\n",
      "label.mat\n",
      "torch.Size([62, 265])\n",
      "label.mat\n",
      "torch.Size([62, 265])\n",
      "label.mat\n",
      "torch.Size([62, 265])\n",
      "label.mat\n",
      "torch.Size([62, 265])\n",
      "label.mat\n",
      "torch.Size([62, 265])\n",
      "label.mat\n",
      "torch.Size([62, 265])\n",
      "label.mat\n",
      "torch.Size([62, 265])\n",
      "label.mat\n",
      "torch.Size([62, 265])\n",
      "label.mat\n",
      "torch.Size([62, 265])\n",
      "label.mat\n",
      "torch.Size([62, 265])\n",
      "label.mat\n",
      "torch.Size([62, 265])\n",
      "label.mat\n",
      "torch.Size([62, 265])\n",
      "label.mat\n",
      "torch.Size([62, 265])\n",
      "label.mat\n",
      "torch.Size([62, 265])\n",
      "label.mat\n",
      "torch.Size([62, 265])\n",
      "label.mat\n",
      "torch.Size([62, 265])\n",
      "label.mat\n",
      "torch.Size([62, 265])\n",
      "label.mat\n",
      "torch.Size([62, 265])\n",
      "label.mat\n",
      "torch.Size([62, 265])\n"
     ]
    }
   ],
   "source": [
    "\n",
    "signals = 'de'\n",
    "labels = labels\n",
    "smoothing_method = 'movingAve'\n",
    "for sub in range(1, 15):\n",
    "    subject_number = sub\n",
    "    for exp in range(3):\n",
    "        experiment_number = exp\n",
    "        dataset = SignalDataset(path, signals, subject_number, experiment_number, labels, smoothing_method, \n",
    "                                freq = 0)\n",
    "        train_dataset, valid_dataset = random_split(dataset, [9, 6])\n",
    "        train_dataset, test_dataset = random_split(dataset, [9, 6])"
   ]
  },
  {
   "cell_type": "code",
   "execution_count": 32,
   "metadata": {},
   "outputs": [],
   "source": [
    "BATCH_SIZE = 64 #keeping it binary so it fits GPU\n",
    "#Train set loader\n",
    "train_iterator = torch.utils.data.DataLoader(dataset=train_dataset, \n",
    "                                           batch_size=BATCH_SIZE, \n",
    "                                           shuffle=True)\n",
    "\n",
    "valid_iterator = torch.utils.data.DataLoader(dataset=valid_dataset, \n",
    "                                          batch_size=BATCH_SIZE, \n",
    "                                          shuffle=True)\n",
    "#Test set loader\n",
    "test_iterator = torch.utils.data.DataLoader(dataset=test_dataset, \n",
    "                                          batch_size=BATCH_SIZE, \n",
    "                                          shuffle=True)\n"
   ]
  },
  {
   "cell_type": "code",
   "execution_count": 33,
   "metadata": {},
   "outputs": [],
   "source": [
    "class LSTM(nn.Module):\n",
    "    '''\n",
    "    Expected Input Shape: (batch, seq_len, channels)\n",
    "    '''\n",
    "    def __init__(self, input_dim, hidden_dim, num_layers, num_classes, bidirectional, dropout):\n",
    "        super(LSTM, self).__init__()\n",
    "        self.hidden_dim = hidden_dim\n",
    "        self.num_layers = num_layers\n",
    "        self.lstm = nn.LSTM(input_dim, hidden_dim, num_layers, bidirectional=bidirectional, \n",
    "                            dropout=dropout, batch_first=True)\n",
    "        self.fc = nn.Linear(hidden_dim * num_layers, num_classes)\n",
    "        self.softmax = nn.LogSoftmax(dim=1)\n",
    "\n",
    "    def attention_net(self, lstm_output, final_state):\n",
    "        hidden = final_state.unsqueeze(2)  # hidden : [batch_size, n_hidden * num_directions(=2), 1(=n_layer)]\n",
    "        attn_weights = torch.bmm(lstm_output, hidden).squeeze(2) # attn_weights : [batch_size, seq_len, 1]\n",
    "        soft_attn_weights = F.softmax(attn_weights, 1)\n",
    "        # [batch_size, n_hidden * num_directions(=2), seq_len] * [batch_size, seq_len, 1] = [batch_size, n_hidden * num_directions(=2), 1]\n",
    "        context = torch.bmm(lstm_output.transpose(1, 2), soft_attn_weights.unsqueeze(2)).squeeze(2)\n",
    "        return context, soft_attn_weights.cpu().data.numpy() # context : [batch_size, n_hidden * num_directions(=2)]\n",
    "\n",
    "    def forward(self, x):\n",
    "        # Set initial hidden and cell states\n",
    "        #*2 because it's bidirectional\n",
    "        h0 = torch.zeros(self.num_layers * 2, x.size(0), self.hidden_dim).to(device).float()\n",
    "        c0 = torch.zeros(self.num_layers * 2, x.size(0), self.hidden_dim).to(device).float()\n",
    "        m,n = x.shape[::2]\n",
    "        x = torch.reshape(x, (m,-1,n))        \n",
    "        # Forward propagate LSTM\n",
    "        out, _ = self.lstm(x, (h0, c0)) # out: tensor of shape (batch_size, seq_length, hidden_size)\n",
    "        \n",
    "#         out1, out2 = torch.chunk(out, 2, dim=2)\n",
    "#         out_cat = torch.cat((out1[:, -1, :], out2[:, 0, :]), 1)\n",
    "#         out = self.softmax(out_cat)\n",
    "        # Decode the hidden state of the last time step\n",
    "        out = self.fc(out[:, -1, :]) \n",
    "        \n",
    "#         out = self.fc(attn_output[:, -1, :]) \n",
    "        out = self.softmax(out)\n",
    "        return out"
   ]
  },
  {
   "cell_type": "code",
   "execution_count": 34,
   "metadata": {},
   "outputs": [],
   "source": [
    "input_dim = 265\n",
    "hidden_dim = 4 #32\n",
    "num_layers = 2 #2\n",
    "num_classes = 3 #16\n",
    "bidirectional = True\n",
    "dropout = 0.5\n",
    "\n",
    "#LSTM\n",
    "model_lstm = LSTM(input_dim, hidden_dim, num_layers, num_classes, bidirectional, dropout)\n",
    "model_lstm = model_lstm.float() #define precision as float to reduce running time\n",
    "\n",
    "models = [model_lstm]"
   ]
  },
  {
   "cell_type": "code",
   "execution_count": 35,
   "metadata": {},
   "outputs": [
    {
     "name": "stdout",
     "output_type": "stream",
     "text": [
      "The model LSTM has 9,147 trainable parameters\n"
     ]
    }
   ],
   "source": [
    "def count_parameters(model):\n",
    "    return sum(p.numel() for p in model.parameters() if p.requires_grad)\n",
    "\n",
    "for model in models:\n",
    "    print(f'The model {type(model).__name__} has {count_parameters(model):,} trainable parameters')# Train the model"
   ]
  },
  {
   "cell_type": "code",
   "execution_count": 36,
   "metadata": {},
   "outputs": [],
   "source": [
    "import torch.optim as optim\n",
    "\n",
    "learning_rate = 0.01\n",
    "\n",
    "optimizer = optim.Adam(model.parameters())\n",
    "criterion = nn.CrossEntropyLoss()\n",
    "optimizer = torch.optim.Adam(model.parameters(), lr=learning_rate)"
   ]
  },
  {
   "cell_type": "code",
   "execution_count": 37,
   "metadata": {},
   "outputs": [
    {
     "name": "stdout",
     "output_type": "stream",
     "text": [
      "Configured device:  cpu\n"
     ]
    }
   ],
   "source": [
    "device = torch.device('cuda' if torch.cuda.is_available() else 'cpu')\n",
    "print(\"Configured device: \", device)"
   ]
  },
  {
   "cell_type": "code",
   "execution_count": 38,
   "metadata": {},
   "outputs": [],
   "source": [
    "for model in models:\n",
    "    model = model.to(device)\n",
    "criterion = criterion.to(device)"
   ]
  },
  {
   "cell_type": "code",
   "execution_count": 39,
   "metadata": {},
   "outputs": [],
   "source": [
    "def train(model, iterator, optimizer, criterion):\n",
    "    total = 0\n",
    "    correct = 0\n",
    "    epoch_loss = 0\n",
    "    epoch_acc = 0\n",
    "    \n",
    "    model.train()\n",
    "    \n",
    "    for features, labels in iterator:\n",
    "\n",
    "#         print(features.shape)\n",
    "        #Move tensors to the configured device\n",
    "        features = features.to(device)\n",
    "        labels = labels.to(device)\n",
    "        \n",
    "    \n",
    "        #Forward pass\n",
    "        outputs = model(features.float())\n",
    "#         print(outputs)\n",
    "        loss = criterion(outputs, labels)\n",
    "        \n",
    "        # Backward and optimize\n",
    "        optimizer.zero_grad()\n",
    "        loss.backward()\n",
    "        optimizer.step()\n",
    "                \n",
    "        #check accuracy\n",
    "        predictions = model(features.float())\n",
    "        _, predicted = torch.max(predictions.data, 1)  #returns max value, indices\n",
    "        total += labels.size(0)  #keep track of total\n",
    "        correct += (predicted == labels).sum().item()  #.item() give the raw number\n",
    "        acc = 100 * (correct / total)\n",
    "                \n",
    "        epoch_loss += loss.item()\n",
    "        epoch_acc = acc\n",
    "        \n",
    "    return epoch_loss / len(iterator), epoch_acc"
   ]
  },
  {
   "cell_type": "code",
   "execution_count": 40,
   "metadata": {},
   "outputs": [],
   "source": [
    "def evaluate(model, iterator, criterion):\n",
    "    \n",
    "    total = 0\n",
    "    correct = 0\n",
    "    epoch_loss = 0\n",
    "    epoch_acc = 0\n",
    "    \n",
    "    model.eval()\n",
    "    \n",
    "    with torch.no_grad():\n",
    "    \n",
    "        for batch, labels in iterator:\n",
    "            \n",
    "            #Move tensors to the configured device\n",
    "            batch = batch.to(device)\n",
    "            labels = labels.to(device)\n",
    "\n",
    "            predictions = model(batch.float())\n",
    "            loss = criterion(predictions, labels)\n",
    "\n",
    "            _, predicted = torch.max(predictions.data, 1)  #returns max value, indices\n",
    "            total += labels.size(0)  #keep track of total\n",
    "            correct += (predicted == labels).sum().item()  #.item() give the raw number\n",
    "            acc = 100 * (correct / total)\n",
    "            \n",
    "            epoch_loss += loss.item()\n",
    "            epoch_acc += acc\n",
    "        \n",
    "    return epoch_loss / len(iterator), epoch_acc / len(iterator)"
   ]
  },
  {
   "cell_type": "code",
   "execution_count": 41,
   "metadata": {},
   "outputs": [],
   "source": [
    "import time\n",
    "\n",
    "def epoch_time(start_time, end_time):\n",
    "    elapsed_time = end_time - start_time\n",
    "    elapsed_mins = int(elapsed_time / 60)\n",
    "    elapsed_secs = int(elapsed_time - (elapsed_mins * 60))\n",
    "    return elapsed_mins, elapsed_secs"
   ]
  },
  {
   "cell_type": "code",
   "execution_count": 42,
   "metadata": {
    "scrolled": true
   },
   "outputs": [
    {
     "name": "stdout",
     "output_type": "stream",
     "text": [
      "Training LSTM\n",
      "Epoch: 01\n",
      "\tTrain Loss: 1.078 | Train Acc: 44.44%\n",
      "\t Val. Loss: 1.085 |  Val. Acc: 33.33%\n",
      "Epoch: 02\n",
      "\tTrain Loss: 1.059 | Train Acc: 55.56%\n",
      "\t Val. Loss: 1.069 |  Val. Acc: 33.33%\n",
      "Epoch: 03\n",
      "\tTrain Loss: 1.040 | Train Acc: 88.89%\n",
      "\t Val. Loss: 1.046 |  Val. Acc: 50.00%\n",
      "Epoch: 04\n",
      "\tTrain Loss: 0.996 | Train Acc: 88.89%\n",
      "\t Val. Loss: 1.030 |  Val. Acc: 50.00%\n",
      "Epoch: 05\n",
      "\tTrain Loss: 0.992 | Train Acc: 88.89%\n",
      "\t Val. Loss: 1.016 |  Val. Acc: 50.00%\n",
      "Epoch: 06\n",
      "\tTrain Loss: 0.953 | Train Acc: 88.89%\n",
      "\t Val. Loss: 1.002 |  Val. Acc: 66.67%\n",
      "Epoch: 07\n",
      "\tTrain Loss: 0.939 | Train Acc: 88.89%\n",
      "\t Val. Loss: 0.984 |  Val. Acc: 66.67%\n",
      "Epoch: 08\n",
      "\tTrain Loss: 0.895 | Train Acc: 100.00%\n",
      "\t Val. Loss: 0.963 |  Val. Acc: 66.67%\n",
      "Epoch: 09\n",
      "\tTrain Loss: 0.888 | Train Acc: 88.89%\n",
      "\t Val. Loss: 0.940 |  Val. Acc: 66.67%\n",
      "Epoch: 10\n",
      "\tTrain Loss: 0.871 | Train Acc: 100.00%\n",
      "\t Val. Loss: 0.913 |  Val. Acc: 66.67%\n",
      "Epoch: 11\n",
      "\tTrain Loss: 0.799 | Train Acc: 100.00%\n",
      "\t Val. Loss: 0.888 |  Val. Acc: 66.67%\n",
      "Epoch: 12\n",
      "\tTrain Loss: 0.769 | Train Acc: 100.00%\n",
      "\t Val. Loss: 0.858 |  Val. Acc: 83.33%\n",
      "Epoch: 13\n",
      "\tTrain Loss: 0.717 | Train Acc: 100.00%\n",
      "\t Val. Loss: 0.828 |  Val. Acc: 83.33%\n",
      "Epoch: 14\n",
      "\tTrain Loss: 0.691 | Train Acc: 100.00%\n",
      "\t Val. Loss: 0.798 |  Val. Acc: 83.33%\n",
      "Epoch: 15\n",
      "\tTrain Loss: 0.690 | Train Acc: 100.00%\n",
      "\t Val. Loss: 0.769 |  Val. Acc: 83.33%\n",
      "Epoch: 16\n",
      "\tTrain Loss: 0.715 | Train Acc: 100.00%\n",
      "\t Val. Loss: 0.742 |  Val. Acc: 83.33%\n",
      "Epoch: 17\n",
      "\tTrain Loss: 0.603 | Train Acc: 100.00%\n",
      "\t Val. Loss: 0.716 |  Val. Acc: 83.33%\n",
      "Epoch: 18\n",
      "\tTrain Loss: 0.610 | Train Acc: 100.00%\n",
      "\t Val. Loss: 0.693 |  Val. Acc: 83.33%\n",
      "Epoch: 19\n",
      "\tTrain Loss: 0.577 | Train Acc: 100.00%\n",
      "\t Val. Loss: 0.670 |  Val. Acc: 83.33%\n",
      "Epoch: 20\n",
      "\tTrain Loss: 0.583 | Train Acc: 100.00%\n",
      "\t Val. Loss: 0.649 |  Val. Acc: 83.33%\n"
     ]
    }
   ],
   "source": [
    "N_EPOCHS = 20\n",
    "\n",
    "best_valid_loss = float('inf')\n",
    "\n",
    "train_losses = []\n",
    "train_accs = []\n",
    "valid_losses = []\n",
    "valid_accs = []\n",
    "\n",
    "# print(train_iterator.dataset.dataset.datas[0].shape)\n",
    "for i, model in enumerate(models):\n",
    "    print(f\"Training {type(model).__name__}\")\n",
    "    \n",
    "    start_time = time.time()\n",
    "\n",
    "    for epoch in range(N_EPOCHS):\n",
    "        start_time = time.time()\n",
    "\n",
    "        train_loss, train_acc = train(model, train_iterator, optimizer, criterion)\n",
    "        valid_loss, valid_acc = evaluate(model, valid_iterator, criterion)\n",
    "\n",
    "        train_losses.append(train_loss)\n",
    "        train_accs.append(train_acc)\n",
    "        valid_losses.append(valid_loss)\n",
    "        valid_accs.append(valid_acc)\n",
    "    \n",
    "        end_time = time.time()\n",
    "\n",
    "        epoch_mins, epoch_secs = epoch_time(start_time, end_time)\n",
    "        \n",
    "        if (epoch+1) % 1 == 0:\n",
    "            print(f'Epoch: {epoch+1:02}')\n",
    "            print(f'\\tTrain Loss: {train_loss:.3f} | Train Acc: {train_acc:.2f}%')\n",
    "            print(f'\\t Val. Loss: {valid_loss:.3f} |  Val. Acc: {valid_acc:.2f}%')\n",
    "\n",
    "        if valid_loss < best_valid_loss:\n",
    "            best_valid_loss = valid_loss\n",
    "#             print(\"Model:{} saved.\".format(type(model).__name__))\n",
    "            torch.save(model.state_dict(), 'checkpoint.pth.tar')\n",
    "            best_model_index = i"
   ]
  },
  {
   "cell_type": "code",
   "execution_count": 43,
   "metadata": {},
   "outputs": [
    {
     "name": "stdout",
     "output_type": "stream",
     "text": [
      "Test Loss: 0.934 | Test Acc: 66.67%\n"
     ]
    }
   ],
   "source": [
    "models[best_model_index].load_state_dict(torch.load('checkpoint.pth.tar'))\n",
    "\n",
    "test_loss, test_acc = evaluate(models[best_model_index], test_iterator, criterion)\n",
    "print(f'Test Loss: {test_loss:.3f} | Test Acc: {test_acc*1:.2f}%')\n"
   ]
  },
  {
   "cell_type": "code",
   "execution_count": 44,
   "metadata": {},
   "outputs": [
    {
     "data": {
      "text/plain": [
       "Text(0, 0.5, 'loss')"
      ]
     },
     "execution_count": 44,
     "metadata": {},
     "output_type": "execute_result"
    },
    {
     "data": {
      "image/png": "[encoded data removed]",
      "text/plain": [
       "<Figure size 720x432 with 1 Axes>"
      ]
     },
     "metadata": {
      "needs_background": "light"
     },
     "output_type": "display_data"
    }
   ],
   "source": [
    "import matplotlib.pyplot as plt\n",
    "fig = plt.figure(figsize=(10, 6))\n",
    "ax = fig.add_subplot(1, 1, 1)\n",
    "ax.plot(train_losses, label = 'train loss')\n",
    "ax.plot(valid_losses, label = 'valid loss')\n",
    "plt.legend()\n",
    "ax.set_xlabel('epoch')\n",
    "ax.set_ylabel('loss')"
   ]
  },
  {
   "cell_type": "code",
   "execution_count": 45,
   "metadata": {},
   "outputs": [
    {
     "data": {
      "text/plain": [
       "Text(0, 0.5, 'acc')"
      ]
     },
     "execution_count": 45,
     "metadata": {},
     "output_type": "execute_result"
    },
    {
     "data": {
      "image/png": "[encoded data removed]",
      "text/plain": [
       "<Figure size 720x432 with 1 Axes>"
      ]
     },
     "metadata": {
      "needs_background": "light"
     },
     "output_type": "display_data"
    }
   ],
   "source": [
    "fig = plt.figure(figsize=(10, 6))\n",
    "ax = fig.add_subplot(1, 1, 1)\n",
    "ax.plot(train_accs, label = 'train acc')\n",
    "ax.plot(valid_accs, label = 'valid acc')\n",
    "plt.legend()\n",
    "ax.set_xlabel('epoch')\n",
    "ax.set_ylabel('acc')"
   ]
  },
  {
   "cell_type": "code",
   "execution_count": null,
   "metadata": {},
   "outputs": [],
   "source": []
  }
 ],
 "metadata": {
  "colab": {
   "collapsed_sections": [],
   "name": "EEG LAB V 1.0.ipynb",
   "provenance": []
  },
  "kernelspec": {
   "display_name": "pythonDSAI",
   "language": "python",
   "name": "pythondsai"
  },
  "language_info": {
   "codemirror_mode": {
    "name": "ipython",
    "version": 3
   },
   "file_extension": ".py",
   "mimetype": "text/x-python",
   "name": "python",
   "nbconvert_exporter": "python",
   "pygments_lexer": "ipython3",
   "version": "3.8.3"
  }
 },
 "nbformat": 4,
 "nbformat_minor": 1
}
