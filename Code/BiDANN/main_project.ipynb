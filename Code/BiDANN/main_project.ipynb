{
 "cells": [
  {
   "cell_type": "markdown",
   "id": "4b01e6e2-c566-43a2-9944-503b531edf76",
   "metadata": {},
   "source": [
    "### Data Processing"
   ]
  },
  {
   "cell_type": "code",
   "execution_count": 1,
   "id": "6d089d6a-f748-401e-9ae9-ab3c72ba2c41",
   "metadata": {},
   "outputs": [],
   "source": [
    "from scipy.io import loadmat\n",
    "import scipy.io\n",
    "import numpy as np\n",
    "from sklearn import preprocessing\n",
    "import torch\n",
    "from torch import nn\n",
    "import torch.optim as optim\n",
    "from sklearn.metrics import confusion_matrix, accuracy_score\n",
    "import os\n",
    "import glob\n",
    "import pandas as pd\n",
    "import matplotlib.pyplot as plt\n",
    "from sklearn.model_selection import KFold"
   ]
  },
  {
   "cell_type": "code",
   "execution_count": 2,
   "id": "683f468e-d3fc-4dc5-b1b9-10d18da275a4",
   "metadata": {},
   "outputs": [],
   "source": [
    "os.chdir(\"/home/st122388/work/dsai project\")"
   ]
  },
  {
   "cell_type": "markdown",
   "id": "511e175a-05be-4110-a892-ce5ace4c95c2",
   "metadata": {},
   "source": [
    "### visualizing preprocessed EEG Samples and shape"
   ]
  },
  {
   "cell_type": "code",
   "execution_count": 3,
   "id": "e675d321-b8b9-40c0-ab7e-9cd59936b198",
   "metadata": {},
   "outputs": [
    {
     "data": {
      "text/plain": [
       "dict_keys(['__header__', '__version__', '__globals__', 'djc_eeg1', 'djc_eeg2', 'djc_eeg3', 'djc_eeg4', 'djc_eeg5', 'djc_eeg6', 'djc_eeg7', 'djc_eeg8', 'djc_eeg9', 'djc_eeg10', 'djc_eeg11', 'djc_eeg12', 'djc_eeg13', 'djc_eeg14', 'djc_eeg15'])"
      ]
     },
     "execution_count": 3,
     "metadata": {},
     "output_type": "execute_result"
    }
   ],
   "source": [
    "annots =  scipy.io.loadmat('seed/Preprocessed_EEG/1_20131027.mat')\n",
    "annots.keys()\n"
   ]
  },
  {
   "cell_type": "code",
   "execution_count": 4,
   "id": "d7537593-0fdc-4976-8d52-c00e977037a3",
   "metadata": {},
   "outputs": [
    {
     "data": {
      "text/plain": [
       "(numpy.ndarray, (62, 47001))"
      ]
     },
     "execution_count": 4,
     "metadata": {},
     "output_type": "execute_result"
    }
   ],
   "source": [
    "type(annots['djc_eeg1']),annots['djc_eeg1'].shape #type and shape of eeg data"
   ]
  },
  {
   "cell_type": "markdown",
   "id": "273f764d-bcfa-4072-b1cd-9ba518d09241",
   "metadata": {},
   "source": [
    "### EEG1 plot which is already downsampled and in frequency domain"
   ]
  },
  {
   "cell_type": "code",
   "execution_count": 5,
   "id": "3fec45e8-0b37-4909-85c6-898059f1a066",
   "metadata": {},
   "outputs": [
    {
     "data": {
      "image/png": "[encoded data removed]",
      "text/plain": [
       "<Figure size 432x288 with 1 Axes>"
      ]
     },
     "metadata": {
      "needs_background": "light"
     },
     "output_type": "display_data"
    }
   ],
   "source": [
    "plt.plot(annots['djc_eeg1'][1,:])\n",
    "plt.show()"
   ]
  },
  {
   "cell_type": "markdown",
   "id": "fc3cbb47-2fb1-4633-8f80-8488bd976a71",
   "metadata": {},
   "source": [
    "### Since in the paper we need differential entrophy features and the datasets SEED which was provided has preprocessd datsets and features extracted datasets. We used Features Extracted Datasets for this work"
   ]
  },
  {
   "cell_type": "code",
   "execution_count": 6,
   "id": "a53f96d3-d494-4367-a72c-47f5ab273429",
   "metadata": {},
   "outputs": [],
   "source": [
    "os.chdir('/home/st122388/work/dsai project/seed/ExtractedFeatures')\n",
    "\n",
    "# Get a list for .mat files in current folder\n",
    "mat_files = glob.glob('*.mat')\n",
    "label = scipy.io.loadmat('label.mat')\n",
    "mat_files.remove('label.mat')\n",
    "mat_files_1 = [x for x in mat_files if len(x.split(\"_\")) == 2] \n",
    "mat_files_1.sort(key = lambda x : int(x.split(\"_\")[0]))\n",
    "\n",
    "# List for stroring all the data\n",
    "alldata = []\n",
    "# Iterate mat files\n",
    "for fname in mat_files_1:\n",
    "    # Load mat file data into data.\n",
    "    data = loadmat(fname)\n",
    "    \n",
    "    # Append data to the list\n",
    "    alldata.append(data)\n",
    "    "
   ]
  },
  {
   "cell_type": "code",
   "execution_count": 7,
   "id": "1a2802a9-e4a5-457d-93df-97dbe738ed55",
   "metadata": {},
   "outputs": [
    {
     "data": {
      "text/plain": [
       "dict_keys(['__header__', '__version__', '__globals__', 'de_movingAve1', 'de_LDS1', 'psd_movingAve1', 'psd_LDS1', 'dasm_movingAve1', 'dasm_LDS1', 'rasm_movingAve1', 'rasm_LDS1', 'asm_movingAve1', 'asm_LDS1', 'dcau_movingAve1', 'dcau_LDS1', 'de_movingAve2', 'de_LDS2', 'psd_movingAve2', 'psd_LDS2', 'dasm_movingAve2', 'dasm_LDS2', 'rasm_movingAve2', 'rasm_LDS2', 'asm_movingAve2', 'asm_LDS2', 'dcau_movingAve2', 'dcau_LDS2', 'de_movingAve3', 'de_LDS3', 'psd_movingAve3', 'psd_LDS3', 'dasm_movingAve3', 'dasm_LDS3', 'rasm_movingAve3', 'rasm_LDS3', 'asm_movingAve3', 'asm_LDS3', 'dcau_movingAve3', 'dcau_LDS3', 'de_movingAve4', 'de_LDS4', 'psd_movingAve4', 'psd_LDS4', 'dasm_movingAve4', 'dasm_LDS4', 'rasm_movingAve4', 'rasm_LDS4', 'asm_movingAve4', 'asm_LDS4', 'dcau_movingAve4', 'dcau_LDS4', 'de_movingAve5', 'de_LDS5', 'psd_movingAve5', 'psd_LDS5', 'dasm_movingAve5', 'dasm_LDS5', 'rasm_movingAve5', 'rasm_LDS5', 'asm_movingAve5', 'asm_LDS5', 'dcau_movingAve5', 'dcau_LDS5', 'de_movingAve6', 'de_LDS6', 'psd_movingAve6', 'psd_LDS6', 'dasm_movingAve6', 'dasm_LDS6', 'rasm_movingAve6', 'rasm_LDS6', 'asm_movingAve6', 'asm_LDS6', 'dcau_movingAve6', 'dcau_LDS6', 'de_movingAve7', 'de_LDS7', 'psd_movingAve7', 'psd_LDS7', 'dasm_movingAve7', 'dasm_LDS7', 'rasm_movingAve7', 'rasm_LDS7', 'asm_movingAve7', 'asm_LDS7', 'dcau_movingAve7', 'dcau_LDS7', 'de_movingAve8', 'de_LDS8', 'psd_movingAve8', 'psd_LDS8', 'dasm_movingAve8', 'dasm_LDS8', 'rasm_movingAve8', 'rasm_LDS8', 'asm_movingAve8', 'asm_LDS8', 'dcau_movingAve8', 'dcau_LDS8', 'de_movingAve9', 'de_LDS9', 'psd_movingAve9', 'psd_LDS9', 'dasm_movingAve9', 'dasm_LDS9', 'rasm_movingAve9', 'rasm_LDS9', 'asm_movingAve9', 'asm_LDS9', 'dcau_movingAve9', 'dcau_LDS9', 'de_movingAve10', 'de_LDS10', 'psd_movingAve10', 'psd_LDS10', 'dasm_movingAve10', 'dasm_LDS10', 'rasm_movingAve10', 'rasm_LDS10', 'asm_movingAve10', 'asm_LDS10', 'dcau_movingAve10', 'dcau_LDS10', 'de_movingAve11', 'de_LDS11', 'psd_movingAve11', 'psd_LDS11', 'dasm_movingAve11', 'dasm_LDS11', 'rasm_movingAve11', 'rasm_LDS11', 'asm_movingAve11', 'asm_LDS11', 'dcau_movingAve11', 'dcau_LDS11', 'de_movingAve12', 'de_LDS12', 'psd_movingAve12', 'psd_LDS12', 'dasm_movingAve12', 'dasm_LDS12', 'rasm_movingAve12', 'rasm_LDS12', 'asm_movingAve12', 'asm_LDS12', 'dcau_movingAve12', 'dcau_LDS12', 'de_movingAve13', 'de_LDS13', 'psd_movingAve13', 'psd_LDS13', 'dasm_movingAve13', 'dasm_LDS13', 'rasm_movingAve13', 'rasm_LDS13', 'asm_movingAve13', 'asm_LDS13', 'dcau_movingAve13', 'dcau_LDS13', 'de_movingAve14', 'de_LDS14', 'psd_movingAve14', 'psd_LDS14', 'dasm_movingAve14', 'dasm_LDS14', 'rasm_movingAve14', 'rasm_LDS14', 'asm_movingAve14', 'asm_LDS14', 'dcau_movingAve14', 'dcau_LDS14', 'de_movingAve15', 'de_LDS15', 'psd_movingAve15', 'psd_LDS15', 'dasm_movingAve15', 'dasm_LDS15', 'rasm_movingAve15', 'rasm_LDS15', 'asm_movingAve15', 'asm_LDS15', 'dcau_movingAve15', 'dcau_LDS15'])"
      ]
     },
     "execution_count": 7,
     "metadata": {},
     "output_type": "execute_result"
    }
   ],
   "source": [
    "data.keys()"
   ]
  },
  {
   "cell_type": "code",
   "execution_count": 8,
   "id": "b1c0c3f7-2028-48ce-b4d8-cdee04a92e11",
   "metadata": {},
   "outputs": [
    {
     "data": {
      "text/plain": [
       "(62, 235, 5)"
      ]
     },
     "execution_count": 8,
     "metadata": {},
     "output_type": "execute_result"
    }
   ],
   "source": [
    "data['de_LDS1'].shape"
   ]
  },
  {
   "cell_type": "code",
   "execution_count": 9,
   "id": "28c74c3e-7bec-497b-b221-4fb754d3f9f4",
   "metadata": {},
   "outputs": [],
   "source": [
    "os.chdir('/home/st122388/work/dsai project')\n",
    "columns = pd.read_excel('seed/channel-order.xlsx',header=None)\n",
    "df_list = columns.T.values.tolist()"
   ]
  },
  {
   "cell_type": "code",
   "execution_count": 10,
   "id": "229c3ed8-0aad-4fce-8bd0-3487377628f6",
   "metadata": {},
   "outputs": [],
   "source": [
    "data_1_1 = scipy.io.loadmat(\"seed/ExtractedFeatures/1_20131027.mat\")"
   ]
  },
  {
   "cell_type": "code",
   "execution_count": 11,
   "id": "4e1918fc-f59e-4518-91cf-bf43b8e17c95",
   "metadata": {},
   "outputs": [],
   "source": [
    "label_data =loadmat(\"seed/ExtractedFeatures/label.mat\")\n",
    "label = label_data['label']\n",
    "label = label.reshape(15,)\n",
    "label += 1\n"
   ]
  },
  {
   "cell_type": "code",
   "execution_count": 12,
   "id": "bc499215-44bd-4e0c-8159-b1c822cfec14",
   "metadata": {},
   "outputs": [],
   "source": [
    "de_1_1 = []\n",
    "for i in range(1, 16):\n",
    "    de_1_1.append(data_1_1['de_LDS' + str(i)])"
   ]
  },
  {
   "cell_type": "code",
   "execution_count": 13,
   "id": "96a17fba-5932-4a76-bac6-2b7a6806ed2d",
   "metadata": {},
   "outputs": [
    {
     "data": {
      "text/plain": [
       "15"
      ]
     },
     "execution_count": 13,
     "metadata": {},
     "output_type": "execute_result"
    }
   ],
   "source": [
    "len(de_1_1)"
   ]
  },
  {
   "cell_type": "code",
   "execution_count": 14,
   "id": "9185bccd-eed3-4fc3-b69f-c67da93cca13",
   "metadata": {},
   "outputs": [
    {
     "data": {
      "text/html": [
       "<div>\n",
       "<style scoped>\n",
       "    .dataframe tbody tr th:only-of-type {\n",
       "        vertical-align: middle;\n",
       "    }\n",
       "\n",
       "    .dataframe tbody tr th {\n",
       "        vertical-align: top;\n",
       "    }\n",
       "\n",
       "    .dataframe thead tr th {\n",
       "        text-align: left;\n",
       "    }\n",
       "</style>\n",
       "<table border=\"1\" class=\"dataframe\">\n",
       "  <thead>\n",
       "    <tr>\n",
       "      <th></th>\n",
       "      <th>FP1</th>\n",
       "      <th>FPZ</th>\n",
       "      <th>FP2</th>\n",
       "      <th>AF3</th>\n",
       "      <th>AF4</th>\n",
       "      <th>F7</th>\n",
       "      <th>F5</th>\n",
       "      <th>F3</th>\n",
       "      <th>F1</th>\n",
       "      <th>FZ</th>\n",
       "      <th>...</th>\n",
       "      <th>PO3</th>\n",
       "      <th>POZ</th>\n",
       "      <th>PO4</th>\n",
       "      <th>PO6</th>\n",
       "      <th>PO8</th>\n",
       "      <th>CB1</th>\n",
       "      <th>O1</th>\n",
       "      <th>OZ</th>\n",
       "      <th>O2</th>\n",
       "      <th>CB2</th>\n",
       "    </tr>\n",
       "  </thead>\n",
       "  <tbody>\n",
       "    <tr>\n",
       "      <th>0</th>\n",
       "      <td>16.321799</td>\n",
       "      <td>16.349038</td>\n",
       "      <td>17.628318</td>\n",
       "      <td>15.786498</td>\n",
       "      <td>16.499615</td>\n",
       "      <td>24.999267</td>\n",
       "      <td>16.135865</td>\n",
       "      <td>15.637137</td>\n",
       "      <td>15.427287</td>\n",
       "      <td>15.011732</td>\n",
       "      <td>...</td>\n",
       "      <td>16.208599</td>\n",
       "      <td>15.567229</td>\n",
       "      <td>15.591404</td>\n",
       "      <td>34.080594</td>\n",
       "      <td>16.593486</td>\n",
       "      <td>18.181221</td>\n",
       "      <td>17.799844</td>\n",
       "      <td>16.797631</td>\n",
       "      <td>16.149875</td>\n",
       "      <td>16.274071</td>\n",
       "    </tr>\n",
       "    <tr>\n",
       "      <th>1</th>\n",
       "      <td>16.320485</td>\n",
       "      <td>16.348221</td>\n",
       "      <td>17.627077</td>\n",
       "      <td>15.786358</td>\n",
       "      <td>16.497482</td>\n",
       "      <td>24.996706</td>\n",
       "      <td>16.136662</td>\n",
       "      <td>15.637165</td>\n",
       "      <td>15.427073</td>\n",
       "      <td>15.010902</td>\n",
       "      <td>...</td>\n",
       "      <td>16.208999</td>\n",
       "      <td>15.567917</td>\n",
       "      <td>15.592428</td>\n",
       "      <td>34.077694</td>\n",
       "      <td>16.595417</td>\n",
       "      <td>18.181815</td>\n",
       "      <td>17.800621</td>\n",
       "      <td>16.797784</td>\n",
       "      <td>16.150886</td>\n",
       "      <td>16.275114</td>\n",
       "    </tr>\n",
       "    <tr>\n",
       "      <th>2</th>\n",
       "      <td>16.319542</td>\n",
       "      <td>16.347175</td>\n",
       "      <td>17.625874</td>\n",
       "      <td>15.787071</td>\n",
       "      <td>16.495080</td>\n",
       "      <td>24.994424</td>\n",
       "      <td>16.138010</td>\n",
       "      <td>15.638677</td>\n",
       "      <td>15.427371</td>\n",
       "      <td>15.010715</td>\n",
       "      <td>...</td>\n",
       "      <td>16.209414</td>\n",
       "      <td>15.568421</td>\n",
       "      <td>15.592745</td>\n",
       "      <td>34.074293</td>\n",
       "      <td>16.596280</td>\n",
       "      <td>18.182809</td>\n",
       "      <td>17.801498</td>\n",
       "      <td>16.798163</td>\n",
       "      <td>16.151321</td>\n",
       "      <td>16.276002</td>\n",
       "    </tr>\n",
       "    <tr>\n",
       "      <th>3</th>\n",
       "      <td>16.317654</td>\n",
       "      <td>16.345698</td>\n",
       "      <td>17.624445</td>\n",
       "      <td>15.787162</td>\n",
       "      <td>16.492249</td>\n",
       "      <td>24.991948</td>\n",
       "      <td>16.139073</td>\n",
       "      <td>15.639345</td>\n",
       "      <td>15.427457</td>\n",
       "      <td>15.010086</td>\n",
       "      <td>...</td>\n",
       "      <td>16.209238</td>\n",
       "      <td>15.568091</td>\n",
       "      <td>15.592194</td>\n",
       "      <td>34.070284</td>\n",
       "      <td>16.595174</td>\n",
       "      <td>18.182698</td>\n",
       "      <td>17.801277</td>\n",
       "      <td>16.797880</td>\n",
       "      <td>16.151141</td>\n",
       "      <td>16.275940</td>\n",
       "    </tr>\n",
       "    <tr>\n",
       "      <th>4</th>\n",
       "      <td>16.314805</td>\n",
       "      <td>16.343662</td>\n",
       "      <td>17.623075</td>\n",
       "      <td>15.786447</td>\n",
       "      <td>16.489451</td>\n",
       "      <td>24.989954</td>\n",
       "      <td>16.139744</td>\n",
       "      <td>15.639402</td>\n",
       "      <td>15.427397</td>\n",
       "      <td>15.008763</td>\n",
       "      <td>...</td>\n",
       "      <td>16.208440</td>\n",
       "      <td>15.567549</td>\n",
       "      <td>15.591418</td>\n",
       "      <td>34.065605</td>\n",
       "      <td>16.593156</td>\n",
       "      <td>18.182075</td>\n",
       "      <td>17.800546</td>\n",
       "      <td>16.797387</td>\n",
       "      <td>16.150713</td>\n",
       "      <td>16.275443</td>\n",
       "    </tr>\n",
       "    <tr>\n",
       "      <th>...</th>\n",
       "      <td>...</td>\n",
       "      <td>...</td>\n",
       "      <td>...</td>\n",
       "      <td>...</td>\n",
       "      <td>...</td>\n",
       "      <td>...</td>\n",
       "      <td>...</td>\n",
       "      <td>...</td>\n",
       "      <td>...</td>\n",
       "      <td>...</td>\n",
       "      <td>...</td>\n",
       "      <td>...</td>\n",
       "      <td>...</td>\n",
       "      <td>...</td>\n",
       "      <td>...</td>\n",
       "      <td>...</td>\n",
       "      <td>...</td>\n",
       "      <td>...</td>\n",
       "      <td>...</td>\n",
       "      <td>...</td>\n",
       "      <td>...</td>\n",
       "    </tr>\n",
       "    <tr>\n",
       "      <th>228</th>\n",
       "      <td>16.651671</td>\n",
       "      <td>16.592449</td>\n",
       "      <td>17.973199</td>\n",
       "      <td>15.857479</td>\n",
       "      <td>16.709198</td>\n",
       "      <td>25.539646</td>\n",
       "      <td>16.035937</td>\n",
       "      <td>15.556104</td>\n",
       "      <td>15.411796</td>\n",
       "      <td>15.001453</td>\n",
       "      <td>...</td>\n",
       "      <td>16.060899</td>\n",
       "      <td>15.354053</td>\n",
       "      <td>15.307884</td>\n",
       "      <td>33.656078</td>\n",
       "      <td>16.124087</td>\n",
       "      <td>18.063419</td>\n",
       "      <td>17.663508</td>\n",
       "      <td>16.754186</td>\n",
       "      <td>15.858928</td>\n",
       "      <td>16.048917</td>\n",
       "    </tr>\n",
       "    <tr>\n",
       "      <th>229</th>\n",
       "      <td>16.654200</td>\n",
       "      <td>16.593917</td>\n",
       "      <td>17.975136</td>\n",
       "      <td>15.860135</td>\n",
       "      <td>16.712268</td>\n",
       "      <td>25.539091</td>\n",
       "      <td>16.038060</td>\n",
       "      <td>15.557927</td>\n",
       "      <td>15.412726</td>\n",
       "      <td>15.003112</td>\n",
       "      <td>...</td>\n",
       "      <td>16.063209</td>\n",
       "      <td>15.356620</td>\n",
       "      <td>15.310035</td>\n",
       "      <td>33.659411</td>\n",
       "      <td>16.126720</td>\n",
       "      <td>18.066603</td>\n",
       "      <td>17.666368</td>\n",
       "      <td>16.757452</td>\n",
       "      <td>15.861440</td>\n",
       "      <td>16.051965</td>\n",
       "    </tr>\n",
       "    <tr>\n",
       "      <th>230</th>\n",
       "      <td>16.655977</td>\n",
       "      <td>16.595278</td>\n",
       "      <td>17.976392</td>\n",
       "      <td>15.861788</td>\n",
       "      <td>16.714565</td>\n",
       "      <td>25.539162</td>\n",
       "      <td>16.039261</td>\n",
       "      <td>15.558963</td>\n",
       "      <td>15.412959</td>\n",
       "      <td>15.004138</td>\n",
       "      <td>...</td>\n",
       "      <td>16.065705</td>\n",
       "      <td>15.358822</td>\n",
       "      <td>15.312347</td>\n",
       "      <td>33.661959</td>\n",
       "      <td>16.129459</td>\n",
       "      <td>18.069466</td>\n",
       "      <td>17.669147</td>\n",
       "      <td>16.760438</td>\n",
       "      <td>15.864085</td>\n",
       "      <td>16.054410</td>\n",
       "    </tr>\n",
       "    <tr>\n",
       "      <th>231</th>\n",
       "      <td>16.657250</td>\n",
       "      <td>16.596418</td>\n",
       "      <td>17.976415</td>\n",
       "      <td>15.863153</td>\n",
       "      <td>16.715678</td>\n",
       "      <td>25.538854</td>\n",
       "      <td>16.040203</td>\n",
       "      <td>15.560164</td>\n",
       "      <td>15.412679</td>\n",
       "      <td>15.004557</td>\n",
       "      <td>...</td>\n",
       "      <td>16.067600</td>\n",
       "      <td>15.360841</td>\n",
       "      <td>15.314449</td>\n",
       "      <td>33.663454</td>\n",
       "      <td>16.132100</td>\n",
       "      <td>18.071700</td>\n",
       "      <td>17.671373</td>\n",
       "      <td>16.762481</td>\n",
       "      <td>15.866571</td>\n",
       "      <td>16.056757</td>\n",
       "    </tr>\n",
       "    <tr>\n",
       "      <th>232</th>\n",
       "      <td>16.658019</td>\n",
       "      <td>16.597185</td>\n",
       "      <td>17.976882</td>\n",
       "      <td>15.863808</td>\n",
       "      <td>16.716359</td>\n",
       "      <td>25.538368</td>\n",
       "      <td>16.040353</td>\n",
       "      <td>15.561011</td>\n",
       "      <td>15.412792</td>\n",
       "      <td>15.004715</td>\n",
       "      <td>...</td>\n",
       "      <td>16.069546</td>\n",
       "      <td>15.362738</td>\n",
       "      <td>15.316508</td>\n",
       "      <td>33.664340</td>\n",
       "      <td>16.135248</td>\n",
       "      <td>18.074196</td>\n",
       "      <td>17.673754</td>\n",
       "      <td>16.764638</td>\n",
       "      <td>15.869236</td>\n",
       "      <td>16.059286</td>\n",
       "    </tr>\n",
       "  </tbody>\n",
       "</table>\n",
       "<p>233 rows × 62 columns</p>\n",
       "</div>"
      ],
      "text/plain": [
       "           FP1        FPZ        FP2        AF3        AF4         F7  \\\n",
       "0    16.321799  16.349038  17.628318  15.786498  16.499615  24.999267   \n",
       "1    16.320485  16.348221  17.627077  15.786358  16.497482  24.996706   \n",
       "2    16.319542  16.347175  17.625874  15.787071  16.495080  24.994424   \n",
       "3    16.317654  16.345698  17.624445  15.787162  16.492249  24.991948   \n",
       "4    16.314805  16.343662  17.623075  15.786447  16.489451  24.989954   \n",
       "..         ...        ...        ...        ...        ...        ...   \n",
       "228  16.651671  16.592449  17.973199  15.857479  16.709198  25.539646   \n",
       "229  16.654200  16.593917  17.975136  15.860135  16.712268  25.539091   \n",
       "230  16.655977  16.595278  17.976392  15.861788  16.714565  25.539162   \n",
       "231  16.657250  16.596418  17.976415  15.863153  16.715678  25.538854   \n",
       "232  16.658019  16.597185  17.976882  15.863808  16.716359  25.538368   \n",
       "\n",
       "            F5         F3         F1         FZ  ...        PO3        POZ  \\\n",
       "0    16.135865  15.637137  15.427287  15.011732  ...  16.208599  15.567229   \n",
       "1    16.136662  15.637165  15.427073  15.010902  ...  16.208999  15.567917   \n",
       "2    16.138010  15.638677  15.427371  15.010715  ...  16.209414  15.568421   \n",
       "3    16.139073  15.639345  15.427457  15.010086  ...  16.209238  15.568091   \n",
       "4    16.139744  15.639402  15.427397  15.008763  ...  16.208440  15.567549   \n",
       "..         ...        ...        ...        ...  ...        ...        ...   \n",
       "228  16.035937  15.556104  15.411796  15.001453  ...  16.060899  15.354053   \n",
       "229  16.038060  15.557927  15.412726  15.003112  ...  16.063209  15.356620   \n",
       "230  16.039261  15.558963  15.412959  15.004138  ...  16.065705  15.358822   \n",
       "231  16.040203  15.560164  15.412679  15.004557  ...  16.067600  15.360841   \n",
       "232  16.040353  15.561011  15.412792  15.004715  ...  16.069546  15.362738   \n",
       "\n",
       "           PO4        PO6        PO8        CB1         O1         OZ  \\\n",
       "0    15.591404  34.080594  16.593486  18.181221  17.799844  16.797631   \n",
       "1    15.592428  34.077694  16.595417  18.181815  17.800621  16.797784   \n",
       "2    15.592745  34.074293  16.596280  18.182809  17.801498  16.798163   \n",
       "3    15.592194  34.070284  16.595174  18.182698  17.801277  16.797880   \n",
       "4    15.591418  34.065605  16.593156  18.182075  17.800546  16.797387   \n",
       "..         ...        ...        ...        ...        ...        ...   \n",
       "228  15.307884  33.656078  16.124087  18.063419  17.663508  16.754186   \n",
       "229  15.310035  33.659411  16.126720  18.066603  17.666368  16.757452   \n",
       "230  15.312347  33.661959  16.129459  18.069466  17.669147  16.760438   \n",
       "231  15.314449  33.663454  16.132100  18.071700  17.671373  16.762481   \n",
       "232  15.316508  33.664340  16.135248  18.074196  17.673754  16.764638   \n",
       "\n",
       "            O2        CB2  \n",
       "0    16.149875  16.274071  \n",
       "1    16.150886  16.275114  \n",
       "2    16.151321  16.276002  \n",
       "3    16.151141  16.275940  \n",
       "4    16.150713  16.275443  \n",
       "..         ...        ...  \n",
       "228  15.858928  16.048917  \n",
       "229  15.861440  16.051965  \n",
       "230  15.864085  16.054410  \n",
       "231  15.866571  16.056757  \n",
       "232  15.869236  16.059286  \n",
       "\n",
       "[233 rows x 62 columns]"
      ]
     },
     "execution_count": 14,
     "metadata": {},
     "output_type": "execute_result"
    }
   ],
   "source": [
    "de_1_1_1 = pd.DataFrame(np.array(de_1_1[1][:,:,4]).T,columns=df_list)\n",
    "de_1_1_1"
   ]
  },
  {
   "cell_type": "markdown",
   "id": "d9097687-4ebd-413f-9a87-fdacb3f992c4",
   "metadata": {},
   "source": [
    "### Frequency plot of Differential Entrophy linear dynamical system(LDS)"
   ]
  },
  {
   "cell_type": "code",
   "execution_count": 15,
   "id": "c888e299-e873-4b70-b953-d66adb154a90",
   "metadata": {},
   "outputs": [
    {
     "data": {
      "image/png": "[encoded data removed]",
      "text/plain": [
       "<Figure size 432x288 with 1 Axes>"
      ]
     },
     "metadata": {
      "needs_background": "light"
     },
     "output_type": "display_data"
    }
   ],
   "source": [
    "plt.plot(de_1_1[1][:,:,4])\n",
    "plt.show()"
   ]
  },
  {
   "cell_type": "markdown",
   "id": "9d2d3acd-69f0-4eea-880c-9ffa54fb1b20",
   "metadata": {},
   "source": [
    "# Main Data Processing for Differential entrophy feature"
   ]
  },
  {
   "cell_type": "markdown",
   "id": "9ca0e2b0-1187-4f3d-a542-a573e563e24e",
   "metadata": {},
   "source": [
    "### SetData and Window_slice function is created to slice the datsets to create a time sequence of 9s  for temporal dependencies"
   ]
  },
  {
   "cell_type": "code",
   "execution_count": 16,
   "id": "d1b3e5a4-ede2-42ae-8dab-6a9cb53c93d4",
   "metadata": {},
   "outputs": [],
   "source": [
    "\n",
    "def window_slice(data, time_steps):   \n",
    "    data_ = data.copy()\n",
    "    data_ = np.transpose(data_, (1, 0, 2)).reshape(-1, 310) # (n, 310)\n",
    "    \n",
    "    data_st = data_.reshape(data_.shape[0] * data_.shape[1], ) #(n*310, )\n",
    "    data_st = preprocessing.scale(data_st)\n",
    "    data_st += 0.5\n",
    "    data_ = data_st.reshape(data_.shape[0], data_.shape[1]) #(n, 310)\n",
    "    \n",
    "    xs = []\n",
    "    for i in range(int(data_.shape[0] / time_steps)):\n",
    "        k = i*time_steps\n",
    "        xs.append(data_[k: k + time_steps, :])\n",
    "    \n",
    "    xs = np.concatenate(xs).reshape((len(xs), -1, 310))\n",
    "    return xs\n",
    "\n",
    "def setData(de_, label_data, time_steps=9):\n",
    "    X = []\n",
    "    y = []   \n",
    "\n",
    "    for data, label_ in zip(de_, list(label_data)):\n",
    "        X.append(window_slice(data, time_steps))\n",
    "        y_np = np.array([label_] * len(X[-1]))\n",
    "        y.append(y_np)\n",
    "    \n",
    "    \n",
    "    return X, y \n"
   ]
  },
  {
   "cell_type": "markdown",
   "id": "a370d2ea-2694-4dab-b070-46315d140d0c",
   "metadata": {},
   "source": [
    "###  mkdata function load the matfile of 15 subject with labels and we extract the diffferential entrophy LDS features for our work  with output of EEG data and labels of time sequence of 9s which is the X and y data for our input\n"
   ]
  },
  {
   "cell_type": "code",
   "execution_count": 17,
   "id": "4f2d9fb6-4eb2-444f-8340-3bc4034e9e78",
   "metadata": {},
   "outputs": [],
   "source": [
    "def mkdata():\n",
    "    data_1_1 = scipy.io.loadmat(\"seed/ExtractedFeatures/1_20131027.mat\")\n",
    "    data_2_1 = scipy.io.loadmat(\"seed/ExtractedFeatures/2_20140404.mat\")\n",
    "    data_3_1 = scipy.io.loadmat(\"seed/ExtractedFeatures/3_20140603.mat\")\n",
    "    data_4_1 = scipy.io.loadmat(\"seed/ExtractedFeatures/4_20140621.mat\")\n",
    "    data_5_1 = scipy.io.loadmat(\"seed/ExtractedFeatures/5_20140411.mat\")\n",
    "    data_6_1 = scipy.io.loadmat(\"seed/ExtractedFeatures/6_20130712.mat\")\n",
    "    data_7_1 = scipy.io.loadmat(\"seed/ExtractedFeatures/7_20131027.mat\")\n",
    "    data_8_1 = scipy.io.loadmat(\"seed/ExtractedFeatures/8_20140511.mat\")\n",
    "    data_9_1 = scipy.io.loadmat(\"seed/ExtractedFeatures/9_20140620.mat\")\n",
    "    data_10_1 = scipy.io.loadmat(\"seed/ExtractedFeatures/10_20131130.mat\")\n",
    "    data_11_1 = scipy.io.loadmat(\"seed/ExtractedFeatures/11_20140618.mat\")\n",
    "    data_12_1 = scipy.io.loadmat(\"seed/ExtractedFeatures/12_20131127.mat\")\n",
    "    data_13_1 = scipy.io.loadmat(\"seed/ExtractedFeatures/13_20140527.mat\")\n",
    "    data_14_1 = scipy.io.loadmat(\"seed/ExtractedFeatures/14_20140601.mat\")\n",
    "    data_15_1 = scipy.io.loadmat(\"seed/ExtractedFeatures/15_20130709.mat\")\n",
    "\n",
    "    label_data = scipy.io.loadmat(r\"seed/ExtractedFeatures/label.mat\")\n",
    "    label = label_data['label']\n",
    "    label = label.reshape(15,)\n",
    "    label += 1\n",
    "\n",
    "    de_1_1 = []\n",
    "    de_2_1 = []\n",
    "    de_3_1 = []\n",
    "    de_4_1 = []\n",
    "    de_5_1 = []\n",
    "    de_6_1 = []\n",
    "    de_7_1 = []\n",
    "    de_8_1 = []\n",
    "    de_9_1 = []\n",
    "    de_10_1 = []\n",
    "    de_11_1 = []\n",
    "    de_12_1 = []\n",
    "    de_13_1 = []\n",
    "    de_14_1 = []\n",
    "    de_15_1 = []\n",
    "    for i in range(1, 16):\n",
    "        de_1_1.append(data_1_1['de_LDS' + str(i)])\n",
    "        de_2_1.append(data_2_1['de_LDS' + str(i)])\n",
    "        de_3_1.append(data_3_1['de_LDS' + str(i)])\n",
    "        de_4_1.append(data_4_1['de_LDS' + str(i)])\n",
    "        de_5_1.append(data_5_1['de_LDS' + str(i)])\n",
    "        de_6_1.append(data_6_1['de_LDS' + str(i)])\n",
    "        de_7_1.append(data_7_1['de_LDS' + str(i)])\n",
    "        de_8_1.append(data_8_1['de_LDS' + str(i)])\n",
    "        de_9_1.append(data_9_1['de_LDS' + str(i)])\n",
    "        de_10_1.append(data_10_1['de_LDS' + str(i)])\n",
    "        de_11_1.append(data_11_1['de_LDS' + str(i)])\n",
    "        de_12_1.append(data_12_1['de_LDS' + str(i)])\n",
    "        de_13_1.append(data_13_1['de_LDS' + str(i)])\n",
    "        de_14_1.append(data_14_1['de_LDS' + str(i)])\n",
    "        de_15_1.append(data_15_1['de_LDS' + str(i)])\n",
    "\n",
    "    x1, y1 = setData(de_1_1, label)\n",
    "    x2, y2 = setData(de_2_1, label)\n",
    "    x3, y3 = setData(de_3_1, label)\n",
    "    x4, y4 = setData(de_4_1, label)\n",
    "    x5, y5 = setData(de_5_1, label)\n",
    "    x6, y6 = setData(de_6_1, label)\n",
    "    x7, y7 = setData(de_7_1, label)\n",
    "    x8, y8 = setData(de_8_1, label)\n",
    "    x9, y9 = setData(de_9_1, label)\n",
    "    x10, y10 = setData(de_10_1, label)\n",
    "    x11, y11 = setData(de_11_1, label)\n",
    "    x12, y12 = setData(de_12_1, label)\n",
    "    x13, y13 = setData(de_13_1, label)\n",
    "    x14, y14 = setData(de_14_1, label)\n",
    "    x15, y15 = setData(de_15_1, label)\n",
    "\n",
    "    EEG_data = []\n",
    "    EEG_data.append(x1)\n",
    "    EEG_data.append(x2)\n",
    "    EEG_data.append(x3)\n",
    "    EEG_data.append(x4)\n",
    "    EEG_data.append(x5)\n",
    "    EEG_data.append(x6)\n",
    "    EEG_data.append(x7)\n",
    "    EEG_data.append(x8)\n",
    "    EEG_data.append(x9)\n",
    "    EEG_data.append(x10)\n",
    "    EEG_data.append(x11)\n",
    "    EEG_data.append(x12)\n",
    "    EEG_data.append(x13)\n",
    "    EEG_data.append(x14)\n",
    "    EEG_data.append(x15)\n",
    "    EEG = EEG_data\n",
    "\n",
    "    label_all = []\n",
    "    label_all.append(y1)\n",
    "    label_all.append(y2)\n",
    "    label_all.append(y3)\n",
    "    label_all.append(y4)\n",
    "    label_all.append(y5)\n",
    "    label_all.append(y6)\n",
    "    label_all.append(y7)\n",
    "    label_all.append(y8)\n",
    "    label_all.append(y9)\n",
    "    label_all.append(y10)\n",
    "    label_all.append(y11)\n",
    "    label_all.append(y12)\n",
    "    label_all.append(y13)\n",
    "    label_all.append(y14)\n",
    "    label_all.append(y15)\n",
    "    label = label_all\n",
    "\n",
    "    return EEG, label_all\n",
    "\n"
   ]
  },
  {
   "cell_type": "markdown",
   "id": "2e388bb7-c165-452a-92d0-ffa8828f2961",
   "metadata": {},
   "source": [
    "###  Mk_train_test function, we divide our datasets to  xtrain, ytrain, xtest, ytest"
   ]
  },
  {
   "cell_type": "code",
   "execution_count": 18,
   "id": "3417470a-a55d-4172-897d-40bdbb0c9ffa",
   "metadata": {},
   "outputs": [],
   "source": [
    " \n",
    "def mk_train_test(EEG, label, train_index, test_index):\n",
    "    xtrain, ytrain, xtest, ytest = [], [], [], []\n",
    "    for ti in train_index:\n",
    "        eeg_train = np.concatenate(EEG[ti])\n",
    "        label_train = np.concatenate(label[ti])\n",
    "        xtrain.append(eeg_train)\n",
    "        ytrain.append(label_train)\n",
    "\n",
    "    xtrain = np.concatenate(xtrain)\n",
    "    ytrain = np.concatenate(ytrain)\n",
    "\n",
    "    xtrain = np.array(xtrain)\n",
    "    ytrain = np.array(ytrain)\n",
    "    \n",
    "    for te in test_index:\n",
    "        eeg_test = np.concatenate(EEG[ti])\n",
    "        label_test = np.concatenate(label[ti])\n",
    "        xtest.append(eeg_test)\n",
    "        ytest.append(label_test)\n",
    "\n",
    "    xtest = np.concatenate(xtest)\n",
    "    ytest = np.concatenate(ytest)\n",
    "\n",
    "    xtest = np.array(xtest)\n",
    "    ytest = np.array(ytest)\n",
    "\n",
    "    return xtrain, ytrain,xtest,ytest"
   ]
  },
  {
   "cell_type": "code",
   "execution_count": 19,
   "id": "4a11cd54-a58b-4c84-8251-db8103f32557",
   "metadata": {},
   "outputs": [],
   "source": [
    "# We divide our datasets and list them according to postive, negative and neutral data for emotion accuracy tasks\n",
    "#def mk_list():\n",
    "    #L_list = []\n",
    "    #label_0 = [2,3,6,11,14] # Negative data\n",
    "    #label_1 = [1,4,7,10,12] # Neutral data\n",
    "    #label_2 = [0,5,8,9,13] # Positive data\n",
    "    #L_list.append(label_0)\n",
    "    #L_list.append(label_1)\n",
    "    #L_list.append(label_2)\n",
    "    #return L_list   "
   ]
  },
  {
   "cell_type": "markdown",
   "id": "f54d348d-6055-4f33-ad8d-026c80638521",
   "metadata": {},
   "source": [
    "# Model"
   ]
  },
  {
   "cell_type": "markdown",
   "id": "b5d55045-7206-475f-96bf-c35d63d951dc",
   "metadata": {},
   "source": [
    "### Feature Extraction , We use lstm to extract the features and map the time sequence  output of every hidden state to 3 compressed Sequence"
   ]
  },
  {
   "cell_type": "code",
   "execution_count": 20,
   "id": "189cd449-ae5a-45f8-b4d9-ef39612892dd",
   "metadata": {},
   "outputs": [],
   "source": [
    "from torch import nn\n",
    "import torch\n"
   ]
  },
  {
   "cell_type": "code",
   "execution_count": 21,
   "id": "8a9d0f5e-6b2b-45dc-99cd-7d4116f81f05",
   "metadata": {},
   "outputs": [],
   "source": [
    "\n",
    "class FeatureExtractor(nn.Module):\n",
    "    def __init__(self, lstm_input_dim, lstm_hidden_dim, time_steps, K):\n",
    "        super(FeatureExtractor, self).__init__()\n",
    "\n",
    "        self.lstm = nn.LSTM(input_size = lstm_input_dim, \n",
    "                           hidden_size = lstm_hidden_dim,\n",
    "                           batch_first = True\n",
    "                           )\n",
    "\n",
    "        self.dropout = nn.Dropout(p = 0.4) \n",
    "        \n",
    "        self.sigmoid = nn.Sigmoid()\n",
    "        \n",
    "        self.capsule = nn.Linear(time_steps, K)\n",
    "\n",
    "    def forward(self, X_input, hidden0 = None):\n",
    "\n",
    "        lstm_out, _ = self.lstm(X_input) #X_input.shape = (batch_size, time_steps, lstm_hidden_dim)\n",
    "       \n",
    "        out = torch.transpose(lstm_out, 1, 2) #out.shape = (batch_size, lstm_hidden_dim, time_steps)\n",
    "        \n",
    "        H = self.capsule(out) #H.shape = (batch_size, lstm_hidden, K = 3)\n",
    "                \n",
    "        H = H.view(H.shape[0], -1) #H.shape = (batch_size, K * lstm_hidden)\n",
    "        \n",
    "        H = self.sigmoid(H)\n",
    "\n",
    "        H = self.dropout(H)\n",
    "    \n",
    "        return H"
   ]
  },
  {
   "cell_type": "markdown",
   "id": "6897aa65-67d4-4fde-82a3-8c6d8c14a14c",
   "metadata": {},
   "source": [
    "### We used classifier to predicts the emotion class label by mapping the feature into label space"
   ]
  },
  {
   "cell_type": "code",
   "execution_count": 22,
   "id": "26cb1431-8e82-403b-9a55-e9669e29ddb3",
   "metadata": {},
   "outputs": [],
   "source": [
    "\n",
    "class Classifier(nn.Module):\n",
    "    def __init__(self, lstm_hidden_dim, K, class_num):\n",
    "        super(Classifier, self).__init__()\n",
    "\n",
    "        self.dense = nn.Linear(K * lstm_hidden_dim, class_num)\n",
    "\n",
    "        self.dropout = nn.Dropout(p = 0.3)\n",
    "\n",
    "    def forward(self, feature_output):\n",
    "\n",
    "        output = self.dense(feature_output)\n",
    "\n",
    "        output = self.dropout(output)\n",
    "\n",
    "        return output"
   ]
  },
  {
   "cell_type": "markdown",
   "id": "a5914a8b-f8b4-4227-aeab-dc5f728638e3",
   "metadata": {},
   "source": [
    "### Torch Datasets class "
   ]
  },
  {
   "cell_type": "code",
   "execution_count": 23,
   "id": "70f8d6d7-bcfc-467e-ab03-63899808bcd3",
   "metadata": {},
   "outputs": [],
   "source": [
    "\n",
    "import torch\n",
    "class Mydataset(torch.utils.data.Dataset):\n",
    "    def __init__(self, data, label, transform = None):\n",
    "        super().__init__()\n",
    "        \n",
    "        self.transform = transform\n",
    "        self.data = data\n",
    "        self.label = label\n",
    "\n",
    "        self.data_num = data.shape[0]\n",
    "        \n",
    "        \n",
    "        self.x = []\n",
    "        for i in range(self.data.shape[0]):\n",
    "            self.x.append(data[i, :, :])\n",
    "            \n",
    "        self.y = []\n",
    "        for j in range(self.label.shape[0]):\n",
    "            self.y.append(label[j])\n",
    "            \n",
    "         \n",
    "        \n",
    "        self.len = len(self.x)\n",
    "        \n",
    "        \n",
    "            \n",
    "    def __len__(self):\n",
    "        return self.len\n",
    "    \n",
    "    def __getitem__(self, idx):\n",
    "        label = self.y[idx]\n",
    "        data = self.x[idx]\n",
    "        data = torch.Tensor(data)\n",
    "        \n",
    "        return data, label"
   ]
  },
  {
   "cell_type": "markdown",
   "id": "3a383025-a450-4ec8-96d0-76c35a9ce2f3",
   "metadata": {},
   "source": [
    "# Hyperparameter"
   ]
  },
  {
   "cell_type": "code",
   "execution_count": 24,
   "id": "a7667aca-122c-4aba-ba76-a5f41efdadca",
   "metadata": {},
   "outputs": [],
   "source": [
    "epochs_num = 100\n",
    "batch_size = 256\n",
    "lstm_input_dim = 310 # 62*5=310 features\n",
    "lstm_hidden_dim = 150 \n",
    "time_steps = 9\n",
    "K = 3\n",
    "class_num = 3 # positive, neutral, negative\n",
    "momentum = 0.9\n",
    "weight_decay = 0.01\n",
    "Adam_lr = 0.0001\n"
   ]
  },
  {
   "cell_type": "markdown",
   "id": "e91c80b7-0d8d-41f3-94d5-d901847e58bd",
   "metadata": {},
   "source": [
    " ### EEG AND LABEL Dataset and converting it into tensor datasets. We divide our session into 9 session for traning and 6 session for testing"
   ]
  },
  {
   "cell_type": "code",
   "execution_count": 25,
   "id": "0de44a25-977c-4987-9a0d-9ec2b712aab9",
   "metadata": {},
   "outputs": [],
   "source": [
    "EEG, label = mkdata()     \n"
   ]
  },
  {
   "cell_type": "code",
   "execution_count": 26,
   "id": "1d3b2cf7-d8e3-4394-acc6-525c2b09830b",
   "metadata": {},
   "outputs": [],
   "source": [
    "x_train,y_train, x_test, y_test=mk_train_test(EEG,label,[0,1,2,3,4,5,6,7,8,9],[10,11,12,13,14,15])"
   ]
  },
  {
   "cell_type": "code",
   "execution_count": 27,
   "id": "ffe4eacf-ca1f-4334-9149-066882d18452",
   "metadata": {},
   "outputs": [],
   "source": [
    "torch_X_train=torch.from_numpy(x_train).type(torch.float)\n",
    "torch_y_train=torch.from_numpy(y_train).type(torch.float)\n",
    "torch_X_test=torch.from_numpy(x_test).type(torch.float)\n",
    "torch_y_test=torch.from_numpy(y_test).type(torch.float)\n"
   ]
  },
  {
   "cell_type": "code",
   "execution_count": 28,
   "id": "de40500e-e9f6-4833-8f31-2b6ebdea61e7",
   "metadata": {},
   "outputs": [
    {
     "name": "stdout",
     "output_type": "stream",
     "text": [
      "torch.Size([3700, 9, 310])\n",
      "torch.Size([3700])\n",
      "torch.Size([2220, 9, 310])\n",
      "torch.Size([2220])\n"
     ]
    }
   ],
   "source": [
    "print(torch_X_train.shape)\n",
    "print(torch_y_train.shape)\n",
    "print(torch_X_test.shape)\n",
    "print(torch_y_test.shape)"
   ]
  },
  {
   "cell_type": "code",
   "execution_count": 29,
   "id": "2fdcbbb8-11fd-4aff-b8e1-35b4e5d0da4e",
   "metadata": {},
   "outputs": [],
   "source": [
    "train = Mydataset(torch_X_train, torch_y_train, transform = None)\n",
    "test =Mydataset(torch_X_test,torch_y_test,transform=None)"
   ]
  },
  {
   "cell_type": "markdown",
   "id": "8e1424e5-29dc-4d7c-8e77-6f20a64be4f8",
   "metadata": {},
   "source": [
    "### Feature extractor and classifier model with optimizer and loss function"
   ]
  },
  {
   "cell_type": "code",
   "execution_count": 30,
   "id": "5eb5862c-53a2-4c48-9088-73020283ba70",
   "metadata": {},
   "outputs": [],
   "source": [
    "model_F = FeatureExtractor(lstm_input_dim, lstm_hidden_dim, time_steps, K)\n",
    "model_C = Classifier(lstm_hidden_dim, K, class_num)\n",
    "optimizer_F = optim.Adam(model_F.parameters(), lr = Adam_lr, weight_decay = weight_decay)\n",
    "optimizer_C = optim.Adam(model_C.parameters(), lr = Adam_lr, weight_decay = weight_decay)\n",
    "criterion= nn.CrossEntropyLoss()\n"
   ]
  },
  {
   "cell_type": "markdown",
   "id": "1ad79296-1bb5-49fe-a3bf-10a0cd0dddf7",
   "metadata": {},
   "source": [
    "### Put them into GPU if possible"
   ]
  },
  {
   "cell_type": "code",
   "execution_count": 31,
   "id": "80d96fbc-57f5-49c1-8ee6-9a60ef29de40",
   "metadata": {},
   "outputs": [
    {
     "name": "stdout",
     "output_type": "stream",
     "text": [
      "Configured device:  cuda\n"
     ]
    }
   ],
   "source": [
    "device = torch.device('cuda' if torch.cuda.is_available() else 'cpu')\n",
    "print(\"Configured device: \", device)"
   ]
  },
  {
   "cell_type": "code",
   "execution_count": 32,
   "id": "4ca912bf-bea7-4017-afa7-58ca3a736d18",
   "metadata": {},
   "outputs": [],
   "source": [
    "models = [model_F, model_C]\n",
    "for model in models:\n",
    "    model = model.to(device)\n",
    "criterion = criterion.to(device)"
   ]
  },
  {
   "cell_type": "markdown",
   "id": "f64e8d85-c24a-4185-9d29-82ba6f38e83b",
   "metadata": {},
   "source": [
    "### Defining training and testing process. We set model.train() so dropout is applied. We define a function for testing our model. We wet model.eval() since we do not use dropout."
   ]
  },
  {
   "cell_type": "code",
   "execution_count": 33,
   "id": "215b3f73-af0b-4135-9c9f-152482d592d4",
   "metadata": {},
   "outputs": [
    {
     "name": "stdout",
     "output_type": "stream",
     "text": [
      "1 training_loss: 17.002, training_accuracy: 33.08108\n",
      "1 test_loss: 9.884, test_accuracy: 34.59459\n",
      "2 training_loss: 16.875, training_accuracy: 32.94595\n",
      "2 test_loss: 9.884, test_accuracy: 34.59459\n",
      "3 training_loss: 16.745, training_accuracy: 33.00000\n",
      "3 test_loss: 9.881, test_accuracy: 34.59459\n",
      "4 training_loss: 16.827, training_accuracy: 34.48649\n",
      "4 test_loss: 9.880, test_accuracy: 34.59459\n",
      "5 training_loss: 16.745, training_accuracy: 35.45946\n",
      "5 test_loss: 9.877, test_accuracy: 34.59459\n",
      "6 training_loss: 16.789, training_accuracy: 33.81081\n",
      "6 test_loss: 9.876, test_accuracy: 34.59459\n",
      "7 training_loss: 16.788, training_accuracy: 33.83784\n",
      "7 test_loss: 9.874, test_accuracy: 34.59459\n",
      "8 training_loss: 16.709, training_accuracy: 34.02703\n",
      "8 test_loss: 9.873, test_accuracy: 34.59459\n",
      "9 training_loss: 16.785, training_accuracy: 34.18919\n",
      "9 test_loss: 9.869, test_accuracy: 34.59459\n",
      "10 training_loss: 16.845, training_accuracy: 32.13514\n",
      "10 test_loss: 9.866, test_accuracy: 34.59459\n",
      "11 training_loss: 16.724, training_accuracy: 33.48649\n",
      "11 test_loss: 9.860, test_accuracy: 34.59459\n",
      "12 training_loss: 16.763, training_accuracy: 33.75676\n",
      "12 test_loss: 9.858, test_accuracy: 34.59459\n",
      "13 training_loss: 16.758, training_accuracy: 32.75676\n",
      "13 test_loss: 9.852, test_accuracy: 32.70270\n",
      "14 training_loss: 16.711, training_accuracy: 34.37838\n",
      "14 test_loss: 9.839, test_accuracy: 34.59459\n",
      "15 training_loss: 16.715, training_accuracy: 33.27027\n",
      "15 test_loss: 9.830, test_accuracy: 51.35135\n",
      "16 training_loss: 16.621, training_accuracy: 35.86486\n",
      "16 test_loss: 9.811, test_accuracy: 34.59459\n",
      "17 training_loss: 16.567, training_accuracy: 35.51351\n",
      "17 test_loss: 9.790, test_accuracy: 34.59459\n",
      "18 training_loss: 16.584, training_accuracy: 35.81081\n",
      "18 test_loss: 9.767, test_accuracy: 64.32432\n",
      "19 training_loss: 16.555, training_accuracy: 36.37838\n",
      "19 test_loss: 9.719, test_accuracy: 44.32432\n",
      "20 training_loss: 16.373, training_accuracy: 39.21622\n",
      "20 test_loss: 9.667, test_accuracy: 34.59459\n",
      "21 training_loss: 16.420, training_accuracy: 37.62162\n",
      "21 test_loss: 9.608, test_accuracy: 68.37838\n",
      "22 training_loss: 16.215, training_accuracy: 38.56757\n",
      "22 test_loss: 9.581, test_accuracy: 55.94595\n",
      "23 training_loss: 16.167, training_accuracy: 40.35135\n",
      "23 test_loss: 9.416, test_accuracy: 62.97297\n",
      "24 training_loss: 15.922, training_accuracy: 42.51351\n",
      "24 test_loss: 9.297, test_accuracy: 78.10811\n",
      "25 training_loss: 15.749, training_accuracy: 44.21622\n",
      "25 test_loss: 9.143, test_accuracy: 78.91892\n",
      "26 training_loss: 15.503, training_accuracy: 45.64865\n",
      "26 test_loss: 8.959, test_accuracy: 72.97297\n",
      "27 training_loss: 15.297, training_accuracy: 47.70270\n",
      "27 test_loss: 8.744, test_accuracy: 65.94595\n",
      "28 training_loss: 15.124, training_accuracy: 50.08108\n",
      "28 test_loss: 8.711, test_accuracy: 60.00000\n",
      "29 training_loss: 14.737, training_accuracy: 52.24324\n",
      "29 test_loss: 8.366, test_accuracy: 70.27027\n",
      "30 training_loss: 14.622, training_accuracy: 52.40541\n",
      "30 test_loss: 8.121, test_accuracy: 76.21622\n",
      "31 training_loss: 14.011, training_accuracy: 55.86486\n",
      "31 test_loss: 7.873, test_accuracy: 79.18919\n",
      "32 training_loss: 13.879, training_accuracy: 55.13514\n",
      "32 test_loss: 7.623, test_accuracy: 68.64865\n",
      "33 training_loss: 13.299, training_accuracy: 59.56757\n",
      "33 test_loss: 7.377, test_accuracy: 70.00000\n",
      "34 training_loss: 12.952, training_accuracy: 60.27027\n",
      "34 test_loss: 7.111, test_accuracy: 75.94595\n",
      "35 training_loss: 12.490, training_accuracy: 64.13514\n",
      "35 test_loss: 6.871, test_accuracy: 80.54054\n",
      "36 training_loss: 12.307, training_accuracy: 63.08108\n",
      "36 test_loss: 6.699, test_accuracy: 74.32432\n",
      "37 training_loss: 11.936, training_accuracy: 65.00000\n",
      "37 test_loss: 6.341, test_accuracy: 88.10811\n",
      "38 training_loss: 11.410, training_accuracy: 67.48649\n",
      "38 test_loss: 6.131, test_accuracy: 85.67568\n",
      "39 training_loss: 11.159, training_accuracy: 69.72973\n",
      "39 test_loss: 5.916, test_accuracy: 81.35135\n",
      "40 training_loss: 10.754, training_accuracy: 71.78378\n",
      "40 test_loss: 5.830, test_accuracy: 76.48649\n",
      "41 training_loss: 10.572, training_accuracy: 71.35135\n",
      "41 test_loss: 5.513, test_accuracy: 88.10811\n",
      "42 training_loss: 10.225, training_accuracy: 73.89189\n",
      "42 test_loss: 5.352, test_accuracy: 85.94595\n",
      "43 training_loss: 9.726, training_accuracy: 75.62162\n",
      "43 test_loss: 5.272, test_accuracy: 82.43243\n",
      "44 training_loss: 9.633, training_accuracy: 75.10811\n",
      "44 test_loss: 5.213, test_accuracy: 80.27027\n",
      "45 training_loss: 9.484, training_accuracy: 75.86486\n",
      "45 test_loss: 4.971, test_accuracy: 82.97297\n",
      "46 training_loss: 9.100, training_accuracy: 77.08108\n",
      "46 test_loss: 4.713, test_accuracy: 84.86486\n",
      "47 training_loss: 8.865, training_accuracy: 78.91892\n",
      "47 test_loss: 4.700, test_accuracy: 80.27027\n",
      "48 training_loss: 8.538, training_accuracy: 78.89189\n",
      "48 test_loss: 4.352, test_accuracy: 89.45946\n",
      "49 training_loss: 8.122, training_accuracy: 81.32432\n",
      "49 test_loss: 4.193, test_accuracy: 89.72973\n",
      "50 training_loss: 8.131, training_accuracy: 80.89189\n",
      "50 test_loss: 4.132, test_accuracy: 86.48649\n",
      "51 training_loss: 8.054, training_accuracy: 80.70270\n",
      "51 test_loss: 4.159, test_accuracy: 89.18919\n",
      "52 training_loss: 7.837, training_accuracy: 81.00000\n",
      "52 test_loss: 3.957, test_accuracy: 88.10811\n",
      "53 training_loss: 7.520, training_accuracy: 81.48649\n",
      "53 test_loss: 4.169, test_accuracy: 83.51351\n",
      "54 training_loss: 7.380, training_accuracy: 81.70270\n",
      "54 test_loss: 3.651, test_accuracy: 89.18919\n",
      "55 training_loss: 7.031, training_accuracy: 83.00000\n",
      "55 test_loss: 3.848, test_accuracy: 84.32432\n",
      "56 training_loss: 6.764, training_accuracy: 83.67568\n",
      "56 test_loss: 3.358, test_accuracy: 90.81081\n",
      "57 training_loss: 6.469, training_accuracy: 84.94595\n",
      "57 test_loss: 3.133, test_accuracy: 92.43243\n",
      "58 training_loss: 6.456, training_accuracy: 84.32432\n",
      "58 test_loss: 3.138, test_accuracy: 92.16216\n",
      "59 training_loss: 6.491, training_accuracy: 84.18919\n",
      "59 test_loss: 3.030, test_accuracy: 92.16216\n",
      "60 training_loss: 6.246, training_accuracy: 84.40541\n",
      "60 test_loss: 2.978, test_accuracy: 91.89189\n",
      "61 training_loss: 6.362, training_accuracy: 84.64865\n",
      "61 test_loss: 4.517, test_accuracy: 78.64865\n",
      "62 training_loss: 6.405, training_accuracy: 83.56757\n",
      "62 test_loss: 3.142, test_accuracy: 89.18919\n",
      "63 training_loss: 5.950, training_accuracy: 85.40541\n",
      "63 test_loss: 3.619, test_accuracy: 82.97297\n",
      "64 training_loss: 5.966, training_accuracy: 85.08108\n",
      "64 test_loss: 2.731, test_accuracy: 93.24324\n",
      "65 training_loss: 5.679, training_accuracy: 85.94595\n",
      "65 test_loss: 3.085, test_accuracy: 88.37838\n",
      "66 training_loss: 5.655, training_accuracy: 85.86486\n",
      "66 test_loss: 2.665, test_accuracy: 93.24324\n",
      "67 training_loss: 5.432, training_accuracy: 85.97297\n",
      "67 test_loss: 2.811, test_accuracy: 91.89189\n",
      "68 training_loss: 5.591, training_accuracy: 86.24324\n",
      "68 test_loss: 3.021, test_accuracy: 91.35135\n",
      "69 training_loss: 5.429, training_accuracy: 86.67568\n",
      "69 test_loss: 3.463, test_accuracy: 85.40541\n",
      "70 training_loss: 5.312, training_accuracy: 86.51351\n",
      "70 test_loss: 2.590, test_accuracy: 93.24324\n",
      "71 training_loss: 5.274, training_accuracy: 86.35135\n",
      "71 test_loss: 3.726, test_accuracy: 84.05405\n",
      "72 training_loss: 5.449, training_accuracy: 85.75676\n",
      "72 test_loss: 2.710, test_accuracy: 91.08108\n",
      "73 training_loss: 5.694, training_accuracy: 84.27027\n",
      "73 test_loss: 3.386, test_accuracy: 84.32432\n",
      "74 training_loss: 5.462, training_accuracy: 85.43243\n",
      "74 test_loss: 2.567, test_accuracy: 92.16216\n",
      "75 training_loss: 4.971, training_accuracy: 87.43243\n",
      "75 test_loss: 2.478, test_accuracy: 92.43243\n",
      "76 training_loss: 4.996, training_accuracy: 86.37838\n",
      "76 test_loss: 2.696, test_accuracy: 91.08108\n",
      "77 training_loss: 4.942, training_accuracy: 86.48649\n",
      "77 test_loss: 2.504, test_accuracy: 93.24324\n",
      "78 training_loss: 4.610, training_accuracy: 87.83784\n",
      "78 test_loss: 2.443, test_accuracy: 93.24324\n",
      "79 training_loss: 4.736, training_accuracy: 87.59459\n",
      "79 test_loss: 2.670, test_accuracy: 90.27027\n",
      "80 training_loss: 4.808, training_accuracy: 86.86486\n",
      "80 test_loss: 2.472, test_accuracy: 93.24324\n",
      "81 training_loss: 4.534, training_accuracy: 88.08108\n",
      "81 test_loss: 3.467, test_accuracy: 84.59459\n",
      "82 training_loss: 4.867, training_accuracy: 86.48649\n",
      "82 test_loss: 2.415, test_accuracy: 93.24324\n",
      "83 training_loss: 4.699, training_accuracy: 87.67568\n",
      "83 test_loss: 2.444, test_accuracy: 93.24324\n",
      "84 training_loss: 4.673, training_accuracy: 87.32432\n",
      "84 test_loss: 2.475, test_accuracy: 92.43243\n",
      "85 training_loss: 4.251, training_accuracy: 88.75676\n",
      "85 test_loss: 2.528, test_accuracy: 92.43243\n",
      "86 training_loss: 4.456, training_accuracy: 88.00000\n",
      "86 test_loss: 2.469, test_accuracy: 93.24324\n",
      "87 training_loss: 4.574, training_accuracy: 87.70270\n",
      "87 test_loss: 2.688, test_accuracy: 90.81081\n",
      "88 training_loss: 4.263, training_accuracy: 87.67568\n",
      "88 test_loss: 2.634, test_accuracy: 91.35135\n",
      "89 training_loss: 4.403, training_accuracy: 87.83784\n",
      "89 test_loss: 2.591, test_accuracy: 92.43243\n",
      "90 training_loss: 4.415, training_accuracy: 88.29730\n",
      "90 test_loss: 2.468, test_accuracy: 92.16216\n",
      "91 training_loss: 4.344, training_accuracy: 87.13514\n",
      "91 test_loss: 2.972, test_accuracy: 89.18919\n",
      "92 training_loss: 4.302, training_accuracy: 88.24324\n",
      "92 test_loss: 2.466, test_accuracy: 93.24324\n",
      "93 training_loss: 4.029, training_accuracy: 88.18919\n",
      "93 test_loss: 2.735, test_accuracy: 89.45946\n",
      "94 training_loss: 4.218, training_accuracy: 88.05405\n",
      "94 test_loss: 2.397, test_accuracy: 93.24324\n",
      "95 training_loss: 4.004, training_accuracy: 88.48649\n",
      "95 test_loss: 2.467, test_accuracy: 92.43243\n",
      "96 training_loss: 4.529, training_accuracy: 87.13514\n",
      "96 test_loss: 3.263, test_accuracy: 87.83784\n",
      "97 training_loss: 4.653, training_accuracy: 86.05405\n",
      "97 test_loss: 2.448, test_accuracy: 91.62162\n",
      "98 training_loss: 3.902, training_accuracy: 88.27027\n",
      "98 test_loss: 2.369, test_accuracy: 93.24324\n",
      "99 training_loss: 3.698, training_accuracy: 89.05405\n",
      "99 test_loss: 2.555, test_accuracy: 91.89189\n",
      "100 training_loss: 3.834, training_accuracy: 89.18919\n",
      "100 test_loss: 2.456, test_accuracy: 93.24324\n"
     ]
    }
   ],
   "source": [
    "\n",
    "pltloss = np.array([0])\n",
    "e = np.arange(1, epochs_num + 1)\n",
    "plttrain_accuracy = np.array([0])\n",
    "plttest_accuracy = np.array([0])\n",
    "test_pltloss = np.array([0])\n",
    "accuracy = 0.0\n",
    "for epoch in range(epochs_num):\n",
    "    train_loader = torch.utils.data.DataLoader(train, batch_size = batch_size, shuffle = True)\n",
    "    running_loss = 0.0\n",
    "    training_accuracy = 0.0\n",
    "    class_eval = []\n",
    "    label_eval = []\n",
    "    c_loss = 0.0\n",
    "    model_F.train()\n",
    "    model_C.train()\n",
    "    for i, (X_train, Y_train) in enumerate(train_loader):\n",
    "\n",
    "        torch.autograd.set_detect_anomaly(True)\n",
    "        Y_train=Y_train.type(torch.long)\n",
    "        X_train = X_train.to(device)\n",
    "        Y_train = Y_train.to(device)\n",
    "        feature_output_C = model_F(X_train)\n",
    "        # FeatureExtractorとClassifier\n",
    "        class_output = model_C(feature_output_C)\n",
    "        class_loss = criterion(class_output, Y_train)\n",
    "        optimizer_F.zero_grad()\n",
    "        optimizer_C.zero_grad()\n",
    "\n",
    "        class_loss.backward()\n",
    "        optimizer_F.step()\n",
    "        optimizer_C.step()\n",
    "        running_loss += float(class_loss)\n",
    "\n",
    "\n",
    "        with torch.no_grad():\n",
    "            for k in range(class_output.shape[0]):\n",
    "                label_eval.append(Y_train[k].cpu().detach().item()) \n",
    "                class_eval.append(torch.argmax(class_output[k, :]).cpu().detach().item())\n",
    "                training_accuracy = accuracy_score(label_eval, class_eval)\n",
    "\n",
    "    with torch.no_grad():\n",
    "        if epoch == 0:\n",
    "            pltloss = np.array([running_loss])\n",
    "            plttrain_accuracy = np.array([training_accuracy*100])\n",
    "        else:\n",
    "            pltloss = np.append(pltloss, running_loss)\n",
    "            plttrain_accuracy = np.append(plttrain_accuracy, training_accuracy*100)\n",
    "\n",
    "\n",
    "    print('%d training_loss: %.3f, training_accuracy: %.5f' % (epoch + 1, running_loss, training_accuracy*100))        \n",
    "    #print('train_loss: %.3f, training_accuracy: %.5f' % (c_loss, training_accuracy*100))\n",
    "\n",
    "\n",
    "\n",
    "\n",
    "    test_loader = torch.utils.data.DataLoader(test, batch_size = batch_size, shuffle = True)\n",
    "    model_F.eval()\n",
    "    model_C.eval()\n",
    "    label_t_eval = []\n",
    "    class_t_eval = []\n",
    "    test_accuracy = 0.0\n",
    "    eval_loss = 0.0\n",
    "    for i, (X_test, Y_test) in enumerate(test_loader):\n",
    "        with torch.no_grad():\n",
    "            X_test = X_test.to(device)\n",
    "            Y_test = Y_test.to(device).long()\n",
    "            feature_output_test = model_F(X_test)\n",
    "            class_output_test = model_C(feature_output_test)\n",
    "            test_loss = criterion(class_output_test, Y_test)\n",
    "            eval_loss += float(test_loss.item())\n",
    "            for k in range(class_output_test.shape[0]):\n",
    "                label_t_eval.append(Y_test[k].cpu().detach().item())\n",
    "                class_t_eval.append(torch.argmax(class_output_test[k, :]).cpu().detach().item())\n",
    "                test_accuracy = accuracy_score(label_t_eval, class_t_eval)\n",
    "    with torch.no_grad():\n",
    "        if epoch == 0:\n",
    "            test_pltloss = np.array([eval_loss])\n",
    "            plttest_accuracy = np.array([test_accuracy*100])\n",
    "        else:\n",
    "            test_pltloss = np.append(test_pltloss, eval_loss)\n",
    "            plttest_accuracy = np.append(plttest_accuracy, test_accuracy*100)\n",
    "\n",
    "    print('%d test_loss: %.3f, test_accuracy: %.5f' % (epoch + 1, eval_loss, test_accuracy*100)) \n",
    "                \n",
    "                "
   ]
  },
  {
   "cell_type": "markdown",
   "id": "56de98e9-a01b-452c-9d84-40de6ae5bced",
   "metadata": {},
   "source": [
    "### Training Loss plot"
   ]
  },
  {
   "cell_type": "code",
   "execution_count": 34,
   "id": "f07a69e1-2ae4-475f-bcf7-970c2ff1b112",
   "metadata": {},
   "outputs": [
    {
     "data": {
      "image/png": "[encoded data removed]",
      "text/plain": [
       "<Figure size 432x288 with 1 Axes>"
      ]
     },
     "metadata": {
      "needs_background": "light"
     },
     "output_type": "display_data"
    }
   ],
   "source": [
    "import matplotlib.pyplot as plt\n",
    "plt.figure()\n",
    "plt.plot(e, pltloss)\n",
    "plt.title('train loss')\n",
    "plt.ylabel('Loss')\n",
    "plt.xlabel('Epoch')\n",
    "plt.savefig('seed'+'train_loss.png')\n",
    "                   "
   ]
  },
  {
   "cell_type": "markdown",
   "id": "9937ae61-dde7-4bc4-bc75-f313e8b3e4a4",
   "metadata": {},
   "source": [
    "### Test loss plot"
   ]
  },
  {
   "cell_type": "code",
   "execution_count": 35,
   "id": "f7ea645e-42bd-4188-ac20-dce6ebee6fc6",
   "metadata": {},
   "outputs": [
    {
     "data": {
      "image/png": "[encoded data removed]",
      "text/plain": [
       "<Figure size 432x288 with 1 Axes>"
      ]
     },
     "metadata": {
      "needs_background": "light"
     },
     "output_type": "display_data"
    }
   ],
   "source": [
    "plt.figure()\n",
    "plt.plot(e, test_pltloss)\n",
    "plt.title('Test loss')\n",
    "plt.ylabel('Loss')\n",
    "plt.xlabel('Epoch')\n",
    "plt.savefig('seed'+'test_loss.png')\n"
   ]
  },
  {
   "cell_type": "markdown",
   "id": "a1a6ed6d-6afd-4be8-aaac-9337f51f8156",
   "metadata": {},
   "source": [
    "### Accuracy of training and testing datasets"
   ]
  },
  {
   "cell_type": "code",
   "execution_count": 54,
   "id": "f8413b7a-1251-4e99-9bae-d1dc36859145",
   "metadata": {},
   "outputs": [
    {
     "data": {
      "image/png": "[encoded data removed]",
      "text/plain": [
       "<Figure size 432x288 with 1 Axes>"
      ]
     },
     "metadata": {
      "needs_background": "light"
     },
     "output_type": "display_data"
    }
   ],
   "source": [
    "plt.figure()\n",
    "plt.plot(e, plttrain_accuracy, label= 'train accuracy', color = 'red')\n",
    "plt.plot(e, plttest_accuracy, label= 'test accuracy', color = 'blue')\n",
    "plt.legend()\n",
    "plt.title('Accuracy')\n",
    "plt.ylabel('accuracy')\n",
    "plt.xlabel('Epoch')\n",
    "plt.savefig('seed'+'accuracy.png')\n",
    "\n"
   ]
  },
  {
   "cell_type": "code",
   "execution_count": null,
   "id": "eebe96b9-90f2-43ef-b801-98bb70201a4e",
   "metadata": {},
   "outputs": [],
   "source": []
  },
  {
   "cell_type": "code",
   "execution_count": null,
   "id": "5cde6b71-f11e-4179-870f-2dfc381553b8",
   "metadata": {},
   "outputs": [],
   "source": [
    "\n"
   ]
  },
  {
   "cell_type": "markdown",
   "id": "6d3a4f2a-6e9b-4dd9-99a1-e3a96d0d46f6",
   "metadata": {},
   "source": [
    "### Confusion matrix of training (Label) 0: sad, 1: neutral, 2: happy"
   ]
  },
  {
   "cell_type": "code",
   "execution_count": 56,
   "id": "f469a376-78f0-4f5a-bab7-a6e9a256b0d5",
   "metadata": {},
   "outputs": [
    {
     "data": {
      "image/png": "[encoded data removed]",
      "text/plain": [
       "<Figure size 432x288 with 2 Axes>"
      ]
     },
     "metadata": {
      "needs_background": "light"
     },
     "output_type": "display_data"
    }
   ],
   "source": [
    "import seaborn as sns\n",
    "plt.figure()\n",
    "c = confusion_matrix(label_eval, class_eval)\n",
    "sns.heatmap(c, annot = True, fmt = 'g', square = True)\n",
    "plt.title(\"training with (Label) 0: sad, 1: neutral, 2: happy \")\n",
    "plt.xlabel(\"predict\")\n",
    "plt.ylabel(\"true\")\n",
    "\n",
    "plt.savefig('seed'+'train_cm.png')\n"
   ]
  },
  {
   "cell_type": "markdown",
   "id": "4d039999-8d84-4e68-81ec-98c278b53997",
   "metadata": {},
   "source": [
    "### Confusion matrix of testing (Label) 0: sad, 1: neutral, 2: happy"
   ]
  },
  {
   "cell_type": "code",
   "execution_count": 57,
   "id": "c748dfca-1d9a-4c0a-8868-a0945d3fa9e9",
   "metadata": {},
   "outputs": [
    {
     "data": {
      "image/png": "[encoded data removed]",
      "text/plain": [
       "<Figure size 432x288 with 2 Axes>"
      ]
     },
     "metadata": {
      "needs_background": "light"
     },
     "output_type": "display_data"
    }
   ],
   "source": [
    "plt.figure()\n",
    "cx = confusion_matrix(label_t_eval, class_t_eval)\n",
    "sns.heatmap(cx, annot = True, fmt = 'g', square = True)\n",
    "plt.title(\"test (Label) 0: sad, 1: neutral, 2: happy\")\n",
    "plt.xlabel(\"predict\")\n",
    "plt.ylabel(\"true\")\n",
    "plt.savefig('seed'+'test_cm.png')\n",
    "\n"
   ]
  },
  {
   "cell_type": "markdown",
   "id": "61aa8f3d-3f59-463f-aa0d-76eff1419420",
   "metadata": {},
   "source": [
    "# BILSTM MODEL"
   ]
  },
  {
   "cell_type": "code",
   "execution_count": 39,
   "id": "d73e42e5-6c75-42b8-960a-430674b8ab74",
   "metadata": {},
   "outputs": [],
   "source": [
    "class LSTM(nn.Module):\n",
    "    '''\n",
    "    Expected Input Shape: (batch, seq_len, channels)\n",
    "    '''\n",
    "    def __init__(self, input_dim, hidden_dim, num_layers, num_classes, bidirectional, dropout):\n",
    "        super(LSTM, self).__init__()\n",
    "        self.hidden_dim = hidden_dim\n",
    "        self.num_layers = num_layers\n",
    "        self.lstm = nn.LSTM(input_dim, hidden_dim, num_layers, bidirectional=bidirectional, \n",
    "                            dropout=dropout, batch_first=True)\n",
    "        self.fc = nn.Linear(hidden_dim * num_layers, num_classes)\n",
    "        self.softmax = nn.LogSoftmax(dim=1)\n",
    "\n",
    "    def forward(self, x):\n",
    "        # Set initial hidden and cell states\n",
    "        #*2 because it's bidirectional\n",
    "        h0 = torch.zeros(self.num_layers * 2, x.size(0), self.hidden_dim).to(device).float()\n",
    "        c0 = torch.zeros(self.num_layers * 2, x.size(0), self.hidden_dim).to(device).float()\n",
    "        \n",
    "        # Forward propagate LSTM\n",
    "        out, _ = self.lstm(x, (h0, c0)) # out: tensor of shape (batch_size, seq_length, hidden_size)\n",
    "        \n",
    "        # Decode the hidden state of the last time step\n",
    "        out = self.fc(out[:, -1, :]) \n",
    "        out = self.softmax(out)\n",
    "\n",
    "        return out"
   ]
  },
  {
   "cell_type": "markdown",
   "id": "78a86664-0259-4162-9e87-f733363a9eb8",
   "metadata": {},
   "source": [
    "### Hyperparameter and defining model"
   ]
  },
  {
   "cell_type": "code",
   "execution_count": 40,
   "id": "346f6380-5163-4b26-89f3-0b2b11540323",
   "metadata": {},
   "outputs": [],
   "source": [
    "input_dim = 310\n",
    "hidden_dim=150\n",
    "num_layers=2\n",
    "num_classes=3\n",
    "bidirectional = True\n",
    "dropout = 0.5\n",
    "batch_size=256\n",
    "#LSTM\n",
    "model_lstm = LSTM(input_dim, hidden_dim, num_layers, num_classes, bidirectional, dropout)\n",
    "model_lstm = model_lstm.float() #define precision as float to reduce running time\n"
   ]
  },
  {
   "cell_type": "markdown",
   "id": "d528f054-84c6-4660-ad95-8f41603c1124",
   "metadata": {},
   "source": [
    "### optimizer and loss function"
   ]
  },
  {
   "cell_type": "code",
   "execution_count": 41,
   "id": "1db9d3b9-999d-4143-8dae-e7f55bd90d54",
   "metadata": {},
   "outputs": [],
   "source": [
    "import torch.optim as optim\n",
    "\n",
    "learning_rate = 0.01\n",
    "\n",
    "optimizer = optim.Adam(model_lstm.parameters())\n",
    "criterion = nn.NLLLoss()\n",
    "optimizer = torch.optim.Adam(model_lstm.parameters(), lr=learning_rate)"
   ]
  },
  {
   "cell_type": "markdown",
   "id": "8c0ccd3d-70a9-495e-a9b4-28c26430633b",
   "metadata": {},
   "source": [
    "### Put them into GPU if possible"
   ]
  },
  {
   "cell_type": "code",
   "execution_count": 42,
   "id": "db17a09d-5144-4f2e-8981-c478ce902878",
   "metadata": {},
   "outputs": [
    {
     "name": "stdout",
     "output_type": "stream",
     "text": [
      "Configured device:  cuda\n"
     ]
    }
   ],
   "source": [
    "device = torch.device('cuda' if torch.cuda.is_available() else 'cpu')\n",
    "print(\"Configured device: \", device)"
   ]
  },
  {
   "cell_type": "code",
   "execution_count": 43,
   "id": "ab642099-d77f-4755-bf39-6ba4d7ae570d",
   "metadata": {},
   "outputs": [],
   "source": [
    "model = model_lstm.to(device)\n",
    "criterion = criterion.to(device)"
   ]
  },
  {
   "cell_type": "code",
   "execution_count": 44,
   "id": "9561937b-2222-40f1-887c-f3c605fba55e",
   "metadata": {},
   "outputs": [],
   "source": [
    "train_loader = torch.utils.data.DataLoader(train, batch_size = batch_size, shuffle = True)\n",
    "test_loader = torch.utils.data.DataLoader(test, batch_size = batch_size, shuffle = True)"
   ]
  },
  {
   "cell_type": "markdown",
   "id": "c03a20c9-e1a0-4760-9995-041aefa4bc2f",
   "metadata": {},
   "source": [
    "### Define the training process. We set model.train() so dropout is applied."
   ]
  },
  {
   "cell_type": "code",
   "execution_count": 45,
   "id": "65d0ee36-2c2a-440a-ad08-dc1f8fca0230",
   "metadata": {},
   "outputs": [],
   "source": [
    "def train(model, iterator, optimizer, criterion):\n",
    "    total = 0\n",
    "    correct = 0\n",
    "    epoch_loss = 0\n",
    "    epoch_acc = 0\n",
    "    \n",
    "    model.train()\n",
    "    \n",
    "    for i, (X_train, Y_train) in enumerate(train_loader):\n",
    "        \n",
    "        \n",
    "        #Move tensors to the configured device\n",
    "        X_train = X_train.to(device)\n",
    "        Y_train = Y_train.to(device).long()\n",
    "        \n",
    "        #Forward pass\n",
    "        outputs = model(X_train.float())\n",
    "        loss = criterion(outputs, Y_train)\n",
    "        \n",
    "        # Backward and optimize\n",
    "        optimizer.zero_grad()\n",
    "        loss.backward()\n",
    "        optimizer.step()\n",
    "                \n",
    "        #check accuracy\n",
    "        predictions = model(X_train.float())\n",
    "        _, predicted = torch.max(predictions.data, 1)  #returns max value, indices\n",
    "        total += Y_train.size(0)  #keep track of total\n",
    "        correct += (predicted == Y_train).sum().item()  #.item() give the raw number\n",
    "        acc = 100 * (correct / total)\n",
    "                \n",
    "        epoch_loss += loss.item()\n",
    "        epoch_acc = acc\n",
    "        \n",
    "    return epoch_loss / len(iterator), epoch_acc"
   ]
  },
  {
   "cell_type": "markdown",
   "id": "f501ae2c-5873-472f-a3bb-0ee705ce0eeb",
   "metadata": {},
   "source": [
    "### Testing process. We define a function for testing our model. We wet model.eval() since we do not use dropout."
   ]
  },
  {
   "cell_type": "code",
   "execution_count": 46,
   "id": "831e3804-765a-4b6a-9f22-0fc636313df2",
   "metadata": {},
   "outputs": [],
   "source": [
    "def evaluate(model, iterator, criterion):\n",
    "    \n",
    "    total = 0\n",
    "    correct = 0\n",
    "    epoch_loss = 0\n",
    "    epoch_acc = 0\n",
    "    \n",
    "    model.eval()\n",
    "    \n",
    "    with torch.no_grad():\n",
    "    \n",
    "        for i, (X_test, Y_test) in enumerate(test_loader):\n",
    "            \n",
    "            #Move tensors to the configured device\n",
    "            X_test = X_test.to(device)\n",
    "            Y_test = Y_test.to(device).long()\n",
    "\n",
    "            predictions = model(X_test.float())\n",
    "            loss = criterion(predictions, Y_test)\n",
    "\n",
    "            _, predicted = torch.max(predictions.data, 1)  #returns max value, indices\n",
    "            total += Y_test.size(0)  #keep track of total\n",
    "            correct += (predicted == Y_test).sum().item()  #.item() give the raw number\n",
    "            acc = 100 * (correct / total)\n",
    "            \n",
    "            epoch_loss += loss.item()\n",
    "            epoch_acc = acc\n",
    "        \n",
    "    return epoch_loss / len(iterator), epoch_acc"
   ]
  },
  {
   "cell_type": "markdown",
   "id": "22ca791a-07aa-4ae5-9772-38644a560d1e",
   "metadata": {},
   "source": [
    "### We will also define a time function useful for calculating time"
   ]
  },
  {
   "cell_type": "code",
   "execution_count": 47,
   "id": "fff4ada9-efc7-4183-9a5b-01d9cc4ac540",
   "metadata": {},
   "outputs": [],
   "source": [
    "import time\n",
    "\n",
    "def epoch_time(start_time, end_time):\n",
    "    elapsed_time = end_time - start_time\n",
    "    elapsed_mins = int(elapsed_time / 60)\n",
    "    elapsed_secs = int(elapsed_time - (elapsed_mins * 60))\n",
    "    return elapsed_mins, elapsed_secs"
   ]
  },
  {
   "cell_type": "markdown",
   "id": "331ae697-9df4-4154-a98e-9b48a83e92ee",
   "metadata": {},
   "source": [
    "### Train our model."
   ]
  },
  {
   "cell_type": "code",
   "execution_count": 48,
   "id": "89c432d9-66a6-4532-b02e-293da27e7a41",
   "metadata": {},
   "outputs": [
    {
     "name": "stdout",
     "output_type": "stream",
     "text": [
      "Training LSTM\n",
      "Epoch: 05 | Epoch Time: 0m 0s\n",
      "\tTrain Loss: 0.843 | Train Acc: 56.86%\n",
      "\t Val. Loss: 0.717 |  Val. Acc: 62.70%\n",
      "Epoch: 10 | Epoch Time: 0m 0s\n",
      "\tTrain Loss: 0.607 | Train Acc: 70.95%\n",
      "\t Val. Loss: 0.561 |  Val. Acc: 76.22%\n",
      "Epoch: 15 | Epoch Time: 0m 0s\n",
      "\tTrain Loss: 0.369 | Train Acc: 85.43%\n",
      "\t Val. Loss: 0.496 |  Val. Acc: 82.43%\n",
      "Epoch: 20 | Epoch Time: 0m 0s\n",
      "\tTrain Loss: 0.247 | Train Acc: 91.62%\n",
      "\t Val. Loss: 0.327 |  Val. Acc: 88.65%\n",
      "Epoch: 25 | Epoch Time: 0m 0s\n",
      "\tTrain Loss: 0.195 | Train Acc: 93.54%\n",
      "\t Val. Loss: 0.339 |  Val. Acc: 87.84%\n",
      "Epoch: 30 | Epoch Time: 0m 0s\n",
      "\tTrain Loss: 0.276 | Train Acc: 90.70%\n",
      "\t Val. Loss: 0.637 |  Val. Acc: 76.49%\n",
      "Epoch: 35 | Epoch Time: 0m 0s\n",
      "\tTrain Loss: 0.208 | Train Acc: 93.24%\n",
      "\t Val. Loss: 0.326 |  Val. Acc: 92.16%\n",
      "Epoch: 40 | Epoch Time: 0m 0s\n",
      "\tTrain Loss: 0.120 | Train Acc: 96.43%\n",
      "\t Val. Loss: 0.731 |  Val. Acc: 74.32%\n",
      "Epoch: 45 | Epoch Time: 0m 0s\n",
      "\tTrain Loss: 0.100 | Train Acc: 97.00%\n",
      "\t Val. Loss: 0.305 |  Val. Acc: 92.43%\n",
      "Epoch: 50 | Epoch Time: 0m 0s\n",
      "\tTrain Loss: 0.073 | Train Acc: 98.05%\n",
      "\t Val. Loss: 0.208 |  Val. Acc: 92.97%\n",
      "Epoch: 55 | Epoch Time: 0m 0s\n",
      "\tTrain Loss: 0.076 | Train Acc: 97.92%\n",
      "\t Val. Loss: 0.257 |  Val. Acc: 92.43%\n",
      "Epoch: 60 | Epoch Time: 0m 0s\n",
      "\tTrain Loss: 0.077 | Train Acc: 97.59%\n",
      "\t Val. Loss: 0.177 |  Val. Acc: 93.24%\n",
      "Epoch: 65 | Epoch Time: 0m 0s\n",
      "\tTrain Loss: 0.102 | Train Acc: 96.57%\n",
      "\t Val. Loss: 0.219 |  Val. Acc: 91.62%\n",
      "Epoch: 70 | Epoch Time: 0m 0s\n",
      "\tTrain Loss: 0.043 | Train Acc: 98.59%\n",
      "\t Val. Loss: 0.141 |  Val. Acc: 92.16%\n",
      "Epoch: 75 | Epoch Time: 0m 0s\n",
      "\tTrain Loss: 0.123 | Train Acc: 96.14%\n",
      "\t Val. Loss: 0.242 |  Val. Acc: 91.89%\n",
      "Epoch: 80 | Epoch Time: 0m 0s\n",
      "\tTrain Loss: 0.059 | Train Acc: 97.86%\n",
      "\t Val. Loss: 0.172 |  Val. Acc: 91.35%\n",
      "Epoch: 85 | Epoch Time: 0m 0s\n",
      "\tTrain Loss: 0.060 | Train Acc: 97.95%\n",
      "\t Val. Loss: 0.124 |  Val. Acc: 92.16%\n",
      "Epoch: 90 | Epoch Time: 0m 0s\n",
      "\tTrain Loss: 0.061 | Train Acc: 98.11%\n",
      "\t Val. Loss: 0.136 |  Val. Acc: 92.97%\n",
      "Epoch: 95 | Epoch Time: 0m 0s\n",
      "\tTrain Loss: 0.023 | Train Acc: 99.27%\n",
      "\t Val. Loss: 0.031 |  Val. Acc: 100.00%\n",
      "Epoch: 100 | Epoch Time: 0m 0s\n",
      "\tTrain Loss: 0.122 | Train Acc: 96.68%\n",
      "\t Val. Loss: 0.202 |  Val. Acc: 88.38%\n"
     ]
    }
   ],
   "source": [
    "N_EPOCHS = 100\n",
    "\n",
    "best_valid_loss = float('inf')\n",
    "train_losses = []\n",
    "train_accs = []\n",
    "valid_losses = []\n",
    "valid_accs = []\n",
    "\n",
    "\n",
    "print(f\"Training {type(model).__name__}\")\n",
    "    \n",
    "start_time = time.time()\n",
    "\n",
    "for epoch in range(N_EPOCHS):\n",
    "    start_time = time.time()\n",
    "\n",
    "    train_loss, train_acc = train(model, train_loader, optimizer, criterion)\n",
    "    valid_loss, valid_acc = evaluate(model, test_loader, criterion)\n",
    "\n",
    "    end_time = time.time()\n",
    "    #for plotting\n",
    "    train_losses.append(train_loss)\n",
    "    train_accs.append(train_acc)\n",
    "    valid_losses.append(valid_loss)\n",
    "    valid_accs.append(valid_acc)\n",
    "    \n",
    "    epoch_mins, epoch_secs = epoch_time(start_time, end_time)\n",
    "        \n",
    "    if (epoch+1) % 5 == 0:\n",
    "        print(f'Epoch: {epoch+1:02} | Epoch Time: {epoch_mins}m {epoch_secs}s')\n",
    "        print(f'\\tTrain Loss: {train_loss:.3f} | Train Acc: {train_acc:.2f}%')\n",
    "        print(f'\\t Val. Loss: {valid_loss:.3f} |  Val. Acc: {valid_acc:.2f}%')\n",
    "\n",
    "    if valid_loss < best_valid_loss:\n",
    "        best_valid_loss = valid_loss\n",
    "        "
   ]
  },
  {
   "cell_type": "markdown",
   "id": "54ee433d-9527-48b8-b258-087a36259e8b",
   "metadata": {},
   "source": [
    "### Training and Testing loss"
   ]
  },
  {
   "cell_type": "code",
   "execution_count": 49,
   "id": "a201da7e-7418-45e5-a460-50289fca0ce7",
   "metadata": {},
   "outputs": [
    {
     "data": {
      "image/png": "[encoded data removed]",
      "text/plain": [
       "<Figure size 720x432 with 1 Axes>"
      ]
     },
     "metadata": {
      "needs_background": "light"
     },
     "output_type": "display_data"
    }
   ],
   "source": [
    "import matplotlib.pyplot as plt\n",
    "fig = plt.figure(figsize=(10, 6))\n",
    "ax = fig.add_subplot(1, 1, 1)\n",
    "ax.plot(train_losses, label = 'train loss')\n",
    "ax.plot(valid_losses, label = 'valid loss')\n",
    "plt.legend()\n",
    "ax.set_xlabel('updates')\n",
    "ax.set_ylabel('loss')\n",
    "plt.savefig('seed_lstm'+'train_test.png')\n"
   ]
  },
  {
   "cell_type": "markdown",
   "id": "81675135-6130-4494-9428-725c3ffcf03c",
   "metadata": {},
   "source": [
    "### Treaining and Testing Accuracy"
   ]
  },
  {
   "cell_type": "code",
   "execution_count": 50,
   "id": "f1ac3f92-d260-4324-8a2c-516643ffddb6",
   "metadata": {},
   "outputs": [
    {
     "data": {
      "image/png": "[encoded data removed]",
      "text/plain": [
       "<Figure size 720x432 with 1 Axes>"
      ]
     },
     "metadata": {
      "needs_background": "light"
     },
     "output_type": "display_data"
    }
   ],
   "source": [
    "fig = plt.figure(figsize=(10, 6))\n",
    "ax = fig.add_subplot(1, 1, 1)\n",
    "ax.plot(train_accs, label = 'train acc')\n",
    "ax.plot(valid_accs, label = 'valid acc')\n",
    "plt.legend()\n",
    "ax.set_xlabel('updates')\n",
    "ax.set_ylabel('acc')\n",
    "plt.savefig('seed_lstm'+'train_test_accuracy.png')\n"
   ]
  },
  {
   "cell_type": "code",
   "execution_count": null,
   "id": "58c263ea-23d4-4467-b25f-0d8b9a09d5cd",
   "metadata": {},
   "outputs": [],
   "source": []
  }
 ],
 "metadata": {
  "kernelspec": {
   "display_name": "Python 3 (ipykernel)",
   "language": "python",
   "name": "python3"
  },
  "language_info": {
   "codemirror_mode": {
    "name": "ipython",
    "version": 3
   },
   "file_extension": ".py",
   "mimetype": "text/x-python",
   "name": "python",
   "nbconvert_exporter": "python",
   "pygments_lexer": "ipython3",
   "version": "3.9.7"
  }
 },
 "nbformat": 4,
 "nbformat_minor": 5
}
