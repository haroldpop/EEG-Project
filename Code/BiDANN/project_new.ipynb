{
 "cells": [
  {
   "cell_type": "markdown",
   "id": "3aadeae3-a026-4526-bdac-991659394005",
   "metadata": {},
   "source": [
    "### Data Processing"
   ]
  },
  {
   "cell_type": "code",
   "execution_count": 64,
   "id": "86d885ba-603e-46f4-bdbf-2e1a2551c658",
   "metadata": {},
   "outputs": [],
   "source": [
    "import numpy as np\n",
    "from sklearn import preprocessing\n",
    "import os\n",
    "from matplotlib import pyplot as plt\n",
    "from scipy.io import loadmat\n",
    "import glob\n",
    "import pandas as pd"
   ]
  },
  {
   "cell_type": "code",
   "execution_count": 65,
   "id": "776a54dd-a3a5-452d-b83a-ba747e240da1",
   "metadata": {},
   "outputs": [],
   "source": [
    "os.chdir(\"/home/st122388/work/dsai project\")"
   ]
  },
  {
   "cell_type": "markdown",
   "id": "58d001c6-4a04-46b6-bf5d-637609ec0cce",
   "metadata": {},
   "source": [
    "### Preprocessed Data"
   ]
  },
  {
   "cell_type": "code",
   "execution_count": 66,
   "id": "c3292394-56c0-4e67-a542-337300acc4a8",
   "metadata": {},
   "outputs": [
    {
     "data": {
      "text/plain": [
       "dict_keys(['__header__', '__version__', '__globals__', 'djc_eeg1', 'djc_eeg2', 'djc_eeg3', 'djc_eeg4', 'djc_eeg5', 'djc_eeg6', 'djc_eeg7', 'djc_eeg8', 'djc_eeg9', 'djc_eeg10', 'djc_eeg11', 'djc_eeg12', 'djc_eeg13', 'djc_eeg14', 'djc_eeg15'])"
      ]
     },
     "execution_count": 66,
     "metadata": {},
     "output_type": "execute_result"
    }
   ],
   "source": [
    "annots = loadmat('seed/Preprocessed_EEG/1_20131027.mat')\n",
    "annots.keys()\n"
   ]
  },
  {
   "cell_type": "code",
   "execution_count": 67,
   "id": "546c373a-849b-4006-8f5e-95e13361ce8d",
   "metadata": {},
   "outputs": [
    {
     "data": {
      "text/plain": [
       "(numpy.ndarray, (62, 47001))"
      ]
     },
     "execution_count": 67,
     "metadata": {},
     "output_type": "execute_result"
    }
   ],
   "source": [
    "type(annots['djc_eeg1']),annots['djc_eeg1'].shape #type and shape of eeg data"
   ]
  },
  {
   "cell_type": "markdown",
   "id": "e7f11f3e-301c-441e-8418-c3b42d178e85",
   "metadata": {},
   "source": [
    "### EEG1 plot which is already downsampled and in frequency domain"
   ]
  },
  {
   "cell_type": "code",
   "execution_count": 68,
   "id": "b43ebde9-3d47-4590-9359-d3e20dc2c5ce",
   "metadata": {},
   "outputs": [
    {
     "data": {
      "image/png": "[encoded data removed]",
      "text/plain": [
       "<Figure size 432x288 with 1 Axes>"
      ]
     },
     "metadata": {
      "needs_background": "light"
     },
     "output_type": "display_data"
    }
   ],
   "source": [
    "plt.plot(annots['djc_eeg1'][1,:])\n",
    "plt.show()"
   ]
  },
  {
   "cell_type": "markdown",
   "id": "6d92ac6a-60ca-4c7d-b3a5-b2c0fe8efd91",
   "metadata": {},
   "source": [
    "### Since in the paper we need differential entrophy features and the datasets SEED which was provided has preprocessd datsets and features extracted datasets. We used Features Extracted Datasets for this work"
   ]
  },
  {
   "cell_type": "code",
   "execution_count": 74,
   "id": "018ab807-bbb7-4281-ad0c-e7171481fd61",
   "metadata": {},
   "outputs": [],
   "source": [
    "os.chdir('/home/st122388/work/dsai project/seed/ExtractedFeatures')\n",
    "\n",
    "# Get a list for .mat files in current folder\n",
    "mat_files = glob.glob('*.mat')\n",
    "label =loadmat('label.mat')\n",
    "mat_files.remove('label.mat')\n",
    "mat_files_1 = [x for x in mat_files if len(x.split(\"_\")) == 2] \n",
    "mat_files_1.sort(key = lambda x : int(x.split(\"_\")[0]))\n",
    "\n",
    "# List for stroring all the data\n",
    "alldata = []\n",
    "# Iterate mat files\n",
    "for fname in mat_files_1:\n",
    "    # Load mat file data into data.\n",
    "    data = loadmat(fname)\n",
    "    \n",
    "    # Append data to the list\n",
    "    alldata.append(data)\n",
    "    "
   ]
  },
  {
   "cell_type": "code",
   "execution_count": 75,
   "id": "1d0c7b29-3acb-4a76-8f0c-441f1185b306",
   "metadata": {},
   "outputs": [
    {
     "data": {
      "text/plain": [
       "dict_keys(['__header__', '__version__', '__globals__', 'de_movingAve1', 'de_LDS1', 'psd_movingAve1', 'psd_LDS1', 'dasm_movingAve1', 'dasm_LDS1', 'rasm_movingAve1', 'rasm_LDS1', 'asm_movingAve1', 'asm_LDS1', 'dcau_movingAve1', 'dcau_LDS1', 'de_movingAve2', 'de_LDS2', 'psd_movingAve2', 'psd_LDS2', 'dasm_movingAve2', 'dasm_LDS2', 'rasm_movingAve2', 'rasm_LDS2', 'asm_movingAve2', 'asm_LDS2', 'dcau_movingAve2', 'dcau_LDS2', 'de_movingAve3', 'de_LDS3', 'psd_movingAve3', 'psd_LDS3', 'dasm_movingAve3', 'dasm_LDS3', 'rasm_movingAve3', 'rasm_LDS3', 'asm_movingAve3', 'asm_LDS3', 'dcau_movingAve3', 'dcau_LDS3', 'de_movingAve4', 'de_LDS4', 'psd_movingAve4', 'psd_LDS4', 'dasm_movingAve4', 'dasm_LDS4', 'rasm_movingAve4', 'rasm_LDS4', 'asm_movingAve4', 'asm_LDS4', 'dcau_movingAve4', 'dcau_LDS4', 'de_movingAve5', 'de_LDS5', 'psd_movingAve5', 'psd_LDS5', 'dasm_movingAve5', 'dasm_LDS5', 'rasm_movingAve5', 'rasm_LDS5', 'asm_movingAve5', 'asm_LDS5', 'dcau_movingAve5', 'dcau_LDS5', 'de_movingAve6', 'de_LDS6', 'psd_movingAve6', 'psd_LDS6', 'dasm_movingAve6', 'dasm_LDS6', 'rasm_movingAve6', 'rasm_LDS6', 'asm_movingAve6', 'asm_LDS6', 'dcau_movingAve6', 'dcau_LDS6', 'de_movingAve7', 'de_LDS7', 'psd_movingAve7', 'psd_LDS7', 'dasm_movingAve7', 'dasm_LDS7', 'rasm_movingAve7', 'rasm_LDS7', 'asm_movingAve7', 'asm_LDS7', 'dcau_movingAve7', 'dcau_LDS7', 'de_movingAve8', 'de_LDS8', 'psd_movingAve8', 'psd_LDS8', 'dasm_movingAve8', 'dasm_LDS8', 'rasm_movingAve8', 'rasm_LDS8', 'asm_movingAve8', 'asm_LDS8', 'dcau_movingAve8', 'dcau_LDS8', 'de_movingAve9', 'de_LDS9', 'psd_movingAve9', 'psd_LDS9', 'dasm_movingAve9', 'dasm_LDS9', 'rasm_movingAve9', 'rasm_LDS9', 'asm_movingAve9', 'asm_LDS9', 'dcau_movingAve9', 'dcau_LDS9', 'de_movingAve10', 'de_LDS10', 'psd_movingAve10', 'psd_LDS10', 'dasm_movingAve10', 'dasm_LDS10', 'rasm_movingAve10', 'rasm_LDS10', 'asm_movingAve10', 'asm_LDS10', 'dcau_movingAve10', 'dcau_LDS10', 'de_movingAve11', 'de_LDS11', 'psd_movingAve11', 'psd_LDS11', 'dasm_movingAve11', 'dasm_LDS11', 'rasm_movingAve11', 'rasm_LDS11', 'asm_movingAve11', 'asm_LDS11', 'dcau_movingAve11', 'dcau_LDS11', 'de_movingAve12', 'de_LDS12', 'psd_movingAve12', 'psd_LDS12', 'dasm_movingAve12', 'dasm_LDS12', 'rasm_movingAve12', 'rasm_LDS12', 'asm_movingAve12', 'asm_LDS12', 'dcau_movingAve12', 'dcau_LDS12', 'de_movingAve13', 'de_LDS13', 'psd_movingAve13', 'psd_LDS13', 'dasm_movingAve13', 'dasm_LDS13', 'rasm_movingAve13', 'rasm_LDS13', 'asm_movingAve13', 'asm_LDS13', 'dcau_movingAve13', 'dcau_LDS13', 'de_movingAve14', 'de_LDS14', 'psd_movingAve14', 'psd_LDS14', 'dasm_movingAve14', 'dasm_LDS14', 'rasm_movingAve14', 'rasm_LDS14', 'asm_movingAve14', 'asm_LDS14', 'dcau_movingAve14', 'dcau_LDS14', 'de_movingAve15', 'de_LDS15', 'psd_movingAve15', 'psd_LDS15', 'dasm_movingAve15', 'dasm_LDS15', 'rasm_movingAve15', 'rasm_LDS15', 'asm_movingAve15', 'asm_LDS15', 'dcau_movingAve15', 'dcau_LDS15'])"
      ]
     },
     "execution_count": 75,
     "metadata": {},
     "output_type": "execute_result"
    }
   ],
   "source": [
    "data.keys()"
   ]
  },
  {
   "cell_type": "code",
   "execution_count": 81,
   "id": "992a586e-3df6-4a7e-9c5b-8f460b397fbd",
   "metadata": {},
   "outputs": [
    {
     "data": {
      "text/plain": [
       "(62, 235, 5)"
      ]
     },
     "execution_count": 81,
     "metadata": {},
     "output_type": "execute_result"
    }
   ],
   "source": [
    "data['de_LDS1'].shape"
   ]
  },
  {
   "cell_type": "code",
   "execution_count": 82,
   "id": "e3742482-02f7-4659-8108-9cc3f95cba5c",
   "metadata": {},
   "outputs": [],
   "source": [
    "os.chdir('/home/st122388/work/dsai project')\n",
    "columns = pd.read_excel('seed/channel-order.xlsx',header=None)\n",
    "df_list = columns.T.values.tolist()"
   ]
  },
  {
   "cell_type": "code",
   "execution_count": 85,
   "id": "32c87484-e810-4f6d-8718-46bd97750dbf",
   "metadata": {},
   "outputs": [],
   "source": [
    "data_1_1 = loadmat(\"seed/ExtractedFeatures/1_20131027.mat\")"
   ]
  },
  {
   "cell_type": "code",
   "execution_count": 86,
   "id": "b88d805d-8952-4705-a209-61c555b99c3a",
   "metadata": {},
   "outputs": [],
   "source": [
    "label_data =loadmat(\"seed/ExtractedFeatures/label.mat\")\n",
    "label = label_data['label']\n",
    "label = label.reshape(15,)\n",
    "label += 1\n"
   ]
  },
  {
   "cell_type": "code",
   "execution_count": 87,
   "id": "529fb6b0-f383-4324-b226-676863dd6f78",
   "metadata": {},
   "outputs": [],
   "source": [
    "def window_slice(data, time_steps):\n",
    "    data_ = data.copy()\n",
    "    data_ = np.transpose(data_, (1, 0, 2)).reshape(-1, 310) # (n, 310)\n",
    "    \n",
    "    data_st = data_.reshape(data_.shape[0] * data_.shape[1], ) #(n*310, )\n",
    "    data_st = preprocessing.scale(data_st)\n",
    "    data_st += 0.5\n",
    "    data_ = data_st.reshape(data_.shape[0], data_.shape[1]) #(n, 310)\n",
    "    \n",
    "    xs = []\n",
    "    for i in range(int(data_.shape[0] / time_steps)):\n",
    "        k = i*time_steps\n",
    "        xs.append(data_[k: k + time_steps, :])\n",
    "    \n",
    "    xs = np.concatenate(xs).reshape((len(xs), -1, 310))\n",
    "    return xs\n"
   ]
  },
  {
   "cell_type": "code",
   "execution_count": 88,
   "id": "978d4a07-c9be-4f42-acf1-d575bf2fb600",
   "metadata": {},
   "outputs": [],
   "source": [
    "def setData(de_, label_data, time_steps=9):\n",
    "    X = []\n",
    "    y = []   \n",
    "\n",
    "    for data, label_ in zip(de_, list(label_data)):\n",
    "        X.append(window_slice(data, time_steps))\n",
    "        y_np = np.array([label_] * len(X[-1]))\n",
    "        y.append(y_np)\n",
    "    \n",
    "   \n",
    "    return X, y \n",
    "    "
   ]
  },
  {
   "cell_type": "code",
   "execution_count": 89,
   "id": "fea140f2-f5f8-4fe1-85d5-5a0677fb47b9",
   "metadata": {},
   "outputs": [],
   "source": [
    "de_1_1 = []\n",
    "for i in range(1, 16):\n",
    "    de_1_1.append(data_1_1['de_LDS' + str(i)])"
   ]
  },
  {
   "cell_type": "code",
   "execution_count": 118,
   "id": "3afba913-1faa-4eef-a0ca-ece109ecdff4",
   "metadata": {},
   "outputs": [
    {
     "data": {
      "text/plain": [
       "15"
      ]
     },
     "execution_count": 118,
     "metadata": {},
     "output_type": "execute_result"
    }
   ],
   "source": [
    "len(de_1_1)"
   ]
  },
  {
   "cell_type": "code",
   "execution_count": 124,
   "id": "516be352-bd2b-4a0c-82e8-4651dd219960",
   "metadata": {},
   "outputs": [
    {
     "data": {
      "text/html": [
       "<div>\n",
       "<style scoped>\n",
       "    .dataframe tbody tr th:only-of-type {\n",
       "        vertical-align: middle;\n",
       "    }\n",
       "\n",
       "    .dataframe tbody tr th {\n",
       "        vertical-align: top;\n",
       "    }\n",
       "\n",
       "    .dataframe thead tr th {\n",
       "        text-align: left;\n",
       "    }\n",
       "</style>\n",
       "<table border=\"1\" class=\"dataframe\">\n",
       "  <thead>\n",
       "    <tr>\n",
       "      <th></th>\n",
       "      <th>FP1</th>\n",
       "      <th>FPZ</th>\n",
       "      <th>FP2</th>\n",
       "      <th>AF3</th>\n",
       "      <th>AF4</th>\n",
       "      <th>F7</th>\n",
       "      <th>F5</th>\n",
       "      <th>F3</th>\n",
       "      <th>F1</th>\n",
       "      <th>FZ</th>\n",
       "      <th>...</th>\n",
       "      <th>PO3</th>\n",
       "      <th>POZ</th>\n",
       "      <th>PO4</th>\n",
       "      <th>PO6</th>\n",
       "      <th>PO8</th>\n",
       "      <th>CB1</th>\n",
       "      <th>O1</th>\n",
       "      <th>OZ</th>\n",
       "      <th>O2</th>\n",
       "      <th>CB2</th>\n",
       "    </tr>\n",
       "  </thead>\n",
       "  <tbody>\n",
       "    <tr>\n",
       "      <th>0</th>\n",
       "      <td>16.321799</td>\n",
       "      <td>16.349038</td>\n",
       "      <td>17.628318</td>\n",
       "      <td>15.786498</td>\n",
       "      <td>16.499615</td>\n",
       "      <td>24.999267</td>\n",
       "      <td>16.135865</td>\n",
       "      <td>15.637137</td>\n",
       "      <td>15.427287</td>\n",
       "      <td>15.011732</td>\n",
       "      <td>...</td>\n",
       "      <td>16.208599</td>\n",
       "      <td>15.567229</td>\n",
       "      <td>15.591404</td>\n",
       "      <td>34.080594</td>\n",
       "      <td>16.593486</td>\n",
       "      <td>18.181221</td>\n",
       "      <td>17.799844</td>\n",
       "      <td>16.797631</td>\n",
       "      <td>16.149875</td>\n",
       "      <td>16.274071</td>\n",
       "    </tr>\n",
       "    <tr>\n",
       "      <th>1</th>\n",
       "      <td>16.320485</td>\n",
       "      <td>16.348221</td>\n",
       "      <td>17.627077</td>\n",
       "      <td>15.786358</td>\n",
       "      <td>16.497482</td>\n",
       "      <td>24.996706</td>\n",
       "      <td>16.136662</td>\n",
       "      <td>15.637165</td>\n",
       "      <td>15.427073</td>\n",
       "      <td>15.010902</td>\n",
       "      <td>...</td>\n",
       "      <td>16.208999</td>\n",
       "      <td>15.567917</td>\n",
       "      <td>15.592428</td>\n",
       "      <td>34.077694</td>\n",
       "      <td>16.595417</td>\n",
       "      <td>18.181815</td>\n",
       "      <td>17.800621</td>\n",
       "      <td>16.797784</td>\n",
       "      <td>16.150886</td>\n",
       "      <td>16.275114</td>\n",
       "    </tr>\n",
       "    <tr>\n",
       "      <th>2</th>\n",
       "      <td>16.319542</td>\n",
       "      <td>16.347175</td>\n",
       "      <td>17.625874</td>\n",
       "      <td>15.787071</td>\n",
       "      <td>16.495080</td>\n",
       "      <td>24.994424</td>\n",
       "      <td>16.138010</td>\n",
       "      <td>15.638677</td>\n",
       "      <td>15.427371</td>\n",
       "      <td>15.010715</td>\n",
       "      <td>...</td>\n",
       "      <td>16.209414</td>\n",
       "      <td>15.568421</td>\n",
       "      <td>15.592745</td>\n",
       "      <td>34.074293</td>\n",
       "      <td>16.596280</td>\n",
       "      <td>18.182809</td>\n",
       "      <td>17.801498</td>\n",
       "      <td>16.798163</td>\n",
       "      <td>16.151321</td>\n",
       "      <td>16.276002</td>\n",
       "    </tr>\n",
       "    <tr>\n",
       "      <th>3</th>\n",
       "      <td>16.317654</td>\n",
       "      <td>16.345698</td>\n",
       "      <td>17.624445</td>\n",
       "      <td>15.787162</td>\n",
       "      <td>16.492249</td>\n",
       "      <td>24.991948</td>\n",
       "      <td>16.139073</td>\n",
       "      <td>15.639345</td>\n",
       "      <td>15.427457</td>\n",
       "      <td>15.010086</td>\n",
       "      <td>...</td>\n",
       "      <td>16.209238</td>\n",
       "      <td>15.568091</td>\n",
       "      <td>15.592194</td>\n",
       "      <td>34.070284</td>\n",
       "      <td>16.595174</td>\n",
       "      <td>18.182698</td>\n",
       "      <td>17.801277</td>\n",
       "      <td>16.797880</td>\n",
       "      <td>16.151141</td>\n",
       "      <td>16.275940</td>\n",
       "    </tr>\n",
       "    <tr>\n",
       "      <th>4</th>\n",
       "      <td>16.314805</td>\n",
       "      <td>16.343662</td>\n",
       "      <td>17.623075</td>\n",
       "      <td>15.786447</td>\n",
       "      <td>16.489451</td>\n",
       "      <td>24.989954</td>\n",
       "      <td>16.139744</td>\n",
       "      <td>15.639402</td>\n",
       "      <td>15.427397</td>\n",
       "      <td>15.008763</td>\n",
       "      <td>...</td>\n",
       "      <td>16.208440</td>\n",
       "      <td>15.567549</td>\n",
       "      <td>15.591418</td>\n",
       "      <td>34.065605</td>\n",
       "      <td>16.593156</td>\n",
       "      <td>18.182075</td>\n",
       "      <td>17.800546</td>\n",
       "      <td>16.797387</td>\n",
       "      <td>16.150713</td>\n",
       "      <td>16.275443</td>\n",
       "    </tr>\n",
       "    <tr>\n",
       "      <th>...</th>\n",
       "      <td>...</td>\n",
       "      <td>...</td>\n",
       "      <td>...</td>\n",
       "      <td>...</td>\n",
       "      <td>...</td>\n",
       "      <td>...</td>\n",
       "      <td>...</td>\n",
       "      <td>...</td>\n",
       "      <td>...</td>\n",
       "      <td>...</td>\n",
       "      <td>...</td>\n",
       "      <td>...</td>\n",
       "      <td>...</td>\n",
       "      <td>...</td>\n",
       "      <td>...</td>\n",
       "      <td>...</td>\n",
       "      <td>...</td>\n",
       "      <td>...</td>\n",
       "      <td>...</td>\n",
       "      <td>...</td>\n",
       "      <td>...</td>\n",
       "    </tr>\n",
       "    <tr>\n",
       "      <th>228</th>\n",
       "      <td>16.651671</td>\n",
       "      <td>16.592449</td>\n",
       "      <td>17.973199</td>\n",
       "      <td>15.857479</td>\n",
       "      <td>16.709198</td>\n",
       "      <td>25.539646</td>\n",
       "      <td>16.035937</td>\n",
       "      <td>15.556104</td>\n",
       "      <td>15.411796</td>\n",
       "      <td>15.001453</td>\n",
       "      <td>...</td>\n",
       "      <td>16.060899</td>\n",
       "      <td>15.354053</td>\n",
       "      <td>15.307884</td>\n",
       "      <td>33.656078</td>\n",
       "      <td>16.124087</td>\n",
       "      <td>18.063419</td>\n",
       "      <td>17.663508</td>\n",
       "      <td>16.754186</td>\n",
       "      <td>15.858928</td>\n",
       "      <td>16.048917</td>\n",
       "    </tr>\n",
       "    <tr>\n",
       "      <th>229</th>\n",
       "      <td>16.654200</td>\n",
       "      <td>16.593917</td>\n",
       "      <td>17.975136</td>\n",
       "      <td>15.860135</td>\n",
       "      <td>16.712268</td>\n",
       "      <td>25.539091</td>\n",
       "      <td>16.038060</td>\n",
       "      <td>15.557927</td>\n",
       "      <td>15.412726</td>\n",
       "      <td>15.003112</td>\n",
       "      <td>...</td>\n",
       "      <td>16.063209</td>\n",
       "      <td>15.356620</td>\n",
       "      <td>15.310035</td>\n",
       "      <td>33.659411</td>\n",
       "      <td>16.126720</td>\n",
       "      <td>18.066603</td>\n",
       "      <td>17.666368</td>\n",
       "      <td>16.757452</td>\n",
       "      <td>15.861440</td>\n",
       "      <td>16.051965</td>\n",
       "    </tr>\n",
       "    <tr>\n",
       "      <th>230</th>\n",
       "      <td>16.655977</td>\n",
       "      <td>16.595278</td>\n",
       "      <td>17.976392</td>\n",
       "      <td>15.861788</td>\n",
       "      <td>16.714565</td>\n",
       "      <td>25.539162</td>\n",
       "      <td>16.039261</td>\n",
       "      <td>15.558963</td>\n",
       "      <td>15.412959</td>\n",
       "      <td>15.004138</td>\n",
       "      <td>...</td>\n",
       "      <td>16.065705</td>\n",
       "      <td>15.358822</td>\n",
       "      <td>15.312347</td>\n",
       "      <td>33.661959</td>\n",
       "      <td>16.129459</td>\n",
       "      <td>18.069466</td>\n",
       "      <td>17.669147</td>\n",
       "      <td>16.760438</td>\n",
       "      <td>15.864085</td>\n",
       "      <td>16.054410</td>\n",
       "    </tr>\n",
       "    <tr>\n",
       "      <th>231</th>\n",
       "      <td>16.657250</td>\n",
       "      <td>16.596418</td>\n",
       "      <td>17.976415</td>\n",
       "      <td>15.863153</td>\n",
       "      <td>16.715678</td>\n",
       "      <td>25.538854</td>\n",
       "      <td>16.040203</td>\n",
       "      <td>15.560164</td>\n",
       "      <td>15.412679</td>\n",
       "      <td>15.004557</td>\n",
       "      <td>...</td>\n",
       "      <td>16.067600</td>\n",
       "      <td>15.360841</td>\n",
       "      <td>15.314449</td>\n",
       "      <td>33.663454</td>\n",
       "      <td>16.132100</td>\n",
       "      <td>18.071700</td>\n",
       "      <td>17.671373</td>\n",
       "      <td>16.762481</td>\n",
       "      <td>15.866571</td>\n",
       "      <td>16.056757</td>\n",
       "    </tr>\n",
       "    <tr>\n",
       "      <th>232</th>\n",
       "      <td>16.658019</td>\n",
       "      <td>16.597185</td>\n",
       "      <td>17.976882</td>\n",
       "      <td>15.863808</td>\n",
       "      <td>16.716359</td>\n",
       "      <td>25.538368</td>\n",
       "      <td>16.040353</td>\n",
       "      <td>15.561011</td>\n",
       "      <td>15.412792</td>\n",
       "      <td>15.004715</td>\n",
       "      <td>...</td>\n",
       "      <td>16.069546</td>\n",
       "      <td>15.362738</td>\n",
       "      <td>15.316508</td>\n",
       "      <td>33.664340</td>\n",
       "      <td>16.135248</td>\n",
       "      <td>18.074196</td>\n",
       "      <td>17.673754</td>\n",
       "      <td>16.764638</td>\n",
       "      <td>15.869236</td>\n",
       "      <td>16.059286</td>\n",
       "    </tr>\n",
       "  </tbody>\n",
       "</table>\n",
       "<p>233 rows × 62 columns</p>\n",
       "</div>"
      ],
      "text/plain": [
       "           FP1        FPZ        FP2        AF3        AF4         F7  \\\n",
       "0    16.321799  16.349038  17.628318  15.786498  16.499615  24.999267   \n",
       "1    16.320485  16.348221  17.627077  15.786358  16.497482  24.996706   \n",
       "2    16.319542  16.347175  17.625874  15.787071  16.495080  24.994424   \n",
       "3    16.317654  16.345698  17.624445  15.787162  16.492249  24.991948   \n",
       "4    16.314805  16.343662  17.623075  15.786447  16.489451  24.989954   \n",
       "..         ...        ...        ...        ...        ...        ...   \n",
       "228  16.651671  16.592449  17.973199  15.857479  16.709198  25.539646   \n",
       "229  16.654200  16.593917  17.975136  15.860135  16.712268  25.539091   \n",
       "230  16.655977  16.595278  17.976392  15.861788  16.714565  25.539162   \n",
       "231  16.657250  16.596418  17.976415  15.863153  16.715678  25.538854   \n",
       "232  16.658019  16.597185  17.976882  15.863808  16.716359  25.538368   \n",
       "\n",
       "            F5         F3         F1         FZ  ...        PO3        POZ  \\\n",
       "0    16.135865  15.637137  15.427287  15.011732  ...  16.208599  15.567229   \n",
       "1    16.136662  15.637165  15.427073  15.010902  ...  16.208999  15.567917   \n",
       "2    16.138010  15.638677  15.427371  15.010715  ...  16.209414  15.568421   \n",
       "3    16.139073  15.639345  15.427457  15.010086  ...  16.209238  15.568091   \n",
       "4    16.139744  15.639402  15.427397  15.008763  ...  16.208440  15.567549   \n",
       "..         ...        ...        ...        ...  ...        ...        ...   \n",
       "228  16.035937  15.556104  15.411796  15.001453  ...  16.060899  15.354053   \n",
       "229  16.038060  15.557927  15.412726  15.003112  ...  16.063209  15.356620   \n",
       "230  16.039261  15.558963  15.412959  15.004138  ...  16.065705  15.358822   \n",
       "231  16.040203  15.560164  15.412679  15.004557  ...  16.067600  15.360841   \n",
       "232  16.040353  15.561011  15.412792  15.004715  ...  16.069546  15.362738   \n",
       "\n",
       "           PO4        PO6        PO8        CB1         O1         OZ  \\\n",
       "0    15.591404  34.080594  16.593486  18.181221  17.799844  16.797631   \n",
       "1    15.592428  34.077694  16.595417  18.181815  17.800621  16.797784   \n",
       "2    15.592745  34.074293  16.596280  18.182809  17.801498  16.798163   \n",
       "3    15.592194  34.070284  16.595174  18.182698  17.801277  16.797880   \n",
       "4    15.591418  34.065605  16.593156  18.182075  17.800546  16.797387   \n",
       "..         ...        ...        ...        ...        ...        ...   \n",
       "228  15.307884  33.656078  16.124087  18.063419  17.663508  16.754186   \n",
       "229  15.310035  33.659411  16.126720  18.066603  17.666368  16.757452   \n",
       "230  15.312347  33.661959  16.129459  18.069466  17.669147  16.760438   \n",
       "231  15.314449  33.663454  16.132100  18.071700  17.671373  16.762481   \n",
       "232  15.316508  33.664340  16.135248  18.074196  17.673754  16.764638   \n",
       "\n",
       "            O2        CB2  \n",
       "0    16.149875  16.274071  \n",
       "1    16.150886  16.275114  \n",
       "2    16.151321  16.276002  \n",
       "3    16.151141  16.275940  \n",
       "4    16.150713  16.275443  \n",
       "..         ...        ...  \n",
       "228  15.858928  16.048917  \n",
       "229  15.861440  16.051965  \n",
       "230  15.864085  16.054410  \n",
       "231  15.866571  16.056757  \n",
       "232  15.869236  16.059286  \n",
       "\n",
       "[233 rows x 62 columns]"
      ]
     },
     "execution_count": 124,
     "metadata": {},
     "output_type": "execute_result"
    }
   ],
   "source": [
    "de_1_1_1 = pd.DataFrame(np.array(de_1_1[1][:,:,4]).T,columns=df_list)\n",
    "de_1_1_1"
   ]
  },
  {
   "cell_type": "markdown",
   "id": "ee7ebbb3-4034-4dc0-9a99-1f46482495b1",
   "metadata": {},
   "source": [
    "We used 31 right hemispheric electrodes and 31 left hemispheric elctrodes for input according to the paper"
   ]
  },
  {
   "cell_type": "code",
   "execution_count": 125,
   "id": "736434f1-e985-4236-9101-b794fd0c1d2d",
   "metadata": {},
   "outputs": [],
   "source": [
    "de_1_1_1_left = de_1_1_1.loc[:,['FP1', 'AF3', 'F7', 'F5', 'F3',\n",
    "'F1','FT7', 'FC5', 'FC3', 'FC1', 'T7', 'C5', 'C3', 'C1', 'TP7', 'CP5', 'CP3',\n",
    "'CP1', 'P7', 'P5', 'P3', 'P1', 'PO7', 'PO5', 'PO3', 'CB1', 'O1', 'FPZ', 'FCZ',\n",
    "'CPZ', 'POZ']]"
   ]
  },
  {
   "cell_type": "code",
   "execution_count": 126,
   "id": "9022fb67-ac2c-47c6-844a-2b99588cc0e8",
   "metadata": {},
   "outputs": [],
   "source": [
    "de_1_1_1_right = de_1_1_1.loc[:,['FP2', 'AF4', 'F8',\n",
    "'F6', 'F4', 'F2', 'FT8', 'FC6', 'FC4', 'FC2', 'T8', 'C6', 'C4', 'C2', 'TP8', 'CP6',\n",
    "'CP4', 'CP2', 'P8', 'P6', 'P4', 'P2', 'PO8', 'PO6', 'PO4', 'CB2', 'O2', 'FZ', 'CZ',\n",
    "'PZ', 'OZ']]"
   ]
  },
  {
   "cell_type": "code",
   "execution_count": 127,
   "id": "b5437cf4-5e16-42c4-840c-7f45f05c6a57",
   "metadata": {},
   "outputs": [
    {
     "data": {
      "image/png": "[encoded data removed]",
      "text/plain": [
       "<Figure size 432x288 with 1 Axes>"
      ]
     },
     "metadata": {
      "needs_background": "light"
     },
     "output_type": "display_data"
    }
   ],
   "source": [
    "plt.plot(de_1_1[1][:,:,4])\n",
    "plt.show()"
   ]
  },
  {
   "cell_type": "code",
   "execution_count": 90,
   "id": "f1afb0d3-de0f-46f6-be5c-0cbbdffdd663",
   "metadata": {},
   "outputs": [],
   "source": [
    "x1, y1 = setData(de_1_1, label)"
   ]
  },
  {
   "cell_type": "code",
   "execution_count": 91,
   "id": "2a1c3150-57a1-4c7e-ac88-b2dc514f5338",
   "metadata": {},
   "outputs": [],
   "source": [
    "EEG_data = []\n",
    "label_all = []\n",
    "EEG_data.append(x1)\n",
    "label_all.append(y1)"
   ]
  },
  {
   "cell_type": "code",
   "execution_count": 92,
   "id": "c9b0d73b-a6e0-4295-97d0-797bd900811f",
   "metadata": {},
   "outputs": [
    {
     "data": {
      "text/plain": [
       "[[array([2, 2, 2, 2, 2, 2, 2, 2, 2, 2, 2, 2, 2, 2, 2, 2, 2, 2, 2, 2, 2, 2,\n",
       "         2, 2, 2, 2], dtype=int16),\n",
       "  array([1, 1, 1, 1, 1, 1, 1, 1, 1, 1, 1, 1, 1, 1, 1, 1, 1, 1, 1, 1, 1, 1,\n",
       "         1, 1, 1], dtype=int16),\n",
       "  array([0, 0, 0, 0, 0, 0, 0, 0, 0, 0, 0, 0, 0, 0, 0, 0, 0, 0, 0, 0, 0, 0],\n",
       "        dtype=int16),\n",
       "  array([0, 0, 0, 0, 0, 0, 0, 0, 0, 0, 0, 0, 0, 0, 0, 0, 0, 0, 0, 0, 0, 0,\n",
       "         0, 0, 0, 0], dtype=int16),\n",
       "  array([1, 1, 1, 1, 1, 1, 1, 1, 1, 1, 1, 1, 1, 1, 1, 1, 1, 1, 1, 1],\n",
       "        dtype=int16),\n",
       "  array([2, 2, 2, 2, 2, 2, 2, 2, 2, 2, 2, 2, 2, 2, 2, 2, 2, 2, 2, 2, 2],\n",
       "        dtype=int16),\n",
       "  array([0, 0, 0, 0, 0, 0, 0, 0, 0, 0, 0, 0, 0, 0, 0, 0, 0, 0, 0, 0, 0, 0,\n",
       "         0, 0, 0, 0], dtype=int16),\n",
       "  array([1, 1, 1, 1, 1, 1, 1, 1, 1, 1, 1, 1, 1, 1, 1, 1, 1, 1, 1, 1, 1, 1,\n",
       "         1, 1], dtype=int16),\n",
       "  array([2, 2, 2, 2, 2, 2, 2, 2, 2, 2, 2, 2, 2, 2, 2, 2, 2, 2, 2, 2, 2, 2,\n",
       "         2, 2, 2, 2, 2, 2, 2], dtype=int16),\n",
       "  array([2, 2, 2, 2, 2, 2, 2, 2, 2, 2, 2, 2, 2, 2, 2, 2, 2, 2, 2, 2, 2, 2,\n",
       "         2, 2, 2, 2], dtype=int16),\n",
       "  array([1, 1, 1, 1, 1, 1, 1, 1, 1, 1, 1, 1, 1, 1, 1, 1, 1, 1, 1, 1, 1, 1,\n",
       "         1, 1, 1, 1], dtype=int16),\n",
       "  array([0, 0, 0, 0, 0, 0, 0, 0, 0, 0, 0, 0, 0, 0, 0, 0, 0, 0, 0, 0, 0, 0,\n",
       "         0, 0, 0], dtype=int16),\n",
       "  array([1, 1, 1, 1, 1, 1, 1, 1, 1, 1, 1, 1, 1, 1, 1, 1, 1, 1, 1, 1, 1, 1,\n",
       "         1, 1, 1, 1], dtype=int16),\n",
       "  array([2, 2, 2, 2, 2, 2, 2, 2, 2, 2, 2, 2, 2, 2, 2, 2, 2, 2, 2, 2, 2, 2,\n",
       "         2, 2, 2, 2], dtype=int16),\n",
       "  array([0, 0, 0, 0, 0, 0, 0, 0, 0, 0, 0, 0, 0, 0, 0, 0, 0, 0, 0, 0, 0, 0],\n",
       "        dtype=int16)]]"
      ]
     },
     "execution_count": 92,
     "metadata": {},
     "output_type": "execute_result"
    }
   ],
   "source": [
    "label_all"
   ]
  },
  {
   "cell_type": "markdown",
   "id": "26c97a64-458d-4b98-a1ba-b6aa96cd8536",
   "metadata": {},
   "source": [
    "### Feature Extraction "
   ]
  },
  {
   "cell_type": "code",
   "execution_count": 130,
   "id": "f91aa0f7-8537-44e0-ba58-50ffc4447128",
   "metadata": {},
   "outputs": [],
   "source": [
    "from torch import nn\n",
    "import torch\n"
   ]
  },
  {
   "cell_type": "code",
   "execution_count": 131,
   "id": "b299ba25-9710-42c0-9347-e86fc712846f",
   "metadata": {},
   "outputs": [],
   "source": [
    "class FeatureExtractor(nn.Module):\n",
    "    def __init__(self, lstm_input_dim, lstm_hidden_dim, time_steps, K):\n",
    "        super(FeatureExtractor, self).__init__()\n",
    "\n",
    "        self.lstm = nn.LSTM(input_size = lstm_input_dim, \n",
    "                           hidden_size = lstm_hidden_dim,\n",
    "                           batch_first = True\n",
    "                           )\n",
    "\n",
    "        self.dropout = nn.Dropout(p = 0.4) \n",
    "        \n",
    "        self.sigmoid = nn.Sigmoid()\n",
    "        \n",
    "        self.capsule = nn.Linear(time_steps, K)\n",
    "\n",
    "    def forward(self, X_input, hidden0 = None):\n",
    "\n",
    "        lstm_out, _ = self.lstm(X_input) #X_input.shape = (batch_size, time_steps, lstm_hidden_dim)\n",
    "       \n",
    "        out = torch.transpose(lstm_out, 1, 2) #out.shape = (batch_size, lstm_hidden_dim, time_steps)\n",
    "        \n",
    "        H = self.capsule(out) #H.shape = (batch_size, lstm_hidden, K = 3)\n",
    "                \n",
    "        H = H.view(H.shape[0], -1) #H.shape = (batch_size, K * lstm_hidden)\n",
    "        \n",
    "        H = self.sigmoid(H)\n",
    "\n",
    "        H = self.dropout(H)\n",
    "    \n",
    "        return H"
   ]
  },
  {
   "cell_type": "code",
   "execution_count": 132,
   "id": "b9b2b247-12b0-40c3-833f-f9b6430f1c07",
   "metadata": {},
   "outputs": [],
   "source": [
    "class Classifier(nn.Module):\n",
    "    def __init__(self, lstm_hidden_dim, K, class_num):\n",
    "        super(Classifier, self).__init__()\n",
    "\n",
    "        self.dense = nn.Linear(K * lstm_hidden_dim, class_num)\n",
    "\n",
    "        self.dropout = nn.Dropout(p = 0.3)\n",
    "\n",
    "    def forward(self, feature_output):\n",
    "\n",
    "        output = self.dense(feature_output)\n",
    "\n",
    "        output = self.dropout(output)\n",
    "\n",
    "        return output"
   ]
  },
  {
   "cell_type": "markdown",
   "id": "56738ba9-43ab-44d0-902a-e55c47bdc7ae",
   "metadata": {},
   "source": [
    "### Gradient Reverse layer"
   ]
  },
  {
   "cell_type": "code",
   "execution_count": 140,
   "id": "4077ef34-f832-4b4a-8411-384129eef59c",
   "metadata": {},
   "outputs": [],
   "source": [
    "class ReverseLayer():\n",
    "    def forward(self, input, alpha):\n",
    "        self.alpha = alpha\n",
    "\n",
    "   \n",
    "    def backward(self, grad_output): \n",
    "        pass\n",
    "        "
   ]
  },
  {
   "cell_type": "code",
   "execution_count": 141,
   "id": "45b48862-1dfb-4c46-b88b-f5a7119e50b5",
   "metadata": {},
   "outputs": [],
   "source": [
    "epochs_num = 50\n",
    "batch_size = 256\n",
    "lstm_input_dim = 310\n",
    "lstm_hidden_dim = 150\n",
    "time_steps = 9\n",
    "K = 3\n",
    "class_num = 3\n",
    "SGD_lr = 0.01\n",
    "momentum = 0.9\n",
    "weight_decay = 0.01\n"
   ]
  },
  {
   "cell_type": "code",
   "execution_count": 134,
   "id": "eee7c34b-3c44-476c-b879-60d5c6aa55c2",
   "metadata": {},
   "outputs": [],
   "source": [
    "model_F = FeatureExtractor(lstm_input_dim, lstm_hidden_dim, time_steps, K)\n",
    "model_C = Classifier(lstm_hidden_dim, K, class_num)"
   ]
  },
  {
   "cell_type": "code",
   "execution_count": 135,
   "id": "765ca8fd-3cd5-47b4-b8d0-2f7d4ce3ab05",
   "metadata": {},
   "outputs": [
    {
     "data": {
      "text/plain": [
       "FeatureExtractor(\n",
       "  (lstm): LSTM(310, 150, batch_first=True)\n",
       "  (dropout): Dropout(p=0.4, inplace=False)\n",
       "  (sigmoid): Sigmoid()\n",
       "  (capsule): Linear(in_features=9, out_features=3, bias=True)\n",
       ")"
      ]
     },
     "execution_count": 135,
     "metadata": {},
     "output_type": "execute_result"
    }
   ],
   "source": [
    "model_F"
   ]
  },
  {
   "cell_type": "code",
   "execution_count": 136,
   "id": "fe040397-0aaa-46c4-95e6-a79144cff0ac",
   "metadata": {},
   "outputs": [
    {
     "data": {
      "text/plain": [
       "Classifier(\n",
       "  (dense): Linear(in_features=450, out_features=3, bias=True)\n",
       "  (dropout): Dropout(p=0.3, inplace=False)\n",
       ")"
      ]
     },
     "execution_count": 136,
     "metadata": {},
     "output_type": "execute_result"
    }
   ],
   "source": [
    "model_C"
   ]
  },
  {
   "cell_type": "code",
   "execution_count": null,
   "id": "d5deefa1-23bb-46df-950d-6393e3014c5f",
   "metadata": {},
   "outputs": [],
   "source": []
  }
 ],
 "metadata": {
  "kernelspec": {
   "display_name": "Python 3 (ipykernel)",
   "language": "python",
   "name": "python3"
  },
  "language_info": {
   "codemirror_mode": {
    "name": "ipython",
    "version": 3
   },
   "file_extension": ".py",
   "mimetype": "text/x-python",
   "name": "python",
   "nbconvert_exporter": "python",
   "pygments_lexer": "ipython3",
   "version": "3.9.7"
  }
 },
 "nbformat": 4,
 "nbformat_minor": 5
}
